{
 "cells": [
  {
   "cell_type": "markdown",
   "metadata": {},
   "source": [
    "# Anonymisation de données"
   ]
  },
  {
   "cell_type": "markdown",
   "metadata": {},
   "source": [
    "## Imports"
   ]
  },
  {
   "cell_type": "code",
   "execution_count": 1,
   "metadata": {},
   "outputs": [],
   "source": [
    "from pprint import pprint\n",
    "from faker import Faker\n",
    "from faker.providers import internet"
   ]
  },
  {
   "cell_type": "markdown",
   "metadata": {},
   "source": [
    "\"Faker is a Python package that generates fake data for you. Whether you need to bootstrap your database, create good-looking XML documents, fill-in your persistence to stress test it, or anonymize data taken from a production service, Faker is for you.\"\n",
    "\n",
    "https://faker.readthedocs.io/en/master/"
   ]
  },
  {
   "cell_type": "markdown",
   "metadata": {},
   "source": [
    "\"Use `faker.Faker()` to create and initialize a faker generator, which can generate data by accessing properties named after the type of data you want.\""
   ]
  },
  {
   "cell_type": "code",
   "execution_count": 2,
   "metadata": {},
   "outputs": [],
   "source": [
    "fake = Faker()"
   ]
  },
  {
   "cell_type": "markdown",
   "metadata": {},
   "source": [
    "## Créer un faux nom"
   ]
  },
  {
   "cell_type": "code",
   "execution_count": 3,
   "metadata": {},
   "outputs": [
    {
     "name": "stdout",
     "output_type": "stream",
     "text": [
      "Joyce Wade\n"
     ]
    }
   ],
   "source": [
    "print(fake.name())"
   ]
  },
  {
   "cell_type": "code",
   "execution_count": 4,
   "metadata": {},
   "outputs": [
    {
     "name": "stdout",
     "output_type": "stream",
     "text": [
      "Émilie-Madeleine Leblanc\n",
      "Charles Garcia\n",
      "Claudine Lombard-Lagarde\n",
      "Marie Lebrun Le De Sousa\n",
      "Françoise Lelièvre\n",
      "Isaac du Legros\n",
      "Simone Allain\n",
      "Élisabeth-Chantal Schneider\n",
      "Aurore Fournier\n",
      "Frédéric Schmitt\n"
     ]
    }
   ],
   "source": [
    "# Il est possible de créer plusieurs faux noms, ici en français, avec une boucle.\n",
    "fake_fr = Faker('fr_FR')\n",
    "for _ in range(10):\n",
    "    print(fake_fr.name())"
   ]
  },
  {
   "cell_type": "code",
   "execution_count": 5,
   "metadata": {},
   "outputs": [
    {
     "name": "stdout",
     "output_type": "stream",
     "text": [
      "Thijn van Orleans\n",
      "Johanna de Hoogh\n",
      "Norah Doorhof-van de Ven\n",
      "Michelle van der Horst\n",
      "Joy Coenen-Hagendoorn\n",
      "Joey van Dillen\n",
      "Felix Rotteveel\n",
      "Simon Kwaadland\n",
      "Jason van 't Houteveen\n",
      "Melissa van der Maath\n"
     ]
    }
   ],
   "source": [
    "# Même chose en néerlandais.\n",
    "fake_nl = Faker('nl_NL')\n",
    "for _ in range(10):\n",
    "    print(fake_nl.name())"
   ]
  },
  {
   "cell_type": "markdown",
   "metadata": {},
   "source": [
    "## Créer une fausse adresse"
   ]
  },
  {
   "cell_type": "code",
   "execution_count": 6,
   "metadata": {},
   "outputs": [
    {
     "name": "stdout",
     "output_type": "stream",
     "text": [
      "1574 Natalie Island Apt. 112\n",
      "South Joseph, MA 90477\n"
     ]
    }
   ],
   "source": [
    "# Pour créer une fausse adresse.\n",
    "print(fake.address())"
   ]
  },
  {
   "cell_type": "markdown",
   "metadata": {},
   "source": [
    "## Créer une fausse adresse IP"
   ]
  },
  {
   "cell_type": "code",
   "execution_count": 7,
   "metadata": {},
   "outputs": [
    {
     "name": "stdout",
     "output_type": "stream",
     "text": [
      "101.177.55.204\n"
     ]
    }
   ],
   "source": [
    "fake.add_provider(internet)\n",
    "print(fake.ipv4_public())"
   ]
  },
  {
   "cell_type": "markdown",
   "metadata": {},
   "source": [
    "## Créer un faux profil complet"
   ]
  },
  {
   "cell_type": "code",
   "execution_count": 8,
   "metadata": {},
   "outputs": [
    {
     "name": "stdout",
     "output_type": "stream",
     "text": [
      "{'address': '109, avenue Marcelle Pons\\n11530 Sainte Lucy',\n",
      " 'birthdate': datetime.date(1932, 9, 26),\n",
      " 'mail': 'pichonlaurent@club-internet.fr',\n",
      " 'name': 'Colette Blondel',\n",
      " 'sex': 'F',\n",
      " 'username': 'anaislaurent'}\n"
     ]
    }
   ],
   "source": [
    "profile = fake_fr.simple_profile()\n",
    "pprint(profile)"
   ]
  },
  {
   "cell_type": "code",
   "execution_count": null,
   "metadata": {},
   "outputs": [],
   "source": []
  }
 ],
 "metadata": {
  "kernelspec": {
   "display_name": "Python 3 (ipykernel)",
   "language": "python",
   "name": "python3"
  },
  "language_info": {
   "codemirror_mode": {
    "name": "ipython",
    "version": 3
   },
   "file_extension": ".py",
   "mimetype": "text/x-python",
   "name": "python",
   "nbconvert_exporter": "python",
   "pygments_lexer": "ipython3",
   "version": "3.9.7"
  }
 },
 "nbformat": 4,
 "nbformat_minor": 4
}

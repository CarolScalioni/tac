{
 "cells": [
  {
   "cell_type": "code",
   "execution_count": 14,
   "id": "5c6acaf4-4b27-42bd-b4ee-1e8b68e2e9d8",
   "metadata": {},
   "outputs": [
    {
     "name": "stderr",
     "output_type": "stream",
     "text": [
      "[nltk_data] Downloading package stopwords to /root/nltk_data...\n",
      "[nltk_data]   Package stopwords is already up-to-date!\n",
      "[nltk_data] Downloading package stopwords to /root/nltk_data...\n",
      "[nltk_data]   Package stopwords is already up-to-date!\n",
      "[nltk_data] Downloading package stopwords to /root/nltk_data...\n",
      "[nltk_data]   Package stopwords is already up-to-date!\n"
     ]
    }
   ],
   "source": [
    "from collections import Counter\n",
    "from wordcloud import WordCloud\n",
    "import os\n",
    "import nltk\n",
    "nltk.download('stopwords')\n",
    "from nltk.corpus import stopwords\n",
    "from IPython.display import Image\n",
    "\n",
    "import os\n",
    "import yake\n",
    "\n",
    "from collections import defaultdict\n",
    "import os\n",
    "\n",
    "import matplotlib.pyplot as plt\n",
    "import numpy as np\n",
    "import yake\n",
    "\n",
    "import nltk\n",
    "nltk.download('stopwords')\n",
    "from nltk.corpus import stopwords\n",
    "\n",
    "from collections import Counter\n",
    "from wordcloud import WordCloud\n",
    "import os\n",
    "import nltk\n",
    "nltk.download('stopwords')\n",
    "from nltk.corpus import stopwords\n",
    "from IPython.display import Image\n",
    "\n",
    "from collections import defaultdict\n",
    "import sys\n",
    "import spacy\n",
    "from spacy.lang.fr.examples import sentences\n",
    "\n",
    "import sys\n",
    "from textblob import Blobber\n",
    "from textblob_fr import PatternTagger, PatternAnalyzer\n",
    "\n",
    "from datetime import datetime as dt\n",
    "from SPARQLWrapper import SPARQLWrapper, JSON"
   ]
  },
  {
   "cell_type": "markdown",
   "id": "4dad44d5-02e3-494c-9ee0-a92982506c72",
   "metadata": {},
   "source": [
    "## TO ACCESS DATA"
   ]
  },
  {
   "cell_type": "code",
   "execution_count": 7,
   "id": "7e3f4996-7237-408b-9856-894c679aaa52",
   "metadata": {},
   "outputs": [],
   "source": [
    "# Récupération du contenu du fichier\n",
    "path = \"../data/all.txt\"\n",
    "limit = 10**8\n",
    "\n",
    "with open(path) as f:\n",
    "    text = f.read()[:limit]"
   ]
  },
  {
   "cell_type": "markdown",
   "id": "c6cfb5b2-edd8-47db-9a23-891942b719e9",
   "metadata": {},
   "source": [
    "# To count the total number of words"
   ]
  },
  {
   "cell_type": "code",
   "execution_count": 175,
   "id": "14d3c5ae-ae5c-4eff-bd3f-c6114d333629",
   "metadata": {},
   "outputs": [
    {
     "name": "stdout",
     "output_type": "stream",
     "text": [
      "24948338 words found\n"
     ]
    }
   ],
   "source": [
    "# Tokenization\n",
    "words = nltk.wordpunct_tokenize(text)\n",
    "print(f\"{len(words)} words found\")"
   ]
  },
  {
   "cell_type": "code",
   "execution_count": null,
   "id": "872f85a6-f4df-476c-b5c6-e6a554c3be9a",
   "metadata": {},
   "outputs": [],
   "source": [
    "## tirar as stop words"
   ]
  },
  {
   "cell_type": "markdown",
   "id": "9ccf685e-4afb-429f-960c-7fcecc2c3ef4",
   "metadata": {
    "tags": []
   },
   "source": [
    "# To define a list of words to work with"
   ]
  },
  {
   "cell_type": "markdown",
   "id": "c6e42d1d-b015-4d53-a78f-6e9dbd5a677b",
   "metadata": {
    "tags": []
   },
   "source": [
    "## the idea here is to make a request to Wikidata so that I have a list of cultural sites that can later be searched in the corpus"
   ]
  },
  {
   "cell_type": "markdown",
   "id": "3753b997-7dbc-4fbd-b105-41fd07d56d1b",
   "metadata": {},
   "source": [
    "### Finding culture center"
   ]
  },
  {
   "cell_type": "code",
   "execution_count": 176,
   "id": "eecfe683-2d4b-47d6-9c51-181c0958f699",
   "metadata": {
    "tags": []
   },
   "outputs": [
    {
     "name": "stdout",
     "output_type": "stream",
     "text": [
      "\n",
      "14 cultural centers found\n",
      "\n",
      "[{'item': {'type': 'uri', 'value': 'http://www.wikidata.org/entity/Q108196482'}, 'itemLabel': {'xml:lang': 'fr', 'type': 'literal', 'value': 'Les Brigittines'}}, {'item': {'type': 'uri', 'value': 'http://www.wikidata.org/entity/Q1854756'}, 'itemLabel': {'xml:lang': 'fr', 'type': 'literal', 'value': 'Beursschouwburg'}}, {'item': {'type': 'uri', 'value': 'http://www.wikidata.org/entity/Q2285837'}, 'itemLabel': {'xml:lang': 'fr', 'type': 'literal', 'value': 'Bozar'}}, {'item': {'type': 'uri', 'value': 'http://www.wikidata.org/entity/Q3191607'}, 'itemLabel': {'xml:lang': 'fr', 'type': 'literal', 'value': 'Kaaitheater vzw'}}, {'item': {'type': 'uri', 'value': 'http://www.wikidata.org/entity/Q33100459'}, 'itemLabel': {'xml:lang': 'fr', 'type': 'literal', 'value': 'Espace Catastrophe'}}, {'item': {'type': 'uri', 'value': 'http://www.wikidata.org/entity/Q33100511'}, 'itemLabel': {'xml:lang': 'en', 'type': 'literal', 'value': 'Kunstenhuis Pantalone'}}, {'item': {'type': 'uri', 'value': 'http://www.wikidata.org/entity/Q33100603'}, 'itemLabel': {'xml:lang': 'fr', 'type': 'literal', 'value': \"Théâtre de L'L\"}}, {'item': {'type': 'uri', 'value': 'http://www.wikidata.org/entity/Q47144231'}, 'itemLabel': {'xml:lang': 'fr', 'type': 'literal', 'value': 'Argos, Centrum voor Kunst en Media'}}, {'item': {'type': 'uri', 'value': 'http://www.wikidata.org/entity/Q55376222'}, 'itemLabel': {'xml:lang': 'fr', 'type': 'literal', 'value': 'ING Art Center'}}, {'item': {'type': 'uri', 'value': 'http://www.wikidata.org/entity/Q55399926'}, 'itemLabel': {'xml:lang': 'fr', 'type': 'literal', 'value': 'CENTRALE For Contemporary Art'}}, {'item': {'type': 'uri', 'value': 'http://www.wikidata.org/entity/Q62031936'}, 'itemLabel': {'xml:lang': 'en', 'type': 'literal', 'value': 'Design Centre'}}, {'item': {'type': 'uri', 'value': 'http://www.wikidata.org/entity/Q109942598'}, 'itemLabel': {'xml:lang': 'fr', 'type': 'literal', 'value': 'MAD Brussels'}}, {'item': {'type': 'uri', 'value': 'http://www.wikidata.org/entity/Q33100196'}, 'itemLabel': {'xml:lang': 'en', 'type': 'literal', 'value': 'Matrix Art Project'}}, {'item': {'type': 'uri', 'value': 'http://www.wikidata.org/entity/Q33100524'}, 'itemLabel': {'xml:lang': 'fr', 'type': 'literal', 'value': 'Espace Magh'}}]\n"
     ]
    }
   ],
   "source": [
    "# Retrieve results from SPARQL\n",
    "endpoint = \"https://query.wikidata.org/bigdata/namespace/wdq/sparql\"\n",
    "sparql = SPARQLWrapper(endpoint)\n",
    "\n",
    "# P31 = Type or instance of property \n",
    "# P279 = Subclass of\n",
    "# Q1329623 = Cultural center\n",
    "# P131 = located in the administrative territorial entity\n",
    "# Q239 = city of Brussels\n",
    "\n",
    "statement = \"\"\"\n",
    "SELECT ?item ?itemLabel ?coordinates\n",
    "WHERE\n",
    "{\n",
    "  ?item wdt:P31/wdt:P279* wd:Q1329623 ;\n",
    "        wdt:P131 wd:Q239 ;\n",
    "  SERVICE wikibase:label { bd:serviceParam wikibase:language \"fr, en\" }\n",
    "  }\n",
    "\"\"\"\n",
    "\n",
    "sparql.setQuery(statement)\n",
    "sparql.setReturnFormat(JSON)\n",
    "results = sparql.query().convert()\n",
    "\n",
    "rows = results['results']['bindings']\n",
    "print(f\"\\n{len(rows)} cultural centers found\\n\")\n",
    "print(rows[:14])"
   ]
  },
  {
   "cell_type": "markdown",
   "id": "fa96f26b-f5d2-46f4-b2d1-b0e010a4e199",
   "metadata": {
    "tags": []
   },
   "source": [
    "### Finding museums"
   ]
  },
  {
   "cell_type": "code",
   "execution_count": 24,
   "id": "c73cfc71-c026-408c-be1c-b4e3494882cb",
   "metadata": {
    "tags": []
   },
   "outputs": [
    {
     "name": "stdout",
     "output_type": "stream",
     "text": [
      "\n",
      "86 museums found\n",
      "\n",
      "[{'item': {'type': 'uri', 'value': 'http://www.wikidata.org/entity/Q377500'}, 'itemLabel': {'xml:lang': 'fr', 'type': 'literal', 'value': 'Musées royaux des Beaux-Arts de Belgique'}}, {'item': {'type': 'uri', 'value': 'http://www.wikidata.org/entity/Q40710'}, 'itemLabel': {'xml:lang': 'fr', 'type': 'literal', 'value': 'Aquarium de Bruxelles'}}, {'item': {'type': 'uri', 'value': 'http://www.wikidata.org/entity/Q46012'}, 'itemLabel': {'xml:lang': 'fr', 'type': 'literal', 'value': \"maison de l'Histoire européenne\"}}, {'item': {'type': 'uri', 'value': 'http://www.wikidata.org/entity/Q94564'}, 'itemLabel': {'xml:lang': 'fr', 'type': 'literal', 'value': 'Koninklijke Musea voor Kunst en Geschiedenis - Musea van het Verre Oosten'}}, {'item': {'type': 'uri', 'value': 'http://www.wikidata.org/entity/Q2007959'}, 'itemLabel': {'xml:lang': 'fr', 'type': 'literal', 'value': \"Musée d'Ixelles\"}}, {'item': {'type': 'uri', 'value': 'http://www.wikidata.org/entity/Q2009311'}, 'itemLabel': {'xml:lang': 'fr', 'type': 'literal', 'value': 'Museum voor dierkunde ULB Auguste Lameere'}}, {'item': {'type': 'uri', 'value': 'http://www.wikidata.org/entity/Q1324786'}, 'itemLabel': {'xml:lang': 'fr', 'type': 'literal', 'value': 'villa Empain'}}, {'item': {'type': 'uri', 'value': 'http://www.wikidata.org/entity/Q1395176'}, 'itemLabel': {'xml:lang': 'fr', 'type': 'literal', 'value': \"Musée royal de l'Armée et de l'Histoire militaire\"}}, {'item': {'type': 'uri', 'value': 'http://www.wikidata.org/entity/Q1421339'}, 'itemLabel': {'xml:lang': 'fr', 'type': 'literal', 'value': 'Observatoire royal de belgique'}}, {'item': {'type': 'uri', 'value': 'http://www.wikidata.org/entity/Q1686386'}, 'itemLabel': {'xml:lang': 'fr', 'type': 'literal', 'value': 'Museum Van Buuren'}}, {'item': {'type': 'uri', 'value': 'http://www.wikidata.org/entity/Q1903553'}, 'itemLabel': {'xml:lang': 'fr', 'type': 'literal', 'value': 'Théâtre Royal de Toone'}}, {'item': {'type': 'uri', 'value': 'http://www.wikidata.org/entity/Q1937507'}, 'itemLabel': {'xml:lang': 'fr', 'type': 'literal', 'value': 'Bruxella 1238'}}, {'item': {'type': 'uri', 'value': 'http://www.wikidata.org/entity/Q2277238'}, 'itemLabel': {'xml:lang': 'fr', 'type': 'literal', 'value': 'Autoworld Brussels'}}, {'item': {'type': 'uri', 'value': 'http://www.wikidata.org/entity/Q728437'}, 'itemLabel': {'xml:lang': 'fr', 'type': 'literal', 'value': 'BELvue museum'}}, {'item': {'type': 'uri', 'value': 'http://www.wikidata.org/entity/Q815542'}, 'itemLabel': {'xml:lang': 'fr', 'type': 'literal', 'value': 'Centre Belge De La Bande Dessinée'}}, {'item': {'type': 'uri', 'value': 'http://www.wikidata.org/entity/Q945059'}, 'itemLabel': {'xml:lang': 'fr', 'type': 'literal', 'value': \"musées royaux d'Art et d'Histoire\"}}, {'item': {'type': 'uri', 'value': 'http://www.wikidata.org/entity/Q968055'}, 'itemLabel': {'xml:lang': 'fr', 'type': 'literal', 'value': 'musée de la ville de Bruxelles'}}, {'item': {'type': 'uri', 'value': 'http://www.wikidata.org/entity/Q1131821'}, 'itemLabel': {'xml:lang': 'fr', 'type': 'literal', 'value': 'Coudenberg - Voormalig Paleis van Brussel'}}, {'item': {'type': 'uri', 'value': 'http://www.wikidata.org/entity/Q377500'}, 'itemLabel': {'xml:lang': 'fr', 'type': 'literal', 'value': 'Musées royaux des Beaux-Arts de Belgique'}}, {'item': {'type': 'uri', 'value': 'http://www.wikidata.org/entity/Q815542'}, 'itemLabel': {'xml:lang': 'fr', 'type': 'literal', 'value': 'Centre Belge De La Bande Dessinée'}}, {'item': {'type': 'uri', 'value': 'http://www.wikidata.org/entity/Q2285837'}, 'itemLabel': {'xml:lang': 'fr', 'type': 'literal', 'value': 'Bozar'}}, {'item': {'type': 'uri', 'value': 'http://www.wikidata.org/entity/Q3330782'}, 'itemLabel': {'xml:lang': 'fr', 'type': 'literal', 'value': 'Musée Old Masters'}}, {'item': {'type': 'uri', 'value': 'http://www.wikidata.org/entity/Q3328436'}, 'itemLabel': {'xml:lang': 'fr', 'type': 'literal', 'value': 'Museum of original figurines'}}, {'item': {'type': 'uri', 'value': 'http://www.wikidata.org/entity/Q2277238'}, 'itemLabel': {'xml:lang': 'fr', 'type': 'literal', 'value': 'Autoworld Brussels'}}, {'item': {'type': 'uri', 'value': 'http://www.wikidata.org/entity/Q5121082'}, 'itemLabel': {'xml:lang': 'fr', 'type': 'literal', 'value': 'Musée Art & Histoire'}}, {'item': {'type': 'uri', 'value': 'http://www.wikidata.org/entity/Q2860519'}, 'itemLabel': {'xml:lang': 'fr', 'type': 'literal', 'value': 'Archives et Musée de la Littérature'}}, {'item': {'type': 'uri', 'value': 'http://www.wikidata.org/entity/Q2860524'}, 'itemLabel': {'xml:lang': 'fr', 'type': 'literal', 'value': 'Archief en Museum voor het Vlaams Leven te Brussel'}}, {'item': {'type': 'uri', 'value': 'http://www.wikidata.org/entity/Q1922726'}, 'itemLabel': {'xml:lang': 'fr', 'type': 'literal', 'value': 'Cinematek'}}, {'item': {'type': 'uri', 'value': 'http://www.wikidata.org/entity/Q2419294'}, 'itemLabel': {'xml:lang': 'fr', 'type': 'literal', 'value': 'Cinémathèque royale de Belgique'}}, {'item': {'type': 'uri', 'value': 'http://www.wikidata.org/entity/Q1922726'}, 'itemLabel': {'xml:lang': 'fr', 'type': 'literal', 'value': 'Cinematek'}}, {'item': {'type': 'uri', 'value': 'http://www.wikidata.org/entity/Q3329651'}, 'itemLabel': {'xml:lang': 'fr', 'type': 'literal', 'value': 'Museum voor Spontane Kunst'}}, {'item': {'type': 'uri', 'value': 'http://www.wikidata.org/entity/Q3329930'}, 'itemLabel': {'xml:lang': 'fr', 'type': 'literal', 'value': 'Geneeskundemuseum'}}, {'item': {'type': 'uri', 'value': 'http://www.wikidata.org/entity/Q3330255'}, 'itemLabel': {'xml:lang': 'fr', 'type': 'literal', 'value': 'musée des lettres et manuscrits'}}, {'item': {'type': 'uri', 'value': 'http://www.wikidata.org/entity/Q28040696'}, 'itemLabel': {'xml:lang': 'fr', 'type': 'literal', 'value': 'Historium'}}, {'item': {'type': 'uri', 'value': 'http://www.wikidata.org/entity/Q5121082'}, 'itemLabel': {'xml:lang': 'fr', 'type': 'literal', 'value': 'Musée Art & Histoire'}}, {'item': {'type': 'uri', 'value': 'http://www.wikidata.org/entity/Q6974517'}, 'itemLabel': {'xml:lang': 'fr', 'type': 'literal', 'value': 'Nationaal Museum van de Weerstand'}}, {'item': {'type': 'uri', 'value': 'http://www.wikidata.org/entity/Q222297'}, 'itemLabel': {'xml:lang': 'fr', 'type': 'literal', 'value': 'Muséum des sciences naturelles'}}, {'item': {'type': 'uri', 'value': 'http://www.wikidata.org/entity/Q5121082'}, 'itemLabel': {'xml:lang': 'fr', 'type': 'literal', 'value': 'Musée Art & Histoire'}}, {'item': {'type': 'uri', 'value': 'http://www.wikidata.org/entity/Q16665619'}, 'itemLabel': {'xml:lang': 'fr', 'type': 'literal', 'value': 'Belgisch Museum van de Vrijmetselarij'}}, {'item': {'type': 'uri', 'value': 'http://www.wikidata.org/entity/Q16665660'}, 'itemLabel': {'xml:lang': 'fr', 'type': 'literal', 'value': 'Institut royal des Sciences naturelles de Belgique'}}, {'item': {'type': 'uri', 'value': 'http://www.wikidata.org/entity/Q11775274'}, 'itemLabel': {'xml:lang': 'fr', 'type': 'literal', 'value': 'Choco-Story Bruxelles'}}, {'item': {'type': 'uri', 'value': 'http://www.wikidata.org/entity/Q17354571'}, 'itemLabel': {'xml:lang': 'fr', 'type': 'literal', 'value': 'Musée Fin-de-Siècle'}}, {'item': {'type': 'uri', 'value': 'http://www.wikidata.org/entity/Q17635470'}, 'itemLabel': {'xml:lang': 'fr', 'type': 'literal', 'value': \"musée de l'Industrie\"}}, {'item': {'type': 'uri', 'value': 'http://www.wikidata.org/entity/Q19974092'}, 'itemLabel': {'xml:lang': 'fr', 'type': 'literal', 'value': 'Musée de la Banque nationale'}}, {'item': {'type': 'uri', 'value': 'http://www.wikidata.org/entity/Q1131318'}, 'itemLabel': {'xml:lang': 'fr', 'type': 'literal', 'value': 'Musée des instruments de musique'}}, {'item': {'type': 'uri', 'value': 'http://www.wikidata.org/entity/Q23893729'}, 'itemLabel': {'xml:lang': 'fr', 'type': 'literal', 'value': 'Musée des Égoûts'}}, {'item': {'type': 'uri', 'value': 'http://www.wikidata.org/entity/Q23893730'}, 'itemLabel': {'xml:lang': 'fr', 'type': 'literal', 'value': 'Belgisch Museum voor Radiologie'}}, {'item': {'type': 'uri', 'value': 'http://www.wikidata.org/entity/Q23893731'}, 'itemLabel': {'xml:lang': 'fr', 'type': 'literal', 'value': 'Museum van de Boekdrukkunst'}}, {'item': {'type': 'uri', 'value': 'http://www.wikidata.org/entity/Q23893732'}, 'itemLabel': {'xml:lang': 'fr', 'type': 'literal', 'value': 'musée Art)&(marges'}}, {'item': {'type': 'uri', 'value': 'http://www.wikidata.org/entity/Q23893733'}, 'itemLabel': {'xml:lang': 'fr', 'type': 'literal', 'value': \"Musée du Centre public d'action sociale de Bruxelles\"}}, {'item': {'type': 'uri', 'value': 'http://www.wikidata.org/entity/Q23893734'}, 'itemLabel': {'xml:lang': 'fr', 'type': 'literal', 'value': 'Museum van de Orthodoxe Kerk'}}, {'item': {'type': 'uri', 'value': 'http://www.wikidata.org/entity/Q3330786'}, 'itemLabel': {'xml:lang': 'fr', 'type': 'literal', 'value': 'Musée Modern Museum'}}, {'item': {'type': 'uri', 'value': 'http://www.wikidata.org/entity/Q52676370'}, 'itemLabel': {'xml:lang': 'fr', 'type': 'literal', 'value': 'KANAL - Centre Pompidou'}}, {'item': {'type': 'uri', 'value': 'http://www.wikidata.org/entity/Q24203115'}, 'itemLabel': {'xml:lang': 'fr', 'type': 'literal', 'value': 'Museum van de geïntegreerde politie'}}, {'item': {'type': 'uri', 'value': 'http://www.wikidata.org/entity/Q24276476'}, 'itemLabel': {'xml:lang': 'fr', 'type': 'literal', 'value': 'musée du slip'}}, {'item': {'type': 'uri', 'value': 'http://www.wikidata.org/entity/Q28149770'}, 'itemLabel': {'xml:lang': 'fr', 'type': 'literal', 'value': 'Art & Design Atomium Museum'}}, {'item': {'type': 'uri', 'value': 'http://www.wikidata.org/entity/Q29110200'}, 'itemLabel': {'xml:lang': 'fr', 'type': 'literal', 'value': 'Musée des lettres et manuscrits de Bruxelles'}}, {'item': {'type': 'uri', 'value': 'http://www.wikidata.org/entity/Q29533956'}, 'itemLabel': {'xml:lang': 'fr', 'type': 'literal', 'value': 'Museum voor menselijke anatomie en embryologie'}}, {'item': {'type': 'uri', 'value': 'http://www.wikidata.org/entity/Q29534172'}, 'itemLabel': {'xml:lang': 'fr', 'type': 'literal', 'value': 'Museum van de Belgische Brouwers'}}, {'item': {'type': 'uri', 'value': 'http://www.wikidata.org/entity/Q29538809'}, 'itemLabel': {'xml:lang': 'fr', 'type': 'literal', 'value': 'Museum van Geneeskrachtige planten en Farmacie'}}, {'item': {'type': 'uri', 'value': 'http://www.wikidata.org/entity/Q30084627'}, 'itemLabel': {'xml:lang': 'fr', 'type': 'literal', 'value': 'Missiehuis van Scheut|Chinamuseum'}}, {'item': {'type': 'uri', 'value': 'http://www.wikidata.org/entity/Q55083867'}, 'itemLabel': {'xml:lang': 'en', 'type': 'literal', 'value': 'Museum of Erotics and Mythology'}}, {'item': {'type': 'uri', 'value': 'http://www.wikidata.org/entity/Q42418336'}, 'itemLabel': {'xml:lang': 'fr', 'type': 'literal', 'value': \"Musée d'Art Ancien et aile annexe\"}}, {'item': {'type': 'uri', 'value': 'http://www.wikidata.org/entity/Q42432068'}, 'itemLabel': {'xml:lang': 'fr', 'type': 'literal', 'value': 'Gemeentelijk Museum van St. Lambrechts Woluwe'}}, {'item': {'type': 'uri', 'value': 'http://www.wikidata.org/entity/Q55753387'}, 'itemLabel': {'xml:lang': 'fr', 'type': 'literal', 'value': 'CIVA'}}, {'item': {'type': 'uri', 'value': 'http://www.wikidata.org/entity/Q65505113'}, 'itemLabel': {'xml:lang': 'fr', 'type': 'literal', 'value': 'Musée Jijé'}}, {'item': {'type': 'uri', 'value': 'http://www.wikidata.org/entity/Q109919149'}, 'itemLabel': {'type': 'literal', 'value': 'Q109919149'}}, {'item': {'type': 'uri', 'value': 'http://www.wikidata.org/entity/Q99521191'}, 'itemLabel': {'xml:lang': 'fr', 'type': 'literal', 'value': 'KBR museum'}}, {'item': {'type': 'uri', 'value': 'http://www.wikidata.org/entity/Q93941138'}, 'itemLabel': {'xml:lang': 'fr', 'type': 'literal', 'value': 'Pixel Museum'}}, {'item': {'type': 'uri', 'value': 'http://www.wikidata.org/entity/Q106556360'}, 'itemLabel': {'xml:lang': 'fr', 'type': 'literal', 'value': 'Koninklijke Musea voor Kunst en Geschiedenis - Horta- Lambeauxpaviljoen'}}, {'item': {'type': 'uri', 'value': 'http://www.wikidata.org/entity/Q106556516'}, 'itemLabel': {'xml:lang': 'fr', 'type': 'literal', 'value': 'Collections du Musée du CPAS Bruxelles'}}, {'item': {'type': 'uri', 'value': 'http://www.wikidata.org/entity/Q106556532'}, 'itemLabel': {'xml:lang': 'fr', 'type': 'literal', 'value': 'Schermsportmuseum Charles Debeur'}}, {'item': {'type': 'uri', 'value': 'http://www.wikidata.org/entity/Q106556543'}, 'itemLabel': {'type': 'literal', 'value': 'Q106556543'}}, {'item': {'type': 'uri', 'value': 'http://www.wikidata.org/entity/Q106556595'}, 'itemLabel': {'xml:lang': 'fr', 'type': 'literal', 'value': 'Schaarbeeks Museum van het bier'}}, {'item': {'type': 'uri', 'value': 'http://www.wikidata.org/entity/Q106556640'}, 'itemLabel': {'xml:lang': 'fr', 'type': 'literal', 'value': 'Gemeentelijk Museum van het Graafschap Jette'}}, {'item': {'type': 'uri', 'value': 'http://www.wikidata.org/entity/Q107293596'}, 'itemLabel': {'xml:lang': 'fr', 'type': 'literal', 'value': 'Fondation Jacques-Brel'}}, {'item': {'type': 'uri', 'value': 'http://www.wikidata.org/entity/Q2988142'}, 'itemLabel': {'xml:lang': 'fr', 'type': 'literal', 'value': 'Musée de la Porte de Hal'}}, {'item': {'type': 'uri', 'value': 'http://www.wikidata.org/entity/Q108223036'}, 'itemLabel': {'xml:lang': 'fr', 'type': 'literal', 'value': 'Le Musée du Réverbère'}}, {'item': {'type': 'uri', 'value': 'http://www.wikidata.org/entity/Q16665628'}, 'itemLabel': {'xml:lang': 'fr', 'type': 'literal', 'value': \"musée de l'érotisme et de la mythologie\"}}, {'item': {'type': 'uri', 'value': 'http://www.wikidata.org/entity/Q1165167'}, 'itemLabel': {'xml:lang': 'fr', 'type': 'literal', 'value': 'Musée Juif de Belgique'}}, {'item': {'type': 'uri', 'value': 'http://www.wikidata.org/entity/Q4492555'}, 'itemLabel': {'xml:lang': 'fr', 'type': 'literal', 'value': 'Musée du Jouet'}}, {'item': {'type': 'uri', 'value': 'http://www.wikidata.org/entity/Q1395176'}, 'itemLabel': {'xml:lang': 'fr', 'type': 'literal', 'value': \"Musée royal de l'Armée et de l'Histoire militaire\"}}, {'item': {'type': 'uri', 'value': 'http://www.wikidata.org/entity/Q6974517'}, 'itemLabel': {'xml:lang': 'fr', 'type': 'literal', 'value': 'Nationaal Museum van de Weerstand'}}, {'item': {'type': 'uri', 'value': 'http://www.wikidata.org/entity/Q2193737'}, 'itemLabel': {'xml:lang': 'fr', 'type': 'literal', 'value': 'Musée Mode & Dentelle'}}, {'item': {'type': 'uri', 'value': 'http://www.wikidata.org/entity/Q943581'}, 'itemLabel': {'xml:lang': 'fr', 'type': 'literal', 'value': 'Musée Magritte Museum'}}, {'item': {'type': 'uri', 'value': 'http://www.wikidata.org/entity/Q107293126'}, 'itemLabel': {'xml:lang': 'fr', 'type': 'literal', 'value': 'GardeRobe MannekenPis'}}]\n"
     ]
    }
   ],
   "source": [
    "# Retrieve results from SPARQL\n",
    "endpoint = \"https://query.wikidata.org/bigdata/namespace/wdq/sparql\"\n",
    "sparql = SPARQLWrapper(endpoint)\n",
    "\n",
    "# P31 = Type or instance of property \n",
    "# P279 = Subclass of\n",
    "# Q33506 = museums\n",
    "# P131 = located in the administrative territorial entity\n",
    "# Q239 = city of Brussels\n",
    "\n",
    "statement = \"\"\"\n",
    "SELECT ?item ?itemLabel ?coordinates\n",
    "WHERE\n",
    "{\n",
    "  ?item wdt:P31/wdt:P279* wd:Q33506 ;\n",
    "        wdt:P131 wd:Q239 ;\n",
    "  SERVICE wikibase:label { bd:serviceParam wikibase:language \"fr, en\" }\n",
    "  }\n",
    "\"\"\"\n",
    "\n",
    "sparql.setQuery(statement)\n",
    "sparql.setReturnFormat(JSON)\n",
    "results = sparql.query().convert()\n",
    "\n",
    "rows = results['results']['bindings']\n",
    "print(f\"\\n{len(rows)} museums found\\n\")\n",
    "print(rows[:87])"
   ]
  },
  {
   "cell_type": "markdown",
   "id": "b81f1fae-34a5-455b-a3ca-eec4518853d8",
   "metadata": {},
   "source": [
    "### Finding theatres"
   ]
  },
  {
   "cell_type": "code",
   "execution_count": 32,
   "id": "e5631c47-cae2-4994-807c-60a421e27496",
   "metadata": {},
   "outputs": [
    {
     "name": "stdout",
     "output_type": "stream",
     "text": [
      "\n",
      "1 theatres found\n",
      "\n",
      "[{'item': {'type': 'uri', 'value': 'http://www.wikidata.org/entity/Q108313367'}, 'itemLabel': {'xml:lang': 'fr', 'type': 'literal', 'value': 'Fantaisies-Parisiennes'}}]\n"
     ]
    }
   ],
   "source": [
    "# Retrieve results from SPARQL\n",
    "endpoint = \"https://query.wikidata.org/bigdata/namespace/wdq/sparql\"\n",
    "sparql = SPARQLWrapper(endpoint)\n",
    "\n",
    "# P31 = Type or instance of property \n",
    "# P279 = Subclass of\n",
    "# Q11365 = Theatre\n",
    "# P131 = located in the administrative territorial entity\n",
    "# Q239 = city of Brussels\n",
    "\n",
    "statement = \"\"\"\n",
    "SELECT ?item ?itemLabel ?coordinates\n",
    "WHERE\n",
    "{\n",
    "  ?item wdt:P31/wdt:P279* wd:Q11635 ;\n",
    "        wdt:P131 wd:Q239 ;\n",
    "  SERVICE wikibase:label { bd:serviceParam wikibase:language \"fr, en\" }\n",
    "  }\n",
    "\"\"\"\n",
    "\n",
    "sparql.setQuery(statement)\n",
    "sparql.setReturnFormat(JSON)\n",
    "results = sparql.query().convert()\n",
    "\n",
    "rows = results['results']['bindings']\n",
    "print(f\"\\n{len(rows)} theatres found\\n\")\n",
    "print(rows[:10])"
   ]
  },
  {
   "cell_type": "code",
   "execution_count": 177,
   "id": "8ce0ed98-a5b6-4d2b-bd55-627651b977d6",
   "metadata": {},
   "outputs": [
    {
     "name": "stdout",
     "output_type": "stream",
     "text": [
      "\n",
      "34 theatres found\n",
      "\n",
      "[{'item': {'type': 'uri', 'value': 'http://www.wikidata.org/entity/Q671418'}, 'itemLabel': {'xml:lang': 'fr', 'type': 'literal', 'value': 'théâtre de la Place des Martyrs'}}, {'item': {'type': 'uri', 'value': 'http://www.wikidata.org/entity/Q368083'}, 'itemLabel': {'xml:lang': 'fr', 'type': 'literal', 'value': 'opéra du Quai au Foin'}}, {'item': {'type': 'uri', 'value': 'http://www.wikidata.org/entity/Q3527641'}, 'itemLabel': {'xml:lang': 'fr', 'type': 'literal', 'value': 'théâtre de Poche'}}, {'item': {'type': 'uri', 'value': 'http://www.wikidata.org/entity/Q3527669'}, 'itemLabel': {'xml:lang': 'fr', 'type': 'literal', 'value': \"théâtre de l'Esprit Frappeur\"}}, {'item': {'type': 'uri', 'value': 'http://www.wikidata.org/entity/Q3527824'}, 'itemLabel': {'xml:lang': 'fr', 'type': 'literal', 'value': 'théâtre du Vaudeville'}}, {'item': {'type': 'uri', 'value': 'http://www.wikidata.org/entity/Q3527882'}, 'itemLabel': {'xml:lang': 'fr', 'type': 'literal', 'value': 'Théâtre National Wallonie-Bruxelles'}}, {'item': {'type': 'uri', 'value': 'http://www.wikidata.org/entity/Q3527923'}, 'itemLabel': {'xml:lang': 'fr', 'type': 'literal', 'value': 'théâtre royal des Galeries'}}, {'item': {'type': 'uri', 'value': 'http://www.wikidata.org/entity/Q3527925'}, 'itemLabel': {'xml:lang': 'fr', 'type': 'literal', 'value': 'théâtre royal du Parc'}}, {'item': {'type': 'uri', 'value': 'http://www.wikidata.org/entity/Q2946430'}, 'itemLabel': {'xml:lang': 'fr', 'type': 'literal', 'value': 'Cercle Gaulois'}}, {'item': {'type': 'uri', 'value': 'http://www.wikidata.org/entity/Q3145563'}, 'itemLabel': {'xml:lang': 'fr', 'type': 'literal', 'value': 'hôtel Le Plaza'}}, {'item': {'type': 'uri', 'value': 'http://www.wikidata.org/entity/Q3212707'}, 'itemLabel': {'xml:lang': 'fr', 'type': 'literal', 'value': 'La Samaritaine'}}, {'item': {'type': 'uri', 'value': 'http://www.wikidata.org/entity/Q3235700'}, 'itemLabel': {'xml:lang': 'fr', 'type': 'literal', 'value': 'Les Tanneurs'}}, {'item': {'type': 'uri', 'value': 'http://www.wikidata.org/entity/Q1950513'}, 'itemLabel': {'xml:lang': 'fr', 'type': 'literal', 'value': 'Théâtre royal flamand de Bruxelles'}}, {'item': {'type': 'uri', 'value': 'http://www.wikidata.org/entity/Q2302673'}, 'itemLabel': {'xml:lang': 'fr', 'type': 'literal', 'value': 'BRONKS'}}, {'item': {'type': 'uri', 'value': 'http://www.wikidata.org/entity/Q16481675'}, 'itemLabel': {'xml:lang': 'en', 'type': 'literal', 'value': 'Alhambra'}}, {'item': {'type': 'uri', 'value': 'http://www.wikidata.org/entity/Q18289168'}, 'itemLabel': {'xml:lang': 'fr', 'type': 'literal', 'value': 'Concert Noble'}}, {'item': {'type': 'uri', 'value': 'http://www.wikidata.org/entity/Q33100253'}, 'itemLabel': {'xml:lang': 'en', 'type': 'literal', 'value': 'Theater Arte'}}, {'item': {'type': 'uri', 'value': 'http://www.wikidata.org/entity/Q33100256'}, 'itemLabel': {'xml:lang': 'fr', 'type': 'literal', 'value': 'La Montagne Magique'}}, {'item': {'type': 'uri', 'value': 'http://www.wikidata.org/entity/Q33100272'}, 'itemLabel': {'xml:lang': 'en', 'type': 'literal', 'value': 'KVS Top'}}, {'item': {'type': 'uri', 'value': 'http://www.wikidata.org/entity/Q33100355'}, 'itemLabel': {'xml:lang': 'en', 'type': 'literal', 'value': 'Lunatheater'}}, {'item': {'type': 'uri', 'value': 'http://www.wikidata.org/entity/Q33100436'}, 'itemLabel': {'xml:lang': 'en', 'type': 'literal', 'value': 'KVS Box'}}, {'item': {'type': 'uri', 'value': 'http://www.wikidata.org/entity/Q33100437'}, 'itemLabel': {'xml:lang': 'en', 'type': 'literal', 'value': 'Bronks-kapel'}}, {'item': {'type': 'uri', 'value': 'http://www.wikidata.org/entity/Q33100451'}, 'itemLabel': {'xml:lang': 'fr', 'type': 'literal', 'value': \"Kaaitstudio's\"}}, {'item': {'type': 'uri', 'value': 'http://www.wikidata.org/entity/Q33100524'}, 'itemLabel': {'xml:lang': 'fr', 'type': 'literal', 'value': 'Espace Magh'}}, {'item': {'type': 'uri', 'value': 'http://www.wikidata.org/entity/Q33100626'}, 'itemLabel': {'xml:lang': 'fr', 'type': 'literal', 'value': 'Les Tréteaux'}}, {'item': {'type': 'uri', 'value': 'http://www.wikidata.org/entity/Q33100643'}, 'itemLabel': {'xml:lang': 'fr', 'type': 'literal', 'value': 'Maison traditionnelle'}}, {'item': {'type': 'uri', 'value': 'http://www.wikidata.org/entity/Q109932036'}, 'itemLabel': {'xml:lang': 'fr', 'type': 'literal', 'value': 'Kaaitheater'}}, {'item': {'type': 'uri', 'value': 'http://www.wikidata.org/entity/Q551479'}, 'itemLabel': {'xml:lang': 'fr', 'type': 'literal', 'value': 'La Monnaie'}}, {'item': {'type': 'uri', 'value': 'http://www.wikidata.org/entity/Q37994141'}, 'itemLabel': {'xml:lang': 'fr', 'type': 'literal', 'value': 'Ciné Rio'}}, {'item': {'type': 'uri', 'value': 'http://www.wikidata.org/entity/Q42417686'}, 'itemLabel': {'xml:lang': 'fr', 'type': 'literal', 'value': 'Théâtre La Gaîté'}}, {'item': {'type': 'uri', 'value': 'http://www.wikidata.org/entity/Q42418241'}, 'itemLabel': {'xml:lang': 'fr', 'type': 'literal', 'value': 'Ancien Théâtre des Variétés'}}, {'item': {'type': 'uri', 'value': 'http://www.wikidata.org/entity/Q108741760'}, 'itemLabel': {'xml:lang': 'fr', 'type': 'literal', 'value': \"Théâtre de l'Olympia\"}}, {'item': {'type': 'uri', 'value': 'http://www.wikidata.org/entity/Q83489948'}, 'itemLabel': {'xml:lang': 'en', 'type': 'literal', 'value': 'Salle Patria (Brussels)'}}, {'item': {'type': 'uri', 'value': 'http://www.wikidata.org/entity/Q108741760'}, 'itemLabel': {'xml:lang': 'fr', 'type': 'literal', 'value': \"Théâtre de l'Olympia\"}}]\n"
     ]
    }
   ],
   "source": [
    "# Retrieve results from SPARQL\n",
    "endpoint = \"https://query.wikidata.org/bigdata/namespace/wdq/sparql\"\n",
    "sparql = SPARQLWrapper(endpoint)\n",
    "\n",
    "# P31 = Type or instance of property \n",
    "# P279 = Subclass of\n",
    "# Q24354 = Theatre\n",
    "# P131 = located in the administrative territorial entity\n",
    "# Q239 = city of Brussels\n",
    "\n",
    "statement = \"\"\"\n",
    "SELECT ?item ?itemLabel ?coordinates\n",
    "WHERE\n",
    "{\n",
    "  ?item wdt:P31/wdt:P279* wd:Q24354 ;\n",
    "        wdt:P131 wd:Q239 ;\n",
    "  SERVICE wikibase:label { bd:serviceParam wikibase:language \"fr, en\" }\n",
    "  }\n",
    "\"\"\"\n",
    "\n",
    "sparql.setQuery(statement)\n",
    "sparql.setReturnFormat(JSON)\n",
    "results = sparql.query().convert()\n",
    "\n",
    "rows = results['results']['bindings']\n",
    "print(f\"\\n{len(rows)} theatres found\\n\")\n",
    "print(rows[:35])"
   ]
  },
  {
   "cell_type": "markdown",
   "id": "47903e42-ad30-4a25-b717-25149c8b6758",
   "metadata": {
    "tags": []
   },
   "source": [
    "### Finding Musical Theather "
   ]
  },
  {
   "cell_type": "code",
   "execution_count": 189,
   "id": "95d05379-98a5-4e92-8ede-300ac43d6b92",
   "metadata": {},
   "outputs": [
    {
     "name": "stdout",
     "output_type": "stream",
     "text": [
      "\n",
      "0 musical theatre found\n",
      "\n",
      "[]\n"
     ]
    }
   ],
   "source": [
    "# Retrieve results from SPARQL\n",
    "endpoint = \"https://query.wikidata.org/bigdata/namespace/wdq/sparql\"\n",
    "sparql = SPARQLWrapper(endpoint)\n",
    "\n",
    "# P31 = Type or instance of property \n",
    "# P279 = Subclass of\n",
    "# Q2743 = musical theaters \n",
    "# P131 = located in the administrative territorial entity\n",
    "# Q239 = city of Brussels\n",
    "\n",
    "statement = \"\"\"\n",
    "SELECT ?item ?itemLabel ?coordinates\n",
    "WHERE\n",
    "{\n",
    "  ?item wdt:P31/wdt:P279* wd:Q2743 ;\n",
    "        wdt:P131 wd:Q239 ;\n",
    "  SERVICE wikibase:label { bd:serviceParam wikibase:language \"fr, en\" }\n",
    "  }\n",
    "\"\"\"\n",
    "\n",
    "sparql.setQuery(statement)\n",
    "sparql.setReturnFormat(JSON)\n",
    "results = sparql.query().convert()\n",
    "\n",
    "rows = results['results']['bindings']\n",
    "print(f\"\\n{len(rows)} musical theatre found\\n\")\n",
    "print(rows[:10])"
   ]
  },
  {
   "cell_type": "markdown",
   "id": "d2224402-fec2-4bbc-a5fa-4ed665ab81cc",
   "metadata": {
    "tags": []
   },
   "source": [
    "### Finding Cinéma"
   ]
  },
  {
   "cell_type": "code",
   "execution_count": 192,
   "id": "10a6afee-45f1-434b-906d-61581177c2de",
   "metadata": {},
   "outputs": [
    {
     "name": "stdout",
     "output_type": "stream",
     "text": [
      "\n",
      "62 movie theatres found\n",
      "\n",
      "[{'item': {'type': 'uri', 'value': 'http://www.wikidata.org/entity/Q2973104'}, 'itemLabel': {'xml:lang': 'fr', 'type': 'literal', 'value': 'Cinéma Arenberg'}}, {'item': {'type': 'uri', 'value': 'http://www.wikidata.org/entity/Q2973116'}, 'itemLabel': {'xml:lang': 'fr', 'type': 'literal', 'value': 'Cinéma Métropole'}}, {'item': {'type': 'uri', 'value': 'http://www.wikidata.org/entity/Q1922726'}, 'itemLabel': {'xml:lang': 'fr', 'type': 'literal', 'value': 'Cinematek'}}, {'item': {'type': 'uri', 'value': 'http://www.wikidata.org/entity/Q2288214'}, 'itemLabel': {'xml:lang': 'en', 'type': 'literal', 'value': 'American Theatre'}}, {'item': {'type': 'uri', 'value': 'http://www.wikidata.org/entity/Q2364244'}, 'itemLabel': {'xml:lang': 'fr', 'type': 'literal', 'value': 'Cinéma Nova'}}, {'item': {'type': 'uri', 'value': 'http://www.wikidata.org/entity/Q3225153'}, 'itemLabel': {'xml:lang': 'fr', 'type': 'literal', 'value': 'Pathé Palace'}}, {'item': {'type': 'uri', 'value': 'http://www.wikidata.org/entity/Q3547186'}, 'itemLabel': {'xml:lang': 'fr', 'type': 'literal', 'value': 'UGC De Brouckère'}}, {'item': {'type': 'uri', 'value': 'http://www.wikidata.org/entity/Q33100275'}, 'itemLabel': {'xml:lang': 'en', 'type': 'literal', 'value': 'Het Oog'}}, {'item': {'type': 'uri', 'value': 'http://www.wikidata.org/entity/Q33100417'}, 'itemLabel': {'xml:lang': 'fr', 'type': 'literal', 'value': 'Cinéma Marivaux'}}, {'item': {'type': 'uri', 'value': 'http://www.wikidata.org/entity/Q16507476'}, 'itemLabel': {'xml:lang': 'fr', 'type': 'literal', 'value': 'Cinéma Caméo'}}, {'item': {'type': 'uri', 'value': 'http://www.wikidata.org/entity/Q37979845'}, 'itemLabel': {'xml:lang': 'fr', 'type': 'literal', 'value': 'Théâtre des Variétés'}}, {'item': {'type': 'uri', 'value': 'http://www.wikidata.org/entity/Q37980061'}, 'itemLabel': {'xml:lang': 'fr', 'type': 'literal', 'value': 'ABC Cinema'}}, {'item': {'type': 'uri', 'value': 'http://www.wikidata.org/entity/Q37980069'}, 'itemLabel': {'xml:lang': 'fr', 'type': 'literal', 'value': 'Acropole Centre'}}, {'item': {'type': 'uri', 'value': 'http://www.wikidata.org/entity/Q37980077'}, 'itemLabel': {'xml:lang': 'fr', 'type': 'literal', 'value': \"Actor's Studio\"}}, {'item': {'type': 'uri', 'value': 'http://www.wikidata.org/entity/Q37980085'}, 'itemLabel': {'xml:lang': 'fr', 'type': 'literal', 'value': 'Agora Cinema'}}, {'item': {'type': 'uri', 'value': 'http://www.wikidata.org/entity/Q37980093'}, 'itemLabel': {'xml:lang': 'fr', 'type': 'literal', 'value': 'Ambassador Disney Ciné'}}, {'item': {'type': 'uri', 'value': 'http://www.wikidata.org/entity/Q37980099'}, 'itemLabel': {'xml:lang': 'fr', 'type': 'literal', 'value': 'American Cinema'}}, {'item': {'type': 'uri', 'value': 'http://www.wikidata.org/entity/Q37980109'}, 'itemLabel': {'xml:lang': 'fr', 'type': 'literal', 'value': 'Astor Cinema'}}, {'item': {'type': 'uri', 'value': 'http://www.wikidata.org/entity/Q37980115'}, 'itemLabel': {'xml:lang': 'fr', 'type': 'literal', 'value': 'Auditorium Shell'}}, {'item': {'type': 'uri', 'value': 'http://www.wikidata.org/entity/Q37980119'}, 'itemLabel': {'xml:lang': 'fr', 'type': 'literal', 'value': 'Aventure Cinema'}}, {'item': {'type': 'uri', 'value': 'http://www.wikidata.org/entity/Q37980126'}, 'itemLabel': {'xml:lang': 'fr', 'type': 'literal', 'value': 'Avia Cinema'}}, {'item': {'type': 'uri', 'value': 'http://www.wikidata.org/entity/Q37980138'}, 'itemLabel': {'xml:lang': 'fr', 'type': 'literal', 'value': 'Carly Cinema'}}, {'item': {'type': 'uri', 'value': 'http://www.wikidata.org/entity/Q37980144'}, 'itemLabel': {'xml:lang': 'fr', 'type': 'literal', 'value': 'Centra Cinema'}}, {'item': {'type': 'uri', 'value': 'http://www.wikidata.org/entity/Q37980149'}, 'itemLabel': {'xml:lang': 'fr', 'type': 'literal', 'value': 'Central Cinema'}}, {'item': {'type': 'uri', 'value': 'http://www.wikidata.org/entity/Q37980158'}, 'itemLabel': {'xml:lang': 'fr', 'type': 'literal', 'value': 'Ciné Colisee'}}, {'item': {'type': 'uri', 'value': 'http://www.wikidata.org/entity/Q37980168'}, 'itemLabel': {'xml:lang': 'fr', 'type': 'literal', 'value': 'Ciné Le Francais'}}, {'item': {'type': 'uri', 'value': 'http://www.wikidata.org/entity/Q37980176'}, 'itemLabel': {'xml:lang': 'fr', 'type': 'literal', 'value': 'Ciné Nord'}}, {'item': {'type': 'uri', 'value': 'http://www.wikidata.org/entity/Q37980185'}, 'itemLabel': {'xml:lang': 'fr', 'type': 'literal', 'value': 'Cineac Centre Cinema'}}, {'item': {'type': 'uri', 'value': 'http://www.wikidata.org/entity/Q37980192'}, 'itemLabel': {'xml:lang': 'fr', 'type': 'literal', 'value': 'Cinéma Galéries'}}, {'item': {'type': 'uri', 'value': 'http://www.wikidata.org/entity/Q37980200'}, 'itemLabel': {'xml:lang': 'fr', 'type': 'literal', 'value': 'Coliseum Cinema'}}, {'item': {'type': 'uri', 'value': 'http://www.wikidata.org/entity/Q37980208'}, 'itemLabel': {'xml:lang': 'fr', 'type': 'literal', 'value': 'Crosly Cinema'}}, {'item': {'type': 'uri', 'value': 'http://www.wikidata.org/entity/Q37980217'}, 'itemLabel': {'xml:lang': 'fr', 'type': 'literal', 'value': 'Crosly Leopold 3'}}, {'item': {'type': 'uri', 'value': 'http://www.wikidata.org/entity/Q37980224'}, 'itemLabel': {'xml:lang': 'fr', 'type': 'literal', 'value': 'Crosly Steenpoort'}}, {'item': {'type': 'uri', 'value': 'http://www.wikidata.org/entity/Q37980232'}, 'itemLabel': {'xml:lang': 'fr', 'type': 'literal', 'value': 'Ecuyer Cinema'}}, {'item': {'type': 'uri', 'value': 'http://www.wikidata.org/entity/Q37980240'}, 'itemLabel': {'xml:lang': 'fr', 'type': 'literal', 'value': 'Ira Ciné'}}, {'item': {'type': 'uri', 'value': 'http://www.wikidata.org/entity/Q37980248'}, 'itemLabel': {'xml:lang': 'fr', 'type': 'literal', 'value': 'Midi-Minuit Cinema'}}, {'item': {'type': 'uri', 'value': 'http://www.wikidata.org/entity/Q37980256'}, 'itemLabel': {'xml:lang': 'fr', 'type': 'literal', 'value': 'Normandie Cinema'}}, {'item': {'type': 'uri', 'value': 'http://www.wikidata.org/entity/Q37980264'}, 'itemLabel': {'xml:lang': 'fr', 'type': 'literal', 'value': 'Palladium Cinema'}}, {'item': {'type': 'uri', 'value': 'http://www.wikidata.org/entity/Q37980271'}, 'itemLabel': {'xml:lang': 'fr', 'type': 'literal', 'value': 'Paris Cinema'}}, {'item': {'type': 'uri', 'value': 'http://www.wikidata.org/entity/Q37980278'}, 'itemLabel': {'xml:lang': 'fr', 'type': 'literal', 'value': 'Piccadilly Cinema'}}, {'item': {'type': 'uri', 'value': 'http://www.wikidata.org/entity/Q37980284'}, 'itemLabel': {'xml:lang': 'fr', 'type': 'literal', 'value': 'Raf Cinema'}}, {'item': {'type': 'uri', 'value': 'http://www.wikidata.org/entity/Q37980291'}, 'itemLabel': {'xml:lang': 'fr', 'type': 'literal', 'value': 'Rialto Cinema'}}, {'item': {'type': 'uri', 'value': 'http://www.wikidata.org/entity/Q37980297'}, 'itemLabel': {'xml:lang': 'fr', 'type': 'literal', 'value': 'Royal Bourse Cinema'}}, {'item': {'type': 'uri', 'value': 'http://www.wikidata.org/entity/Q37980305'}, 'itemLabel': {'xml:lang': 'fr', 'type': 'literal', 'value': 'Scala Cinema'}}, {'item': {'type': 'uri', 'value': 'http://www.wikidata.org/entity/Q37980312'}, 'itemLabel': {'xml:lang': 'fr', 'type': 'literal', 'value': 'Star Cinema'}}, {'item': {'type': 'uri', 'value': 'http://www.wikidata.org/entity/Q37980320'}, 'itemLabel': {'xml:lang': 'fr', 'type': 'literal', 'value': 'Stuart Cinema'}}, {'item': {'type': 'uri', 'value': 'http://www.wikidata.org/entity/Q37980328'}, 'itemLabel': {'xml:lang': 'fr', 'type': 'literal', 'value': 'Tabora Cinema'}}, {'item': {'type': 'uri', 'value': 'http://www.wikidata.org/entity/Q37980334'}, 'itemLabel': {'xml:lang': 'fr', 'type': 'literal', 'value': 'Trianon Cinema'}}, {'item': {'type': 'uri', 'value': 'http://www.wikidata.org/entity/Q37980344'}, 'itemLabel': {'xml:lang': 'fr', 'type': 'literal', 'value': \"Twin's Cinema\"}}, {'item': {'type': 'uri', 'value': 'http://www.wikidata.org/entity/Q37980352'}, 'itemLabel': {'xml:lang': 'fr', 'type': 'literal', 'value': 'UGC City 2'}}, {'item': {'type': 'uri', 'value': 'http://www.wikidata.org/entity/Q37980368'}, 'itemLabel': {'xml:lang': 'fr', 'type': 'literal', 'value': 'Victory Cinema'}}, {'item': {'type': 'uri', 'value': 'http://www.wikidata.org/entity/Q37993128'}, 'itemLabel': {'xml:lang': 'fr', 'type': 'literal', 'value': 'White Cinema'}}, {'item': {'type': 'uri', 'value': 'http://www.wikidata.org/entity/Q37994109'}, 'itemLabel': {'xml:lang': 'fr', 'type': 'literal', 'value': 'Ciné Astra'}}, {'item': {'type': 'uri', 'value': 'http://www.wikidata.org/entity/Q37994117'}, 'itemLabel': {'xml:lang': 'fr', 'type': 'literal', 'value': 'Ciné Centenaire'}}, {'item': {'type': 'uri', 'value': 'http://www.wikidata.org/entity/Q37994121'}, 'itemLabel': {'xml:lang': 'fr', 'type': 'literal', 'value': 'Ciné Christine'}}, {'item': {'type': 'uri', 'value': 'http://www.wikidata.org/entity/Q37994127'}, 'itemLabel': {'xml:lang': 'fr', 'type': 'literal', 'value': 'Kinepolis Bruxelles'}}, {'item': {'type': 'uri', 'value': 'http://www.wikidata.org/entity/Q37994135'}, 'itemLabel': {'xml:lang': 'fr', 'type': 'literal', 'value': 'Ciné Lux'}}, {'item': {'type': 'uri', 'value': 'http://www.wikidata.org/entity/Q37994141'}, 'itemLabel': {'xml:lang': 'fr', 'type': 'literal', 'value': 'Ciné Rio'}}, {'item': {'type': 'uri', 'value': 'http://www.wikidata.org/entity/Q37994149'}, 'itemLabel': {'xml:lang': 'fr', 'type': 'literal', 'value': 'Ciné Wagram'}}, {'item': {'type': 'uri', 'value': 'http://www.wikidata.org/entity/Q42416847'}, 'itemLabel': {'xml:lang': 'fr', 'type': 'literal', 'value': 'Cinéma des Galeries'}}, {'item': {'type': 'uri', 'value': 'http://www.wikidata.org/entity/Q42416899'}, 'itemLabel': {'xml:lang': 'fr', 'type': 'literal', 'value': 'Ancien cinéma Plaza'}}, {'item': {'type': 'uri', 'value': 'http://www.wikidata.org/entity/Q56682972'}, 'itemLabel': {'type': 'literal', 'value': 'Q56682972'}}]\n"
     ]
    }
   ],
   "source": [
    "# Retrieve results from SPARQL\n",
    "endpoint = \"https://query.wikidata.org/bigdata/namespace/wdq/sparql\"\n",
    "sparql = SPARQLWrapper(endpoint)\n",
    "\n",
    "# P31 = Type or instance of property \n",
    "# P279 = Subclass of\n",
    "# Q41253 = movie theaters \n",
    "# P131 = located in the administrative territorial entity\n",
    "# Q239 = city of Brussels\n",
    "\n",
    "statement = \"\"\"\n",
    "SELECT ?item ?itemLabel ?coordinates\n",
    "WHERE\n",
    "{\n",
    "  ?item wdt:P31/wdt:P279* wd:Q41253 ;\n",
    "        wdt:P131 wd:Q239 ;\n",
    "  SERVICE wikibase:label { bd:serviceParam wikibase:language \"fr, en\" }\n",
    "  }\n",
    "\"\"\"\n",
    "\n",
    "sparql.setQuery(statement)\n",
    "sparql.setReturnFormat(JSON)\n",
    "results = sparql.query().convert()\n",
    "\n",
    "rows = results['results']['bindings']\n",
    "print(f\"\\n{len(rows)} movie theatres found\\n\")\n",
    "print(rows[:63])"
   ]
  },
  {
   "cell_type": "markdown",
   "id": "6acf6a0d-739c-4b28-81e0-5dd215c9ba17",
   "metadata": {
    "tags": []
   },
   "source": [
    "## Simply count the number of times a word appears ("
   ]
  },
  {
   "cell_type": "code",
   "execution_count": 180,
   "id": "93ae948d-13a4-4b7f-b416-314646400cf1",
   "metadata": {
    "tags": []
   },
   "outputs": [
    {
     "name": "stdout",
     "output_type": "stream",
     "text": [
      "\n",
      " Le mot 'culture' apparaître 5418 fois dans le corpus\n",
      "\n"
     ]
    }
   ],
   "source": [
    "word = 'culture'\n",
    "with open(path) as f:\n",
    "    occurrence_culture = f.read().count(word)\n",
    "print(f\"\\n Le mot 'culture' apparaître {occurrence_culture} fois dans le corpus\\n\")\n"
   ]
  },
  {
   "cell_type": "code",
   "execution_count": 506,
   "id": "cd83895b-a399-450c-b05d-de692ec41e26",
   "metadata": {},
   "outputs": [
    {
     "name": "stdout",
     "output_type": "stream",
     "text": [
      "\n",
      " Le mot 'Culture' apparaître 883 fois dans le corpus\n",
      "\n"
     ]
    }
   ],
   "source": [
    "word = 'Culture'\n",
    "with open(path) as f:\n",
    "    occurrence_culture = f.read().count(word)\n",
    "print(f\"\\n Le mot 'Culture' apparaître {occurrence_culture} fois dans le corpus\\n\")"
   ]
  },
  {
   "cell_type": "code",
   "execution_count": 508,
   "id": "c96f23e1-1d60-4e26-902b-e0a2af488095",
   "metadata": {},
   "outputs": [
    {
     "name": "stdout",
     "output_type": "stream",
     "text": [
      "\n",
      " Le mot 'Cultures' apparaître 56 fois dans le corpus\n",
      "\n"
     ]
    }
   ],
   "source": [
    "word = 'Cultures'\n",
    "with open(path) as f:\n",
    "    occurrence_cultures = f.read().count(word)\n",
    "print(f\"\\n Le mot 'Cultures' apparaître {occurrence_cultures} fois dans le corpus\\n\")"
   ]
  },
  {
   "cell_type": "code",
   "execution_count": 181,
   "id": "b05e9f9e-2464-41d2-845c-6e1700d4f197",
   "metadata": {
    "tags": []
   },
   "outputs": [
    {
     "name": "stdout",
     "output_type": "stream",
     "text": [
      "\n",
      " Le mot 'cultures' apparaître 199 fois dans le corpus\n",
      "\n"
     ]
    }
   ],
   "source": [
    "word = 'cultures'\n",
    "with open(path) as f:\n",
    "    occurrence_cultures = f.read().count(word)\n",
    "print(f\"\\n Le mot 'cultures' apparaître {occurrence_cultures} fois dans le corpus\\n\")"
   ]
  },
  {
   "cell_type": "code",
   "execution_count": 516,
   "id": "1e6c1037-465d-42b4-9ba6-a023cf8abd09",
   "metadata": {},
   "outputs": [
    {
     "name": "stdout",
     "output_type": "stream",
     "text": [
      "\n",
      " 'espace culturel' apparaître 0 fois dans le corpus\n",
      "\n"
     ]
    }
   ],
   "source": [
    "word = 'espace culturel'\n",
    "with open(path) as f:\n",
    "    occurrence_ec = f.read().count(word)\n",
    "print(f\"\\n 'espace culturel' apparaître {occurrence_ec} fois dans le corpus\\n\")"
   ]
  },
  {
   "cell_type": "code",
   "execution_count": 509,
   "id": "0fe417de-e021-4f2a-891a-b7ec269e0762",
   "metadata": {},
   "outputs": [
    {
     "name": "stdout",
     "output_type": "stream",
     "text": [
      "\n",
      " 'Espace culturel' apparaître 0 fois dans le corpus\n",
      "\n"
     ]
    }
   ],
   "source": [
    "word = 'Espace culturel'\n",
    "with open(path) as f:\n",
    "    occurrence_ec = f.read().count(word)\n",
    "print(f\"\\n 'Espace culturel' apparaître {occurrence_ec} fois dans le corpus\\n\")"
   ]
  },
  {
   "cell_type": "code",
   "execution_count": 517,
   "id": "4a0e54e1-4f2a-4138-bc97-a5edd7ad9c60",
   "metadata": {
    "tags": []
   },
   "outputs": [
    {
     "name": "stdout",
     "output_type": "stream",
     "text": [
      "\n",
      " 'espaces culturels' apparaître 0 fois dans le corpus\n",
      "\n"
     ]
    }
   ],
   "source": [
    "word = 'espaces culturels'\n",
    "with open(path) as f:\n",
    "    occurrence_ecs = f.read().count(word)\n",
    "print(f\"\\n 'espaces culturels' apparaître {occurrence_ecs} fois dans le corpus\\n\")"
   ]
  },
  {
   "cell_type": "code",
   "execution_count": 401,
   "id": "20a7cfba-a7c0-4870-bcd2-23986a4c336f",
   "metadata": {},
   "outputs": [
    {
     "name": "stdout",
     "output_type": "stream",
     "text": [
      "\n",
      " 'Espace de culture' apparaître 0 fois dans le corpus\n",
      "\n"
     ]
    }
   ],
   "source": [
    "word = 'espace de culture'\n",
    "with open(path) as f:\n",
    "    occurrence_edc = f.read().count(word)\n",
    "print(f\"\\n 'Espace de culture' apparaître {occurrence_edc} fois dans le corpus\\n\")"
   ]
  },
  {
   "cell_type": "code",
   "execution_count": 518,
   "id": "9612f77e-eddd-4bc2-bd03-b3b52029a150",
   "metadata": {},
   "outputs": [
    {
     "name": "stdout",
     "output_type": "stream",
     "text": [
      "\n",
      " 'espacee de culture' apparaître 0 fois dans le corpus\n",
      "\n"
     ]
    }
   ],
   "source": [
    "word = 'espaces de culture'\n",
    "with open(path) as f:\n",
    "    occurrence_esdc = f.read().count(word)\n",
    "print(f\"\\n 'espacee de culture' apparaître {occurrence_esdc} fois dans le corpus\\n\")"
   ]
  },
  {
   "cell_type": "code",
   "execution_count": 519,
   "id": "6ede0cf7-4ba9-497d-b5bb-b2cf30838059",
   "metadata": {},
   "outputs": [
    {
     "name": "stdout",
     "output_type": "stream",
     "text": [
      "\n",
      " 'lieu culturel' apparaître 1 fois dans le corpus\n",
      "\n"
     ]
    }
   ],
   "source": [
    "word = 'lieu culturel'\n",
    "with open(path) as f:\n",
    "    occurrence_lieu = f.read().count(word)\n",
    "print(f\"\\n 'lieu culturel' apparaître {occurrence_lieu} fois dans le corpus\\n\")"
   ]
  },
  {
   "cell_type": "code",
   "execution_count": 510,
   "id": "a357774d-3d57-4648-8075-a5b285c1b6e6",
   "metadata": {},
   "outputs": [
    {
     "name": "stdout",
     "output_type": "stream",
     "text": [
      "\n",
      " 'Lieu culturel' apparaître 0 fois dans le corpus\n",
      "\n"
     ]
    }
   ],
   "source": [
    "word = 'Lieu culturel'\n",
    "with open(path) as f:\n",
    "    occurrence_lieu = f.read().count(word)\n",
    "print(f\"\\n 'Lieu culturel' apparaître {occurrence_lieu} fois dans le corpus\\n\")"
   ]
  },
  {
   "cell_type": "code",
   "execution_count": 520,
   "id": "3dde11a4-4cef-4599-8bf7-3405d4c7d7a8",
   "metadata": {},
   "outputs": [
    {
     "name": "stdout",
     "output_type": "stream",
     "text": [
      "\n",
      " 'lieux culturels' apparaître 3 fois dans le corpus\n",
      "\n"
     ]
    }
   ],
   "source": [
    "word = 'lieux culturels'\n",
    "with open(path) as f:\n",
    "    occurrence_lieux = f.read().count(word)\n",
    "print(f\"\\n 'lieux culturels' apparaître {occurrence_lieux} fois dans le corpus\\n\")"
   ]
  },
  {
   "cell_type": "code",
   "execution_count": 511,
   "id": "b3a5e38f-29b9-4405-8f62-79f2909430c3",
   "metadata": {},
   "outputs": [
    {
     "name": "stdout",
     "output_type": "stream",
     "text": [
      "\n",
      " 'Lieux culturels' apparaître 0 fois dans le corpus\n",
      "\n"
     ]
    }
   ],
   "source": [
    "word = 'Lieux culturels'\n",
    "with open(path) as f:\n",
    "    occurrence_lieux = f.read().count(word)\n",
    "print(f\"\\n 'Lieux culturels' apparaître {occurrence_lieux} fois dans le corpus\\n\")"
   ]
  },
  {
   "cell_type": "code",
   "execution_count": 521,
   "id": "804db1dd-f851-448a-a174-2fee1e4cc5e9",
   "metadata": {},
   "outputs": [
    {
     "name": "stdout",
     "output_type": "stream",
     "text": [
      "\n",
      " 'endroit culturel' apparaître 0 fois dans le corpus\n",
      "\n"
     ]
    }
   ],
   "source": [
    "word = 'endroit culturel'\n",
    "with open(path) as f:\n",
    "    occurrence_endcult = f.read().count(word)\n",
    "print(f\"\\n 'endroit culturel' apparaître {occurrence_endcult} fois dans le corpus\\n\")"
   ]
  },
  {
   "cell_type": "code",
   "execution_count": 522,
   "id": "4e798ebb-1430-4aba-bf3e-c758faaeeee8",
   "metadata": {},
   "outputs": [
    {
     "name": "stdout",
     "output_type": "stream",
     "text": [
      "\n",
      " 'endroits culturels' apparaître 0 fois dans le corpus\n",
      "\n"
     ]
    }
   ],
   "source": [
    "word = 'endroits culturels'\n",
    "with open(path) as f:\n",
    "    occurrence_endcults = f.read().count(word)\n",
    "print(f\"\\n 'endroits culturels' apparaître {occurrence_endcults} fois dans le corpus\\n\")"
   ]
  },
  {
   "cell_type": "code",
   "execution_count": 183,
   "id": "454609bf-02d6-494f-8888-53b524be500f",
   "metadata": {
    "tags": []
   },
   "outputs": [
    {
     "name": "stdout",
     "output_type": "stream",
     "text": [
      "\n",
      " Le mot 'théâtre' apparaître 10222 fois dans le corpus\n",
      "\n"
     ]
    }
   ],
   "source": [
    "word = 'théâtre'\n",
    "with open(path) as f:\n",
    "    occurrence_theatre = f.read().count(word)\n",
    "print(f\"\\n Le mot 'théâtre' apparaître {occurrence_theatre} fois dans le corpus\\n\")"
   ]
  },
  {
   "cell_type": "code",
   "execution_count": 512,
   "id": "2f16c1df-8eb4-4820-bfcc-1beb41c9166e",
   "metadata": {},
   "outputs": [
    {
     "name": "stdout",
     "output_type": "stream",
     "text": [
      "\n",
      " Le mot 'theatre' apparaître 4 fois dans le corpus\n",
      "\n"
     ]
    }
   ],
   "source": [
    "word = 'theatre'\n",
    "with open(path) as f:\n",
    "    occurrence_theatre = f.read().count(word)\n",
    "print(f\"\\n Le mot 'theatre' apparaître {occurrence_theatre} fois dans le corpus\\n\")"
   ]
  },
  {
   "cell_type": "code",
   "execution_count": 184,
   "id": "29f3b4db-b874-4265-bccf-83c82562fa47",
   "metadata": {
    "tags": []
   },
   "outputs": [
    {
     "name": "stdout",
     "output_type": "stream",
     "text": [
      "\n",
      " Le mot 'théâtres' apparaître 2753 fois dans le corpus\n",
      "\n"
     ]
    }
   ],
   "source": [
    "word = 'théâtres'\n",
    "with open(path) as f:\n",
    "    occurrence__theatres = f.read().count(word)\n",
    "print(f\"\\n Le mot 'théâtres' apparaître {occurrence__theatres} fois dans le corpus\\n\")"
   ]
  },
  {
   "cell_type": "code",
   "execution_count": 513,
   "id": "ecc27a6f-d205-4380-8396-1edfddbcb31c",
   "metadata": {},
   "outputs": [
    {
     "name": "stdout",
     "output_type": "stream",
     "text": [
      "\n",
      " Le mot 'theatres' apparaître 1 fois dans le corpus\n",
      "\n"
     ]
    }
   ],
   "source": [
    "word = 'theatres'\n",
    "with open(path) as f:\n",
    "    occurrence__theatres = f.read().count(word)\n",
    "print(f\"\\n Le mot 'theatres' apparaître {occurrence__theatres} fois dans le corpus\\n\")"
   ]
  },
  {
   "cell_type": "code",
   "execution_count": 514,
   "id": "3c7a7b96-50c5-4b4f-be07-261e450c97a1",
   "metadata": {},
   "outputs": [
    {
     "name": "stdout",
     "output_type": "stream",
     "text": [
      "\n",
      " Le mot 'Théâtre' apparaître 7391 fois dans le corpus\n",
      "\n"
     ]
    }
   ],
   "source": [
    "word = 'Théâtre'\n",
    "with open(path) as f:\n",
    "    occurrence_theatre = f.read().count(word)\n",
    "print(f\"\\n Le mot 'Théâtre' apparaître {occurrence_theatre} fois dans le corpus\\n\")"
   ]
  },
  {
   "cell_type": "code",
   "execution_count": 515,
   "id": "ff408ed8-de48-4d26-9964-26c5e6af4bfe",
   "metadata": {},
   "outputs": [
    {
     "name": "stdout",
     "output_type": "stream",
     "text": [
      "\n",
      " Le mot 'Théâtres' apparaître 548 fois dans le corpus\n",
      "\n"
     ]
    }
   ],
   "source": [
    "word = 'Théâtres'\n",
    "with open(path) as f:\n",
    "    occurrence_theatre = f.read().count(word)\n",
    "print(f\"\\n Le mot 'Théâtres' apparaître {occurrence_theatre} fois dans le corpus\\n\")"
   ]
  },
  {
   "cell_type": "code",
   "execution_count": 193,
   "id": "27227a49-6d11-488c-a92c-11e1b95a0dd4",
   "metadata": {
    "tags": []
   },
   "outputs": [
    {
     "name": "stdout",
     "output_type": "stream",
     "text": [
      "\n",
      " Le mot 'museum' apparaître 165 fois dans le corpus\n",
      "\n"
     ]
    }
   ],
   "source": [
    "word = 'museum'\n",
    "with open(path) as f:\n",
    "    occurrence_museum = f.read().count(word)\n",
    "print(f\"\\n Le mot 'museum' apparaître {occurrence_museum} fois dans le corpus\\n\")"
   ]
  },
  {
   "cell_type": "code",
   "execution_count": 523,
   "id": "dbdbcb58-7dbb-4a6f-b55e-711e203a0d6f",
   "metadata": {},
   "outputs": [
    {
     "name": "stdout",
     "output_type": "stream",
     "text": [
      "\n",
      " Le mot 'Museum' apparaître 28 fois dans le corpus\n",
      "\n"
     ]
    }
   ],
   "source": [
    "word = 'Museum'\n",
    "with open(path) as f:\n",
    "    occurrence_museum = f.read().count(word)\n",
    "print(f\"\\n Le mot 'Museum' apparaître {occurrence_museum} fois dans le corpus\\n\")"
   ]
  },
  {
   "cell_type": "code",
   "execution_count": 194,
   "id": "9900f8ed-cd94-45d3-bda5-8a61d5e38b4f",
   "metadata": {},
   "outputs": [
    {
     "name": "stdout",
     "output_type": "stream",
     "text": [
      "\n",
      " Le mot 'museums' apparaître 2 fois dans le corpus\n",
      "\n"
     ]
    }
   ],
   "source": [
    "word = 'museums'\n",
    "with open(path) as f:\n",
    "    occurrence_museums = f.read().count(word)\n",
    "print(f\"\\n Le mot 'museums' apparaître {occurrence_museums} fois dans le corpus\\n\")"
   ]
  },
  {
   "cell_type": "code",
   "execution_count": 524,
   "id": "957f9493-d06a-49e2-af10-ff0d2aa5d9da",
   "metadata": {},
   "outputs": [
    {
     "name": "stdout",
     "output_type": "stream",
     "text": [
      "\n",
      " Le mot 'Museums' apparaître 10 fois dans le corpus\n",
      "\n"
     ]
    }
   ],
   "source": [
    "word = 'Museums'\n",
    "with open(path) as f:\n",
    "    occurrence_museums = f.read().count(word)\n",
    "print(f\"\\n Le mot 'Museums' apparaître {occurrence_museums} fois dans le corpus\\n\")"
   ]
  },
  {
   "cell_type": "code",
   "execution_count": 526,
   "id": "bc12b1cc-3c7e-4a29-a60d-b809c13abaa1",
   "metadata": {
    "tags": []
   },
   "outputs": [
    {
     "name": "stdout",
     "output_type": "stream",
     "text": [
      "\n",
      " Le mot 'musée' apparaître 917 fois dans le corpus\n",
      "\n"
     ]
    }
   ],
   "source": [
    "word = 'musée'\n",
    "with open(path) as f:\n",
    "    occurrence_musée = f.read().count(word)\n",
    "print(f\"\\n Le mot 'musée' apparaître {occurrence_musée} fois dans le corpus\\n\") "
   ]
  },
  {
   "cell_type": "code",
   "execution_count": 527,
   "id": "32dc0fe5-d9b3-4b53-b560-abfb9e20f079",
   "metadata": {},
   "outputs": [
    {
     "name": "stdout",
     "output_type": "stream",
     "text": [
      "\n",
      " Le mot 'Musée' apparaître 5148 fois dans le corpus\n",
      "\n"
     ]
    }
   ],
   "source": [
    "word = 'Musée'\n",
    "with open(path) as f:\n",
    "    occurrence_musée = f.read().count(word)\n",
    "print(f\"\\n Le mot 'Musée' apparaître {occurrence_musée} fois dans le corpus\\n\") "
   ]
  },
  {
   "cell_type": "code",
   "execution_count": 525,
   "id": "4143063d-579a-4ab0-a064-6e377081f173",
   "metadata": {},
   "outputs": [
    {
     "name": "stdout",
     "output_type": "stream",
     "text": [
      "\n",
      " Le mot 'musées' apparaître 273 fois dans le corpus\n",
      "\n"
     ]
    }
   ],
   "source": [
    "word = 'musées'\n",
    "with open(path) as f:\n",
    "    occurrence_musées = f.read().count(word)\n",
    "print(f\"\\n Le mot 'musées' apparaître {occurrence_musées} fois dans le corpus\\n\") "
   ]
  },
  {
   "cell_type": "code",
   "execution_count": 528,
   "id": "9e9b2456-c2e6-4c0d-9237-db16fe2f331f",
   "metadata": {},
   "outputs": [
    {
     "name": "stdout",
     "output_type": "stream",
     "text": [
      "\n",
      " Le mot 'Musées' apparaître 415 fois dans le corpus\n",
      "\n"
     ]
    }
   ],
   "source": [
    "word = 'Musées'\n",
    "with open(path) as f:\n",
    "    occurrence_musées = f.read().count(word)\n",
    "print(f\"\\n Le mot 'Musées' apparaître {occurrence_musées} fois dans le corpus\\n\") "
   ]
  },
  {
   "cell_type": "code",
   "execution_count": 529,
   "id": "1da9ced1-f210-4044-9f8d-1511a9f4e400",
   "metadata": {},
   "outputs": [
    {
     "name": "stdout",
     "output_type": "stream",
     "text": [
      "\n",
      " 'centre culturel' apparaître 153 fois dans le corpus\n",
      "\n"
     ]
    }
   ],
   "source": [
    "word = 'centre culturel'\n",
    "with open(path) as f:\n",
    "    occurrence_centre_culturel = f.read().count(word)\n",
    "print(f\"\\n 'centre culturel' apparaître {occurrence_centre_culturel} fois dans le corpus\\n\")"
   ]
  },
  {
   "cell_type": "code",
   "execution_count": 530,
   "id": "503ff6ef-ef70-42d6-9a38-dfb0bea06cdb",
   "metadata": {},
   "outputs": [
    {
     "name": "stdout",
     "output_type": "stream",
     "text": [
      "\n",
      " 'Centre culturel' apparaître 138 fois dans le corpus\n",
      "\n"
     ]
    }
   ],
   "source": [
    "word = 'Centre culturel'\n",
    "with open(path) as f:\n",
    "    occurrence_centre_culturel = f.read().count(word)\n",
    "print(f\"\\n 'Centre culturel' apparaître {occurrence_centre_culturel} fois dans le corpus\\n\")"
   ]
  },
  {
   "cell_type": "code",
   "execution_count": 196,
   "id": "a78ce98d-e3e2-4064-897b-5269d3cb2f0a",
   "metadata": {
    "tags": []
   },
   "outputs": [
    {
     "name": "stdout",
     "output_type": "stream",
     "text": [
      "\n",
      " 'Centres culturels' apparaître 41 fois dans le corpus\n",
      "\n"
     ]
    }
   ],
   "source": [
    "word = 'centres culturels'\n",
    "with open(path) as f:\n",
    "    occurrence_centres_culturels = f.read().count(word)\n",
    "print(f\"\\n 'centres culturels' apparaître {occurrence_centres_culturels} fois dans le corpus\\n\")"
   ]
  },
  {
   "cell_type": "code",
   "execution_count": 531,
   "id": "dfb3b4d1-31b7-4ada-bef2-d3db9cf8e498",
   "metadata": {
    "tags": []
   },
   "outputs": [
    {
     "name": "stdout",
     "output_type": "stream",
     "text": [
      "\n",
      " 'Centres culturels' apparaître 12 fois dans le corpus\n",
      "\n"
     ]
    }
   ],
   "source": [
    "word = 'Centres culturels'\n",
    "with open(path) as f:\n",
    "    occurrence_centres_culturels = f.read().count(word)\n",
    "print(f\"\\n 'Centres culturels' apparaître {occurrence_centres_culturels} fois dans le corpus\\n\")"
   ]
  },
  {
   "cell_type": "code",
   "execution_count": 581,
   "id": "407c7ba7-f2bd-4925-9c89-e87bf1978bf4",
   "metadata": {
    "tags": []
   },
   "outputs": [
    {
     "name": "stdout",
     "output_type": "stream",
     "text": [
      "\n",
      " Le mot 'cinéma' apparaître 1147 fois dans le corpus\n",
      "\n"
     ]
    }
   ],
   "source": [
    "word = 'cinéma'\n",
    "with open(path) as f:\n",
    "    occurrence_cinema = f.read().count(word)\n",
    "print(f\"\\n Le mot 'cinéma' apparaître {occurrence_cinema} fois dans le corpus\\n\")"
   ]
  },
  {
   "cell_type": "code",
   "execution_count": 584,
   "id": "3734ee51-86dd-4233-a05e-3f9f013b4b51",
   "metadata": {},
   "outputs": [
    {
     "name": "stdout",
     "output_type": "stream",
     "text": [
      "\n",
      " Le mot 'cinémas' apparaître 262 fois dans le corpus\n",
      "\n"
     ]
    }
   ],
   "source": [
    "word = 'cinémas'\n",
    "with open(path) as f:\n",
    "    occurrence_cinema = f.read().count(word)\n",
    "print(f\"\\n Le mot 'cinémas' apparaître {occurrence_cinema} fois dans le corpus\\n\")"
   ]
  },
  {
   "cell_type": "code",
   "execution_count": 579,
   "id": "2ae1bab6-eac3-443e-858b-ac965ba7c86e",
   "metadata": {},
   "outputs": [
    {
     "name": "stdout",
     "output_type": "stream",
     "text": [
      "\n",
      " 'Cinéma' apparaître 177 fois dans le corpus\n",
      "\n"
     ]
    }
   ],
   "source": [
    "word = 'Cinéma'\n",
    "with open(path) as f:\n",
    "    occurrence_cinemaC = f.read().count(word)\n",
    "print(f\"\\n 'Cinéma' apparaître {occurrence_cinemaC} fois dans le corpus\\n\")"
   ]
  },
  {
   "cell_type": "code",
   "execution_count": 580,
   "id": "c1c81bed-d4df-4342-8205-5c22082cdfeb",
   "metadata": {},
   "outputs": [
    {
     "name": "stdout",
     "output_type": "stream",
     "text": [
      "\n",
      " 'Cinémas' apparaître 58 fois dans le corpus\n",
      "\n"
     ]
    }
   ],
   "source": [
    "word = 'Cinémas'\n",
    "with open(path) as f:\n",
    "    occurrence_cinemaCs = f.read().count(word)\n",
    "print(f\"\\n 'Cinémas' apparaître {occurrence_cinemaCs} fois dans le corpus\\n\")"
   ]
  },
  {
   "cell_type": "code",
   "execution_count": 501,
   "id": "ef1880be-2eac-4d70-b89f-57110dd1a42b",
   "metadata": {},
   "outputs": [
    {
     "name": "stdout",
     "output_type": "stream",
     "text": [
      "\n",
      " 'Cinema' apparaître 2 fois dans le corpus\n",
      "\n"
     ]
    }
   ],
   "source": [
    "word = 'Cinema'\n",
    "with open(path) as f:\n",
    "    occurrence_avencine = f.read().count(word)\n",
    "print(f\"\\n Le mot 'Cinema' apparaître {occurrence_avencine } fois dans le corpus\\n\")\n"
   ]
  },
  {
   "cell_type": "code",
   "execution_count": 505,
   "id": "6f4a9cfd-3d30-4658-90f6-334d257ad36d",
   "metadata": {},
   "outputs": [
    {
     "name": "stdout",
     "output_type": "stream",
     "text": [
      "\n",
      " Le mot 'Cinemas' apparaître 0 fois dans le corpus\n",
      "\n"
     ]
    }
   ],
   "source": [
    "word = 'Cinemas'\n",
    "with open(path) as f:\n",
    "    occurrence_avencine = f.read().count(word)\n",
    "print(f\"\\n Le mot 'Cinemas' apparaître {occurrence_avencine } fois dans le corpus\\n\")"
   ]
  },
  {
   "cell_type": "code",
   "execution_count": 502,
   "id": "447684ae-fe43-4e0e-8c10-3274e2f320ae",
   "metadata": {},
   "outputs": [
    {
     "name": "stdout",
     "output_type": "stream",
     "text": [
      "\n",
      " Le mot 'cinema' apparaître 30 fois dans le corpus\n",
      "\n"
     ]
    }
   ],
   "source": [
    "word = 'cinema'\n",
    "with open(path) as f:\n",
    "    occurrence_avencine = f.read().count(word)\n",
    "print(f\"\\n Le mot 'cinema' apparaître {occurrence_avencine } fois dans le corpus\\n\")"
   ]
  },
  {
   "cell_type": "code",
   "execution_count": 504,
   "id": "ab0329bb-355c-45e9-8513-96ee43727531",
   "metadata": {},
   "outputs": [
    {
     "name": "stdout",
     "output_type": "stream",
     "text": [
      "\n",
      " Le mot 'cinemas' apparaître 0 fois dans le corpus\n",
      "\n"
     ]
    }
   ],
   "source": [
    "word = 'cinemas'\n",
    "with open(path) as f:\n",
    "    occurrence_avencine = f.read().count(word)\n",
    "print(f\"\\n Le mot 'cinemas' apparaître {occurrence_avencine } fois dans le corpus\\n\")"
   ]
  },
  {
   "cell_type": "code",
   "execution_count": 592,
   "id": "0a274ad1-10a2-4d81-aa0d-9427813b3db1",
   "metadata": {
    "tags": []
   },
   "outputs": [
    {
     "name": "stdout",
     "output_type": "stream",
     "text": [
      "\n",
      " 'patrimoine culturel' apparaître 6 fois dans le corpus\n",
      "\n"
     ]
    }
   ],
   "source": [
    "word = 'patrimoine culturel'\n",
    "with open(path) as f:\n",
    "    occurrence_patrimoine = f.read().count(word)\n",
    "print(f\"\\n 'patrimoine culturel' apparaître {occurrence_patrimoine} fois dans le corpus\\n\")"
   ]
  },
  {
   "cell_type": "code",
   "execution_count": 594,
   "id": "0ea34b55-d821-4c9c-88fe-04230406360a",
   "metadata": {
    "tags": []
   },
   "outputs": [
    {
     "name": "stdout",
     "output_type": "stream",
     "text": [
      "\n",
      " 'Patrimoine culturel' apparaître 33 fois dans le corpus\n",
      "\n"
     ]
    }
   ],
   "source": [
    "#ATTENTION : added after first graphics \n",
    "word = 'Patrimoine culturel'\n",
    "with open(path) as f:\n",
    "    occurrence_patrimoinec = f.read().count(word)\n",
    "print(f\"\\n 'Patrimoine culturel' apparaître {occurrence_patrimoinec} fois dans le corpus\\n\")"
   ]
  },
  {
   "cell_type": "code",
   "execution_count": 595,
   "id": "ae0d77a0-373c-463e-b8e1-0bd2e8968e27",
   "metadata": {},
   "outputs": [
    {
     "name": "stdout",
     "output_type": "stream",
     "text": [
      "\n",
      " 'Patrimoine Culturel' apparaître 0 fois dans le corpus\n",
      "\n"
     ]
    }
   ],
   "source": [
    "word = 'Patrimoine Culturel'\n",
    "with open(path) as f:\n",
    "    occurrence_patrimoinecc = f.read().count(word)\n",
    "print(f\"\\n 'Patrimoine Culturel' apparaître {occurrence_patrimoinecc} fois dans le corpus\\n\")"
   ]
  },
  {
   "cell_type": "code",
   "execution_count": 596,
   "id": "07b22a48-100d-483b-a28e-fe12ba9cbca0",
   "metadata": {},
   "outputs": [
    {
     "name": "stdout",
     "output_type": "stream",
     "text": [
      "\n",
      " 'patrimoines culturels' apparaître 0 fois dans le corpus\n",
      "\n"
     ]
    }
   ],
   "source": [
    "word = 'patrimoines culturels'\n",
    "with open(path) as f:\n",
    "    occurrence_patrimoinecs = f.read().count(word)\n",
    "print(f\"\\n 'patrimoines culturels' apparaître {occurrence_patrimoinecs} fois dans le corpus\\n\")"
   ]
  },
  {
   "cell_type": "markdown",
   "id": "95b5f654-f149-4500-a034-fb40b88e7ff7",
   "metadata": {},
   "source": [
    "## specific searches by place name"
   ]
  },
  {
   "cell_type": "code",
   "execution_count": 211,
   "id": "e0d995c6-bf50-447e-aa24-aa2a287d86f3",
   "metadata": {},
   "outputs": [
    {
     "name": "stdout",
     "output_type": "stream",
     "text": [
      "\n",
      " 'la salle des dépêches' apparaître 0 fois dans le corpus\n",
      "\n"
     ]
    }
   ],
   "source": [
    "\n",
    "word = 'la salle des dépêches'\n",
    "with open(path) as f:\n",
    "    occurrence_1 = f.read().count(word)\n",
    "print(f\"\\n 'la salle des dépêches' apparaître {occurrence_1} fois dans le corpus\\n\")"
   ]
  },
  {
   "cell_type": "code",
   "execution_count": 212,
   "id": "15e11e6b-66be-4272-a081-900dfac6483a",
   "metadata": {},
   "outputs": [
    {
     "name": "stdout",
     "output_type": "stream",
     "text": [
      "\n",
      " 'le premier cinéma bruxellois' apparaître 0 fois dans le corpus\n",
      "\n"
     ]
    }
   ],
   "source": [
    "word = 'le premier cinéma bruxellois'\n",
    "with open(path) as f:\n",
    "    occurrence_2 = f.read().count(word)\n",
    "print(f\"\\n 'le premier cinéma bruxellois' apparaître {occurrence_2} fois dans le corpus\\n\")"
   ]
  },
  {
   "cell_type": "code",
   "execution_count": 213,
   "id": "cf813d63-ca55-4fac-b630-1bbfd02f2852",
   "metadata": {},
   "outputs": [
    {
     "name": "stdout",
     "output_type": "stream",
     "text": [
      "\n",
      " 'Galerie du Roi' apparaître 18 fois dans le corpus\n",
      "\n"
     ]
    }
   ],
   "source": [
    "word = 'Galerie du Roi'\n",
    "with open(path) as f:\n",
    "    occurrence_3 = f.read().count(word)\n",
    "print(f\"\\n 'Galerie du Roi' apparaître {occurrence_3} fois dans le corpus\\n\")"
   ]
  },
  {
   "cell_type": "code",
   "execution_count": 216,
   "id": "ba3dd722-be7c-4e2a-8e22-0c17d069e6eb",
   "metadata": {},
   "outputs": [
    {
     "name": "stdout",
     "output_type": "stream",
     "text": [
      "\n",
      " 'frères Lumière' apparaître 1 fois dans le corpus\n",
      "\n"
     ]
    }
   ],
   "source": [
    "word = 'frères Lumière'\n",
    "with open(path) as f:\n",
    "    occurrence_4 = f.read().count(word)\n",
    "print(f\"\\n 'frères Lumière' apparaître {occurrence_4} fois dans le corpus\\n\")"
   ]
  },
  {
   "cell_type": "markdown",
   "id": "92276a2b-da7f-4a28-baff-40d467a707b5",
   "metadata": {},
   "source": [
    "### Les Téâtres"
   ]
  },
  {
   "cell_type": "code",
   "execution_count": 173,
   "id": "1df8b70c-eb99-4a3b-a221-a3f6dfd031de",
   "metadata": {
    "tags": []
   },
   "outputs": [
    {
     "name": "stdout",
     "output_type": "stream",
     "text": [
      "\n",
      " 'Fantaisies-Parisiennes' apparaître 3 fois dans le corpus\n",
      "\n"
     ]
    }
   ],
   "source": [
    "word = 'Fantaisies-Parisiennes'\n",
    "with open(path) as f:\n",
    "    occurrence = f.read().count(word)\n",
    "print(f\"\\n 'Fantaisies-Parisiennes' apparaître {occurrence} fois dans le corpus\\n\")"
   ]
  },
  {
   "cell_type": "code",
   "execution_count": 415,
   "id": "e60d4dfb-2266-4c79-8b1f-ddba1a1585ae",
   "metadata": {
    "tags": []
   },
   "outputs": [
    {
     "name": "stdout",
     "output_type": "stream",
     "text": [
      "\n",
      " ‘Théâtre de la Place des Martyrs' apparaître 0 fois dans le corpus\n",
      "\n"
     ]
    }
   ],
   "source": [
    "word = 'théâtre de la Place des Martyrs'\n",
    "with open(path) as f:\n",
    "    occurrence_tpm = f.read().count(word)\n",
    "print(f\"\\n ‘Théâtre de la Place des Martyrs' apparaître {occurrence_tpm } fois dans le corpus\\n\")"
   ]
  },
  {
   "cell_type": "code",
   "execution_count": 416,
   "id": "a164020b-75a7-438d-a46b-ca4cc11d33df",
   "metadata": {},
   "outputs": [
    {
     "name": "stdout",
     "output_type": "stream",
     "text": [
      "\n",
      " ‘Opéra du Quai au Foin'' apparaître 0 fois dans le corpus\n",
      "\n"
     ]
    }
   ],
   "source": [
    "word = 'opéra du Quai au Foin'\n",
    "with open(path) as f:\n",
    "    occurrence_oqf = f.read().count(word)\n",
    "print(f\"\\n ‘Opéra du Quai au Foin'' apparaître {occurrence_oqf} fois dans le corpus\\n\")"
   ]
  },
  {
   "cell_type": "code",
   "execution_count": 417,
   "id": "710d42e3-7b3a-4c99-bd20-c634e4d95497",
   "metadata": {},
   "outputs": [
    {
     "name": "stdout",
     "output_type": "stream",
     "text": [
      "\n",
      " 'théâtre de Poche' apparaître 0 fois dans le corpus\n",
      "\n"
     ]
    }
   ],
   "source": [
    "word = 'théâtre de Poche'\n",
    "with open(path) as f:\n",
    "    occurrence_tp = f.read().count(word)\n",
    "print(f\"\\n 'théâtre de Poche' apparaître {occurrence_tp} fois dans le corpus\\n\")"
   ]
  },
  {
   "cell_type": "code",
   "execution_count": 419,
   "id": "cbacbc3e-b851-49f6-bccb-14fa955230d5",
   "metadata": {},
   "outputs": [
    {
     "name": "stdout",
     "output_type": "stream",
     "text": [
      "\n",
      " ‘Théâtre de l'Esprit Frappeur' apparaître 0 fois dans le corpus\n",
      "\n"
     ]
    }
   ],
   "source": [
    "word = \"théâtre de l'Esprit Frappeur\"\n",
    "with open(path) as f:\n",
    "    occurrence_tef = f.read().count(word)\n",
    "print(f\"\\n ‘Théâtre de l'Esprit Frappeur' apparaître {occurrence_tef} fois dans le corpus\\n\")"
   ]
  },
  {
   "cell_type": "code",
   "execution_count": 420,
   "id": "047d816c-a2e4-455c-b21d-91e261d808eb",
   "metadata": {},
   "outputs": [
    {
     "name": "stdout",
     "output_type": "stream",
     "text": [
      "\n",
      " ‘Théâtre du Vaudeville' apparaître 15 fois dans le corpus\n",
      "\n"
     ]
    }
   ],
   "source": [
    "word = 'théâtre du Vaudeville'\n",
    "with open(path) as f:\n",
    "    occurrence_tv = f.read().count(word)\n",
    "print(f\"\\n ‘Théâtre du Vaudeville' apparaître {occurrence_tv} fois dans le corpus\\n\")"
   ]
  },
  {
   "cell_type": "code",
   "execution_count": 421,
   "id": "3c17f762-0705-4411-986e-fb45831b6e53",
   "metadata": {},
   "outputs": [
    {
     "name": "stdout",
     "output_type": "stream",
     "text": [
      "\n",
      " 'Théâtre National Wallonie-Bruxelles' apparaître 0 fois dans le corpus\n",
      "\n"
     ]
    }
   ],
   "source": [
    "word = 'Théâtre National Wallonie-Bruxelles'\n",
    "with open(path) as f:\n",
    "    occurrence_tnwb = f.read().count(word)\n",
    "print(f\"\\n 'Théâtre National Wallonie-Bruxelles' apparaître {occurrence_tnwb} fois dans le corpus\\n\")"
   ]
  },
  {
   "cell_type": "code",
   "execution_count": 422,
   "id": "80a16f4c-8df7-4d89-a5ed-eadbc5794864",
   "metadata": {},
   "outputs": [
    {
     "name": "stdout",
     "output_type": "stream",
     "text": [
      "\n",
      " ‘Théâtre royal des Galeries' apparaître 0 fois dans le corpus\n",
      "\n"
     ]
    }
   ],
   "source": [
    "word = 'théâtre royal des Galeries'\n",
    "with open(path) as f:\n",
    "    occurrence_trgs = f.read().count(word)\n",
    "print(f\"\\n ‘Théâtre royal des Galeries' apparaître {occurrence_trgs} fois dans le corpus\\n\")"
   ]
  },
  {
   "cell_type": "code",
   "execution_count": 423,
   "id": "8d55f0b3-0bb4-41cb-b8fb-ede1722572b3",
   "metadata": {},
   "outputs": [
    {
     "name": "stdout",
     "output_type": "stream",
     "text": [
      "\n",
      " ‘Théâtre royal du Parc' apparaître 19 fois dans le corpus\n",
      "\n"
     ]
    }
   ],
   "source": [
    "word = 'théâtre royal du Parc'\n",
    "with open(path) as f:\n",
    "    occurrence_trparc = f.read().count(word)\n",
    "print(f\"\\n ‘Théâtre royal du Parc' apparaître {occurrence_trparc} fois dans le corpus\\n\")"
   ]
  },
  {
   "cell_type": "code",
   "execution_count": 424,
   "id": "b9b15d7d-7604-4720-ab58-407e18aff37c",
   "metadata": {
    "tags": []
   },
   "outputs": [
    {
     "name": "stdout",
     "output_type": "stream",
     "text": [
      "\n",
      " 'Cercle Gaulois' apparaître 12 fois dans le corpus\n",
      "\n"
     ]
    }
   ],
   "source": [
    "word = 'Cercle Gaulois'\n",
    "with open(path) as f:\n",
    "    occurrence_cgaulois = f.read().count(word)\n",
    "print(f\"\\n 'Cercle Gaulois' apparaître {occurrence_cgaulois} fois dans le corpus\\n\")"
   ]
  },
  {
   "cell_type": "code",
   "execution_count": 425,
   "id": "83c11d40-2330-428d-b95e-7ca8fd401096",
   "metadata": {},
   "outputs": [
    {
     "name": "stdout",
     "output_type": "stream",
     "text": [
      "\n",
      " 'Théâtre Le Plaza' apparaître 0 fois dans le corpus\n",
      "\n"
     ]
    }
   ],
   "source": [
    "word = 'Théâtre Le Plaza'\n",
    "with open(path) as f:\n",
    "    occurrence_tleplaza = f.read().count(word)\n",
    "print(f\"\\n 'Théâtre Le Plaza' apparaître {occurrence_tleplaza} fois dans le corpus\\n\")"
   ]
  },
  {
   "cell_type": "code",
   "execution_count": 426,
   "id": "04f52be0-259c-4272-9d9c-f53d3c9937f6",
   "metadata": {},
   "outputs": [
    {
     "name": "stdout",
     "output_type": "stream",
     "text": [
      "\n",
      " 'La Samaritaine' apparaître 3 fois dans le corpus\n",
      "\n"
     ]
    }
   ],
   "source": [
    "word = 'La Samaritaine'\n",
    "with open(path) as f:\n",
    "    occurrence_lasam = f.read().count(word)\n",
    "print(f\"\\n 'La Samaritaine' apparaître {occurrence_lasam} fois dans le corpus\\n\")"
   ]
  },
  {
   "cell_type": "code",
   "execution_count": 427,
   "id": "fc055a9a-4e54-43e6-9b91-d0d8b385e4e0",
   "metadata": {},
   "outputs": [
    {
     "name": "stdout",
     "output_type": "stream",
     "text": [
      "\n",
      " 'Les Tanneurs' apparaître 0 fois dans le corpus\n",
      "\n"
     ]
    }
   ],
   "source": [
    "word = 'Les Tanneurs'\n",
    "with open(path) as f:\n",
    "    occurrence_testann = f.read().count(word)\n",
    "print(f\"\\n 'Les Tanneurs' apparaître {occurrence_testann} fois dans le corpus\\n\")"
   ]
  },
  {
   "cell_type": "code",
   "execution_count": 428,
   "id": "ad0e7056-fe77-41d2-954b-9e0a915a2641",
   "metadata": {},
   "outputs": [
    {
     "name": "stdout",
     "output_type": "stream",
     "text": [
      "\n",
      " 'Théâtre royal flamand de Bruxelles' apparaître 19 fois dans le corpus\n",
      "\n"
     ]
    }
   ],
   "source": [
    "word = 'Théâtre royal flamand de Bruxelles'\n",
    "with open(path) as f:\n",
    "    occurrence_trflab = f.read().count(word)\n",
    "print(f\"\\n 'Théâtre royal flamand de Bruxelles' apparaître {occurrence_trparc} fois dans le corpus\\n\")"
   ]
  },
  {
   "cell_type": "code",
   "execution_count": 429,
   "id": "72a40010-b455-417f-90c1-b019a44356f8",
   "metadata": {},
   "outputs": [
    {
     "name": "stdout",
     "output_type": "stream",
     "text": [
      "\n",
      " 'BRONKS' apparaître 0 fois dans le corpus\n",
      "\n"
     ]
    }
   ],
   "source": [
    "word = 'BRONKS'\n",
    "with open(path) as f:\n",
    "    occurrence_BRONKS = f.read().count(word)\n",
    "print(f\"\\n 'BRONKS' apparaître {occurrence_BRONKS} fois dans le corpus\\n\")"
   ]
  },
  {
   "cell_type": "code",
   "execution_count": 431,
   "id": "6acf5589-b653-42c6-aba2-84528d886e25",
   "metadata": {},
   "outputs": [
    {
     "name": "stdout",
     "output_type": "stream",
     "text": [
      "\n",
      " 'Alhambra' apparaître 270 fois dans le corpus\n",
      "\n"
     ]
    }
   ],
   "source": [
    "word = 'Alhambra'\n",
    "with open(path) as f:\n",
    "    occurrence_alham = f.read().count(word)\n",
    "print(f\"\\n 'Alhambra' apparaître {occurrence_alham} fois dans le corpus\\n\")"
   ]
  },
  {
   "cell_type": "code",
   "execution_count": 432,
   "id": "577df80c-0243-4d55-98a7-44743af2612d",
   "metadata": {
    "tags": []
   },
   "outputs": [
    {
     "name": "stdout",
     "output_type": "stream",
     "text": [
      "\n",
      " 'Concert Noble' apparaître 25 fois dans le corpus\n",
      "\n"
     ]
    }
   ],
   "source": [
    "word = 'Concert Noble'\n",
    "with open(path) as f:\n",
    "    occurrence_concertn = f.read().count(word)\n",
    "print(f\"\\n 'Concert Noble' apparaître { occurrence_concertn } fois dans le corpus\\n\")"
   ]
  },
  {
   "cell_type": "code",
   "execution_count": 433,
   "id": "917e91bf-cc3c-4d35-8ca6-744b1840bab9",
   "metadata": {},
   "outputs": [
    {
     "name": "stdout",
     "output_type": "stream",
     "text": [
      "\n",
      " 'Theater Arte' apparaître 0 fois dans le corpus\n",
      "\n"
     ]
    }
   ],
   "source": [
    "word = 'Theater Arte'\n",
    "with open(path) as f:\n",
    "    occurrence_theaterart = f.read().count(word)\n",
    "print(f\"\\n 'Theater Arte' apparaître {occurrence_theaterart} fois dans le corpus\\n\")"
   ]
  },
  {
   "cell_type": "code",
   "execution_count": 434,
   "id": "13af2d82-a58c-4325-b12a-15bc3f245009",
   "metadata": {},
   "outputs": [
    {
     "name": "stdout",
     "output_type": "stream",
     "text": [
      "\n",
      " 'La Montagne Magique' apparaître 0 fois dans le corpus\n",
      "\n"
     ]
    }
   ],
   "source": [
    "word = 'La Montagne Magique'\n",
    "with open(path) as f:\n",
    "    occurrence_montmag = f.read().count(word)\n",
    "print(f\"\\n 'La Montagne Magique' apparaître {occurrence_montmag} fois dans le corpus\\n\")"
   ]
  },
  {
   "cell_type": "code",
   "execution_count": 435,
   "id": "4b9360a4-bb8c-4ea7-aeed-7d45e941df59",
   "metadata": {},
   "outputs": [
    {
     "name": "stdout",
     "output_type": "stream",
     "text": [
      "\n",
      " 'KVS Top' apparaître 0 fois dans le corpus\n",
      "\n"
     ]
    }
   ],
   "source": [
    "word = 'KVS Top'\n",
    "with open(path) as f:\n",
    "    occurrence_kvs = f.read().count(word)\n",
    "print(f\"\\n 'KVS Top' apparaître {occurrence_kvs} fois dans le corpus\\n\")"
   ]
  },
  {
   "cell_type": "code",
   "execution_count": 436,
   "id": "3a23fdb0-c47d-48a9-a801-b4cb2ff2a596",
   "metadata": {},
   "outputs": [
    {
     "name": "stdout",
     "output_type": "stream",
     "text": [
      "\n",
      " 'Lunatheater' apparaître 0 fois dans le corpus\n",
      "\n"
     ]
    }
   ],
   "source": [
    "word = 'Lunatheater'\n",
    "with open(path) as f:\n",
    "    occurrence_luna = f.read().count(word)\n",
    "print(f\"\\n 'Lunatheater' apparaître {occurrence_luna} fois dans le corpus\\n\")"
   ]
  },
  {
   "cell_type": "code",
   "execution_count": 438,
   "id": "19f221e3-7082-4cd2-ac44-1a7fc5d9cfa6",
   "metadata": {},
   "outputs": [
    {
     "name": "stdout",
     "output_type": "stream",
     "text": [
      "\n",
      " 'KVS Box' apparaître 0 fois dans le corpus\n",
      "\n"
     ]
    }
   ],
   "source": [
    "word = 'KVS Box'\n",
    "with open(path) as f:\n",
    "    occurrence_kvsb = f.read().count(word)\n",
    "print(f\"\\n 'KVS Box' apparaître {occurrence_kvsb} fois dans le corpus\\n\")"
   ]
  },
  {
   "cell_type": "code",
   "execution_count": 439,
   "id": "4dd0392a-c148-46e3-9421-37669f263c8b",
   "metadata": {},
   "outputs": [
    {
     "name": "stdout",
     "output_type": "stream",
     "text": [
      "\n",
      " 'Bronks-kapel' apparaître 0 fois dans le corpus\n",
      "\n"
     ]
    }
   ],
   "source": [
    "word = 'Bronks-kapel'\n",
    "with open(path) as f:\n",
    "    occurrence_bronksk = f.read().count(word)\n",
    "print(f\"\\n 'Bronks-kapel' apparaître {occurrence_bronksk} fois dans le corpus\\n\")"
   ]
  },
  {
   "cell_type": "code",
   "execution_count": 441,
   "id": "5802cdcc-1dca-4561-9646-32d4a9196362",
   "metadata": {},
   "outputs": [
    {
     "name": "stdout",
     "output_type": "stream",
     "text": [
      "\n",
      " 'Kaaitstudio's' apparaître 0 fois dans le corpus\n",
      "\n"
     ]
    }
   ],
   "source": [
    "word = \"Kaaitstudio's\"\n",
    "with open(path) as f:\n",
    "    occurrence_kaai = f.read().count(word)\n",
    "print(f\"\\n 'Kaaitstudio's' apparaître {occurrence_kaai} fois dans le corpus\\n\")"
   ]
  },
  {
   "cell_type": "code",
   "execution_count": 442,
   "id": "b658878c-bd78-446a-9e98-11b765d10feb",
   "metadata": {},
   "outputs": [
    {
     "name": "stdout",
     "output_type": "stream",
     "text": [
      "\n",
      " 'Espace Magh' apparaître 0 fois dans le corpus\n",
      "\n"
     ]
    }
   ],
   "source": [
    "word = 'Espace Magh'\n",
    "with open(path) as f:\n",
    "    occurrence_espmagh = f.read().count(word)\n",
    "print(f\"\\n 'Espace Magh' apparaître {occurrence_espmagh} fois dans le corpus\\n\")"
   ]
  },
  {
   "cell_type": "code",
   "execution_count": 443,
   "id": "7f035c7a-18b4-4d02-897b-0ea90dbd617e",
   "metadata": {},
   "outputs": [
    {
     "name": "stdout",
     "output_type": "stream",
     "text": [
      "\n",
      " 'Les Tréteaux' apparaître 0 fois dans le corpus\n",
      "\n"
     ]
    }
   ],
   "source": [
    "word = 'Les Tréteaux'\n",
    "with open(path) as f:\n",
    "    occurrence_lestre = f.read().count(word)\n",
    "print(f\"\\n 'Les Tréteaux' apparaître {occurrence_lestre} fois dans le corpus\\n\")"
   ]
  },
  {
   "cell_type": "code",
   "execution_count": 444,
   "id": "5aae53be-cd46-48f9-9659-95e37951ab3c",
   "metadata": {},
   "outputs": [
    {
     "name": "stdout",
     "output_type": "stream",
     "text": [
      "\n",
      " 'Maison traditionnelle' apparaître 0 fois dans le corpus\n",
      "\n"
     ]
    }
   ],
   "source": [
    "word = 'Maison traditionnelle'\n",
    "with open(path) as f:\n",
    "    occurrence_maisontra = f.read().count(word)\n",
    "print(f\"\\n 'Maison traditionnelle' apparaître {occurrence_maisontra} fois dans le corpus\\n\")"
   ]
  },
  {
   "cell_type": "code",
   "execution_count": 446,
   "id": "d9f9bb45-0765-42ad-aa37-a33b86611b04",
   "metadata": {},
   "outputs": [
    {
     "name": "stdout",
     "output_type": "stream",
     "text": [
      "\n",
      " 'Kaaitheater' apparaître 21 fois dans le corpus\n",
      "\n"
     ]
    }
   ],
   "source": [
    "word = 'Kaaitheater'\n",
    "with open(path) as f:\n",
    "    occurrence_kaait = f.read().count(word)\n",
    "print(f\"\\n 'Kaaitheater' apparaître {occurrence_kaait} fois dans le corpus\\n\")"
   ]
  },
  {
   "cell_type": "code",
   "execution_count": 447,
   "id": "5df71fe2-c7bb-4cd9-9b58-69a664ee39c4",
   "metadata": {},
   "outputs": [
    {
     "name": "stdout",
     "output_type": "stream",
     "text": [
      "\n",
      " 'Théâtre de La Monnaie' apparaître 0 fois dans le corpus\n",
      "\n"
     ]
    }
   ],
   "source": [
    "\n",
    "word = 'Théâtre de La Monnaie'\n",
    "with open(path) as f:\n",
    "    occurrence_thelamo = f.read().count(word)\n",
    "print(f\"\\n 'Théâtre de La Monnaie' apparaître {occurrence_thelamo} fois dans le corpus\\n\")"
   ]
  },
  {
   "cell_type": "code",
   "execution_count": 448,
   "id": "e1a2d9a5-39c5-4c1b-bc46-f84d76ef148a",
   "metadata": {},
   "outputs": [
    {
     "name": "stdout",
     "output_type": "stream",
     "text": [
      "\n",
      " 'Ciné Rio' apparaître 0 fois dans le corpus\n",
      "\n"
     ]
    }
   ],
   "source": [
    "word = 'Ciné Rio'\n",
    "with open(path) as f:\n",
    "    occurrence_cirio = f.read().count(word)\n",
    "print(f\"\\n 'Ciné Rio' apparaître {occurrence_cirio} fois dans le corpus\\n\")"
   ]
  },
  {
   "cell_type": "code",
   "execution_count": 456,
   "id": "d71169d1-db1b-406b-9512-3089e7d44538",
   "metadata": {},
   "outputs": [
    {
     "name": "stdout",
     "output_type": "stream",
     "text": [
      "\n",
      " 'Theatre La Monnaie' apparaître 0 fois dans le corpus\n",
      "\n"
     ]
    }
   ],
   "source": [
    "word = 'theatre la monnaie'\n",
    "with open(path) as f:\n",
    "    occurrence_lamo = f.read().count(word)\n",
    "print(f\"\\n 'Theatre La Monnaie' apparaître {occurrence_lamo} fois dans le corpus\\n\")"
   ]
  },
  {
   "cell_type": "code",
   "execution_count": 458,
   "id": "96f908f5-6988-4c79-a58e-1f35a61d184c",
   "metadata": {},
   "outputs": [
    {
     "name": "stdout",
     "output_type": "stream",
     "text": [
      "\n",
      " 'Théâtre La Gaîté' apparaître 0 fois dans le corpus\n",
      "\n"
     ]
    }
   ],
   "source": [
    "word = 'Théâtre La Gaîté'\n",
    "with open(path) as f:\n",
    "    occurrence_lagai = f.read().count(word)\n",
    "print(f\"\\n 'Théâtre La Gaîté' apparaître {occurrence_lagai} fois dans le corpus\\n\")"
   ]
  },
  {
   "cell_type": "code",
   "execution_count": 459,
   "id": "959d74b0-18b4-466f-9e0e-ab7db54c032d",
   "metadata": {
    "tags": []
   },
   "outputs": [
    {
     "name": "stdout",
     "output_type": "stream",
     "text": [
      "\n",
      " 'Ancien Théâtre des Variétés' apparaître 0 fois dans le corpus\n",
      "\n"
     ]
    }
   ],
   "source": [
    "word = 'Ancien Théâtre des Variétés'\n",
    "with open(path) as f:\n",
    "    occurrence_anvarie = f.read().count(word)\n",
    "print(f\"\\n 'Ancien Théâtre des Variétés' apparaître {occurrence_anvarie} fois dans le corpus\\n\")"
   ]
  },
  {
   "cell_type": "code",
   "execution_count": 464,
   "id": "8c49d189-d9d8-4d07-8f76-7757755be3f7",
   "metadata": {},
   "outputs": [
    {
     "name": "stdout",
     "output_type": "stream",
     "text": [
      "\n",
      " 'Ancien Théâtre de l'Olympia' apparaître 0 fois dans le corpus\n",
      "\n"
     ]
    }
   ],
   "source": [
    "word = \"Ancien Théâtre de l'Olympia\"\n",
    "with open(path) as f:\n",
    "    occurrence_anolym = f.read().count(word)\n",
    "print(f\"\\n 'Ancien Théâtre de l'Olympia' apparaître {occurrence_anolym} fois dans le corpus\\n\")"
   ]
  },
  {
   "cell_type": "code",
   "execution_count": 465,
   "id": "e481e37b-ea0f-4d59-b225-19f2c0d0a923",
   "metadata": {},
   "outputs": [
    {
     "name": "stdout",
     "output_type": "stream",
     "text": [
      "\n",
      " 'Théâtre de l'Olympia' apparaître 0 fois dans le corpus\n",
      "\n"
     ]
    }
   ],
   "source": [
    "word = \"Théâtre de l'Olympia\"\n",
    "with open(path) as f:\n",
    "    occurrence_olym = f.read().count(word)\n",
    "print(f\"\\n 'Théâtre de l'Olympia' apparaître {occurrence_olym} fois dans le corpus\\n\")"
   ]
  },
  {
   "cell_type": "code",
   "execution_count": 466,
   "id": "f6e6efb1-8cda-485b-a77e-f271b17f5e67",
   "metadata": {},
   "outputs": [
    {
     "name": "stdout",
     "output_type": "stream",
     "text": [
      "\n",
      " 'Salle Patria' apparaître 7 fois dans le corpus\n",
      "\n"
     ]
    }
   ],
   "source": [
    "word = 'Salle Patria'\n",
    "with open(path) as f:\n",
    "    occurrence_salle = f.read().count(word)\n",
    "print(f\"\\n 'Salle Patria' apparaître {occurrence_salle} fois dans le corpus\\n\")"
   ]
  },
  {
   "cell_type": "markdown",
   "id": "1e9e60d4-1796-4e2c-bf02-d022576dae4b",
   "metadata": {},
   "source": [
    "### Les Centres Culturels"
   ]
  },
  {
   "cell_type": "code",
   "execution_count": 217,
   "id": "10995c63-85bf-4b59-8691-52ddacf7cd59",
   "metadata": {},
   "outputs": [
    {
     "name": "stdout",
     "output_type": "stream",
     "text": [
      "\n",
      " 'Les Brigittines' apparaître 4 fois dans le corpus\n",
      "\n"
     ]
    }
   ],
   "source": [
    "word = 'Les Brigittines'\n",
    "with open(path) as f:\n",
    "    occurrence_Les_Brigittines = f.read().count(word)\n",
    "print(f\"\\n 'Les Brigittines' apparaître {occurrence_Les_Brigittines } fois dans le corpus\\n\")"
   ]
  },
  {
   "cell_type": "code",
   "execution_count": 219,
   "id": "d0534985-5b02-4309-908e-0780a9683add",
   "metadata": {
    "tags": []
   },
   "outputs": [
    {
     "name": "stdout",
     "output_type": "stream",
     "text": [
      "\n",
      " 'Beursschouwburg' apparaître 32 fois dans le corpus\n",
      "\n"
     ]
    }
   ],
   "source": [
    "word = 'Beursschouwburg'\n",
    "with open(path) as f:\n",
    "    occurrence_Beursschouwburg = f.read().count(word)\n",
    "print(f\"\\n 'Beursschouwburg' apparaître {occurrence_Beursschouwburg} fois dans le corpus\\n\")"
   ]
  },
  {
   "cell_type": "code",
   "execution_count": 220,
   "id": "5ea37530-2292-481b-99de-f433d9fcbb66",
   "metadata": {},
   "outputs": [
    {
     "name": "stdout",
     "output_type": "stream",
     "text": [
      "\n",
      " 'Bozar' apparaître 0 fois dans le corpus\n",
      "\n"
     ]
    }
   ],
   "source": [
    "word = 'Bozar'\n",
    "with open(path) as f:\n",
    "    occurrence_Bozar = f.read().count(word)\n",
    "print(f\"\\n 'Bozar' apparaître {  occurrence_Bozar} fois dans le corpus\\n\")"
   ]
  },
  {
   "cell_type": "code",
   "execution_count": 221,
   "id": "50ad7108-f2ad-4f4d-9d44-cdfc50208933",
   "metadata": {},
   "outputs": [
    {
     "name": "stdout",
     "output_type": "stream",
     "text": [
      "\n",
      " 'Palais des Beaux-Arts' apparaître 323 fois dans le corpus\n",
      "\n"
     ]
    }
   ],
   "source": [
    "word = 'Palais des Beaux-Arts'\n",
    "with open(path) as f:\n",
    "    occurrence_Bozar = f.read().count(word)\n",
    "print(f\"\\n 'Palais des Beaux-Arts' apparaître {occurrence_Bozar} fois dans le corpus\\n\")"
   ]
  },
  {
   "cell_type": "code",
   "execution_count": 224,
   "id": "2f26ad75-5ceb-410b-9bc7-a8d7ba974647",
   "metadata": {},
   "outputs": [
    {
     "name": "stdout",
     "output_type": "stream",
     "text": [
      "\n",
      " 'Kaaitheater' apparaître 21 fois dans le corpus\n",
      "\n"
     ]
    }
   ],
   "source": [
    "word = 'Kaaitheater'\n",
    "with open(path) as f:\n",
    "    occurrence_Kaaitheater = f.read().count(word)\n",
    "print(f\"\\n 'Kaaitheater' apparaître {occurrence_Kaaitheater } fois dans le corpus\\n\")"
   ]
  },
  {
   "cell_type": "code",
   "execution_count": 226,
   "id": "74dd30d9-f11b-4b4b-8a1f-67d011e89337",
   "metadata": {},
   "outputs": [
    {
     "name": "stdout",
     "output_type": "stream",
     "text": [
      "\n",
      " 'Matrix Art Project' apparaître 0 fois dans le corpus\n",
      "\n"
     ]
    }
   ],
   "source": [
    "word = 'Matrix Art Project'\n",
    "with open(path) as f:\n",
    "    occurrence_matrix = f.read().count(word)\n",
    "print(f\"\\n 'Matrix Art Project' apparaître {occurrence_matrix} fois dans le corpus\\n\")"
   ]
  },
  {
   "cell_type": "code",
   "execution_count": 227,
   "id": "7d947826-48d3-4878-a9a3-b6635bef5b74",
   "metadata": {
    "tags": []
   },
   "outputs": [
    {
     "name": "stdout",
     "output_type": "stream",
     "text": [
      "\n",
      " 'Espace Magh' apparaître 0 fois dans le corpus\n",
      "\n"
     ]
    }
   ],
   "source": [
    "word = 'Espace Magh'\n",
    "with open(path) as f:\n",
    "    occurrence_espace = f.read().count(word)\n",
    "print(f\"\\n 'Espace Magh' apparaître {occurrence_espace} fois dans le corpus\\n\")"
   ]
  },
  {
   "cell_type": "code",
   "execution_count": 228,
   "id": "84bfbf38-5d52-4202-b5c2-8a73b784bb84",
   "metadata": {},
   "outputs": [
    {
     "name": "stdout",
     "output_type": "stream",
     "text": [
      "\n",
      " 'Espace Catastrophe' apparaître 0 fois dans le corpus\n",
      "\n"
     ]
    }
   ],
   "source": [
    "word = 'Espace Catastrophe'\n",
    "with open(path) as f:\n",
    "    occurrence_espace = f.read().count(word)\n",
    "print(f\"\\n 'Espace Catastrophe' apparaître {occurrence_espace} fois dans le corpus\\n\")"
   ]
  },
  {
   "cell_type": "code",
   "execution_count": 229,
   "id": "1395277c-76b8-4349-b23d-57871d30d935",
   "metadata": {},
   "outputs": [
    {
     "name": "stdout",
     "output_type": "stream",
     "text": [
      "\n",
      " 'Kunstenhuis Pantalone' apparaître 0 fois dans le corpus\n",
      "\n"
     ]
    }
   ],
   "source": [
    "word = 'Kunstenhuis Pantalone'\n",
    "with open(path) as f:\n",
    "    occurrence_kunstenhuis = f.read().count(word)\n",
    "print(f\"\\n 'Kunstenhuis Pantalone' apparaître {occurrence_kunstenhuis} fois dans le corpus\\n\")"
   ]
  },
  {
   "cell_type": "code",
   "execution_count": 230,
   "id": "ed616c21-46ae-43f1-aace-834a15f536cc",
   "metadata": {},
   "outputs": [
    {
     "name": "stdout",
     "output_type": "stream",
     "text": [
      "\n",
      " 'Kunstenhuis' apparaître 0 fois dans le corpus\n",
      "\n"
     ]
    }
   ],
   "source": [
    "word = 'Kunstenhuis'\n",
    "with open(path) as f:\n",
    "    occurrence_kunstenhuis = f.read().count(word)\n",
    "print(f\"\\n 'Kunstenhuis' apparaître {occurrence_kunstenhuis} fois dans le corpus\\n\")"
   ]
  },
  {
   "cell_type": "code",
   "execution_count": 232,
   "id": "47d9ebb2-ba89-483f-b69a-19ea6d6c4848",
   "metadata": {},
   "outputs": [
    {
     "name": "stdout",
     "output_type": "stream",
     "text": [
      "\n",
      " 'Théâtre de L'L' apparaître 0 fois dans le corpus\n",
      "\n"
     ]
    }
   ],
   "source": [
    "word = 'Théâtre de L''L'\n",
    "with open(path) as f:\n",
    "    occurrence_théâtre_l_l = f.read().count(word)\n",
    "print(f\"\\n 'Théâtre de L'L' apparaître {occurrence_théâtre_l_l} fois dans le corpus\\n\")"
   ]
  },
  {
   "cell_type": "code",
   "execution_count": 233,
   "id": "a66ec28b-9559-4654-a422-d73d939c0e54",
   "metadata": {
    "tags": []
   },
   "outputs": [
    {
     "name": "stdout",
     "output_type": "stream",
     "text": [
      "\n",
      " 'Argos, Centrum voor Kunst en Media' apparaître 0 fois dans le corpus\n",
      "\n"
     ]
    }
   ],
   "source": [
    "word = 'Argos, Centrum voor Kunst en Media'\n",
    "with open(path) as f:\n",
    "    occurrence_argos = f.read().count(word)\n",
    "print(f\"\\n 'Argos, Centrum voor Kunst en Media' apparaître {occurrence_argos} fois dans le corpus\\n\")"
   ]
  },
  {
   "cell_type": "code",
   "execution_count": 234,
   "id": "e6d385af-346d-4e3d-85c6-488c3a4a1b60",
   "metadata": {},
   "outputs": [
    {
     "name": "stdout",
     "output_type": "stream",
     "text": [
      "\n",
      " 'Centrum voor Kunst en Media' apparaître 0 fois dans le corpus\n",
      "\n"
     ]
    }
   ],
   "source": [
    "word = 'Centrum voor Kunst en Media'\n",
    "with open(path) as f:\n",
    "    occurrence_argos = f.read().count(word)\n",
    "print(f\"\\n 'Centrum voor Kunst en Media' apparaître {occurrence_argos} fois dans le corpus\\n\")"
   ]
  },
  {
   "cell_type": "code",
   "execution_count": 239,
   "id": "f29bc9e1-da4c-447a-b22e-33ecc4e8206a",
   "metadata": {},
   "outputs": [
    {
     "name": "stdout",
     "output_type": "stream",
     "text": [
      "\n",
      " 'CENTRALE For Contemporary Art' apparaître 0 fois dans le corpus\n",
      "\n"
     ]
    }
   ],
   "source": [
    "word = 'CENTRALE For Contemporary Art'\n",
    "with open(path) as f:\n",
    "    occurrence_centrale = f.read().count(word)\n",
    "print(f\"\\n 'CENTRALE For Contemporary Art' apparaître {occurrence_centrale} fois dans le corpus\\n\")\n"
   ]
  },
  {
   "cell_type": "markdown",
   "id": "db6c6443-2473-45f0-8b02-e32217e4bb9a",
   "metadata": {},
   "source": [
    "### Les musées"
   ]
  },
  {
   "cell_type": "code",
   "execution_count": 240,
   "id": "21f05d34-087b-43bc-bef6-19f4bc398c27",
   "metadata": {},
   "outputs": [
    {
     "name": "stdout",
     "output_type": "stream",
     "text": [
      "\n",
      " 'Musées royaux des Beaux-Arts' apparaître 12 fois dans le corpus\n",
      "\n"
     ]
    }
   ],
   "source": [
    "word = 'Musées royaux des Beaux-Arts'\n",
    "with open(path) as f:\n",
    "    occurrence_muséeBozar = f.read().count(word)\n",
    "print(f\"\\n 'Musées royaux des Beaux-Arts' apparaître {occurrence_muséeBozar} fois dans le corpus\\n\") "
   ]
  },
  {
   "cell_type": "code",
   "execution_count": 243,
   "id": "ada539aa-b0fd-4701-bd69-eb1628f0aa33",
   "metadata": {},
   "outputs": [
    {
     "name": "stdout",
     "output_type": "stream",
     "text": [
      "\n",
      " 'Aquarium' apparaître 17 fois dans le corpus\n",
      "\n"
     ]
    }
   ],
   "source": [
    "word = 'Aquarium'\n",
    "with open(path) as f:\n",
    "    occurrence_aquarium = f.read().count(word)\n",
    "print(f\"\\n 'Aquarium' apparaître {occurrence_aquarium} fois dans le corpus\\n\") "
   ]
  },
  {
   "cell_type": "code",
   "execution_count": 406,
   "id": "ee0f40c4-eeb2-49c4-849a-38db9d84aed2",
   "metadata": {},
   "outputs": [
    {
     "name": "stdout",
     "output_type": "stream",
     "text": [
      "\n",
      " 'maison de l'Histoire européenne' apparaître 0 fois dans le corpus\n",
      "\n"
     ]
    }
   ],
   "source": [
    "word = \"maison de l'histoire européenne\"\n",
    "with open(path) as f:\n",
    "    occurrence_mhe = f.read().count(word)\n",
    "print(f\"\\n 'maison de l'Histoire européenne' apparaître {occurrence_mhe} fois dans le corpus\\n\") "
   ]
  },
  {
   "cell_type": "code",
   "execution_count": 256,
   "id": "0ceaa7c2-50bb-43dd-8b02-2e00c44a9c34",
   "metadata": {},
   "outputs": [
    {
     "name": "stdout",
     "output_type": "stream",
     "text": [
      "\n",
      " 'Musea van het Verre Oosten' apparaître 0 fois dans le corpus\n",
      "\n"
     ]
    }
   ],
   "source": [
    "word = 'Musea van het Verre Oosten'\n",
    "with open(path) as f:\n",
    "    occurrence_mvhvo = f.read().count(word)\n",
    "print(f\"\\n 'Musea van het Verre Oosten' apparaître {occurrence_mvhvo} fois dans le corpus\\n\") "
   ]
  },
  {
   "cell_type": "code",
   "execution_count": 257,
   "id": "3e63a450-aeeb-4f48-bede-8041471270e5",
   "metadata": {},
   "outputs": [
    {
     "name": "stdout",
     "output_type": "stream",
     "text": [
      "\n",
      " 'Musée d Ixelles' apparaître 0 fois dans le corpus\n",
      "\n"
     ]
    }
   ],
   "source": [
    "word = 'Musée d Ixelles'\n",
    "with open(path) as f:\n",
    "    occurrence_mdi = f.read().count(word)\n",
    "print(f\"\\n 'Musée d Ixelles' apparaître {occurrence_mdi } fois dans le corpus\\n\") "
   ]
  },
  {
   "cell_type": "code",
   "execution_count": 258,
   "id": "8fdb92fb-aece-4ba4-a07c-2aa333a2e0ba",
   "metadata": {},
   "outputs": [
    {
     "name": "stdout",
     "output_type": "stream",
     "text": [
      "\n",
      " 'Museum voor dierkunde ULB Auguste Lameere' apparaître 0 fois dans le corpus\n",
      "\n"
     ]
    }
   ],
   "source": [
    "word = 'Museum voor dierkunde ULB Auguste Lameere'\n",
    "with open(path) as f:\n",
    "    occurrence_mvdal = f.read().count(word)\n",
    "print(f\"\\n 'Museum voor dierkunde ULB Auguste Lameere' apparaître {occurrence_mvdal} fois dans le corpus\\n\") "
   ]
  },
  {
   "cell_type": "code",
   "execution_count": 259,
   "id": "c46f74dd-28c2-4f30-bed3-f4a73d51deb0",
   "metadata": {},
   "outputs": [
    {
     "name": "stdout",
     "output_type": "stream",
     "text": [
      "\n",
      " 'villa Empain' apparaître 0 fois dans le corpus\n",
      "\n"
     ]
    }
   ],
   "source": [
    "word = 'villa Empain'\n",
    "with open(path) as f:\n",
    "    occurrence_villa = f.read().count(word)\n",
    "print(f\"\\n 'villa Empain' apparaître {occurrence_villa} fois dans le corpus\\n\") "
   ]
  },
  {
   "cell_type": "code",
   "execution_count": 407,
   "id": "cefc90d4-1136-44d2-b328-b81ae21cdcce",
   "metadata": {},
   "outputs": [
    {
     "name": "stdout",
     "output_type": "stream",
     "text": [
      "\n",
      " ‘Musée royal de l'Armée et de l'Histoire militaire’ apparaître 0 fois dans le corpus\n",
      "\n"
     ]
    }
   ],
   "source": [
    "word = \"Musée royal de l'Armée et de l‘Histoire militaire\"\n",
    "with open(path) as f:\n",
    "    occurrence_larmee = f.read().count(word)\n",
    "print(f\"\\n ‘Musée royal de l'Armée et de l'Histoire militaire’ apparaître {occurrence_larmee } fois dans le corpus\\n\")"
   ]
  },
  {
   "cell_type": "code",
   "execution_count": 410,
   "id": "3dfa6ad9-781d-41db-8f9e-8f1de6b92282",
   "metadata": {},
   "outputs": [
    {
     "name": "stdout",
     "output_type": "stream",
     "text": [
      "\n",
      " 'Musée royal de l'armée' 1 fois dans le corpus\n",
      "\n"
     ]
    }
   ],
   "source": [
    "word = \"Musée royal de l'armée\"\n",
    "with open(path) as f:\n",
    "    occurrence_larme = f.read().count(word)\n",
    "print(f\"\\n 'Musée royal de l'armée' {occurrence_larme} fois dans le corpus\\n\")"
   ]
  },
  {
   "cell_type": "code",
   "execution_count": 263,
   "id": "f0020032-f88c-4083-beb6-32dc39fe4639",
   "metadata": {},
   "outputs": [
    {
     "name": "stdout",
     "output_type": "stream",
     "text": [
      "\n",
      " 'Observatoire royal de Belgique' apparaître 3 fois dans le corpus\n",
      "\n"
     ]
    }
   ],
   "source": [
    "word = 'Observatoire royal de Belgique'\n",
    "with open(path) as f:\n",
    "    occurrence_observatoire = f.read().count(word)\n",
    "print(f\"\\n 'Observatoire royal de Belgique' apparaître {occurrence_observatoire} fois dans le corpus\\n\")"
   ]
  },
  {
   "cell_type": "code",
   "execution_count": 264,
   "id": "18aa76de-b63b-474f-8006-97c3af9701d4",
   "metadata": {},
   "outputs": [
    {
     "name": "stdout",
     "output_type": "stream",
     "text": [
      "\n",
      " 'Museum Van Buuren' apparaître 0 fois dans le corpus\n",
      "\n"
     ]
    }
   ],
   "source": [
    "word = 'Museum Van Buuren'\n",
    "with open(path) as f:\n",
    "    occurrence_mvb = f.read().count(word)\n",
    "print(f\"\\n 'Museum Van Buuren' apparaître {occurrence_mvb} fois dans le corpus\\n\") "
   ]
  },
  {
   "cell_type": "code",
   "execution_count": 268,
   "id": "dc5617e4-fce2-4f6e-84e0-6a4e5288121b",
   "metadata": {},
   "outputs": [
    {
     "name": "stdout",
     "output_type": "stream",
     "text": [
      "\n",
      " 'Théâtre Royal de Toone' apparaître 0 fois dans le corpus\n",
      "\n"
     ]
    }
   ],
   "source": [
    "word = 'Théâtre Royal de Toone'\n",
    "with open(path) as f:\n",
    "    occurrence_trt = f.read().count(word)\n",
    "print(f\"\\n 'Théâtre Royal de Toone' apparaître { occurrence_trt } fois dans le corpus\\n\") "
   ]
  },
  {
   "cell_type": "code",
   "execution_count": 270,
   "id": "5d3607f9-f985-4294-a8ba-dde0fddb0443",
   "metadata": {},
   "outputs": [
    {
     "name": "stdout",
     "output_type": "stream",
     "text": [
      "\n",
      " 'Théâtre Royal' apparaître 597 fois dans le corpus\n",
      "\n"
     ]
    }
   ],
   "source": [
    "word = 'Théâtre Royal'\n",
    "with open(path) as f:\n",
    "    occurrence_tr = f.read().count(word)\n",
    "print(f\"\\n 'Théâtre Royal' apparaître { occurrence_tr} fois dans le corpus\\n\") "
   ]
  },
  {
   "cell_type": "code",
   "execution_count": 271,
   "id": "3702b4a1-149c-4adc-9cf4-618a570b5d83",
   "metadata": {},
   "outputs": [
    {
     "name": "stdout",
     "output_type": "stream",
     "text": [
      "\n",
      " 'Bruxella 1238' apparaître 0 fois dans le corpus\n",
      "\n"
     ]
    }
   ],
   "source": [
    "word = 'Bruxella 1238'\n",
    "with open(path) as f:\n",
    "    occurrence_1238= f.read().count(word)\n",
    "print(f\"\\n 'Bruxella 1238' apparaître {occurrence_1238} fois dans le corpus\\n\") "
   ]
  },
  {
   "cell_type": "code",
   "execution_count": 273,
   "id": "4a1fbec1-d805-4bf4-a2e8-939533e715b0",
   "metadata": {},
   "outputs": [
    {
     "name": "stdout",
     "output_type": "stream",
     "text": [
      "\n",
      " 'Autoworld' apparaître 0 fois dans le corpus\n",
      "\n"
     ]
    }
   ],
   "source": [
    "word = 'Autoworld'\n",
    "with open(path) as f:\n",
    "    occurrence_auto = f.read().count(word)\n",
    "print(f\"\\n 'Autoworld' apparaître {occurrence_auto} fois dans le corpus\\n\") "
   ]
  },
  {
   "cell_type": "code",
   "execution_count": 281,
   "id": "191ddc94-2a42-4f18-a4df-641edb2af250",
   "metadata": {},
   "outputs": [
    {
     "name": "stdout",
     "output_type": "stream",
     "text": [
      "\n",
      " 'Musée BELvue' apparaître 0 fois dans le corpus\n",
      "\n"
     ]
    }
   ],
   "source": [
    "word = 'Musée belvue'\n",
    "with open(path) as f:\n",
    "    occurrence_mbv= f.read().count(word)\n",
    "print(f\"\\n 'Musée BELvue' apparaître {occurrence_mbv} fois dans le corpus\\n\") "
   ]
  },
  {
   "cell_type": "code",
   "execution_count": 286,
   "id": "fee2fbb4-fd4b-4a68-a31c-2ed8d4e8d136",
   "metadata": {},
   "outputs": [
    {
     "name": "stdout",
     "output_type": "stream",
     "text": [
      "\n",
      " 'musées royaux d'Art et d'Histoire' apparaître 0 fois dans le corpus\n",
      "\n"
     ]
    }
   ],
   "source": [
    "word = \"musées royaux d'Art et d'Histoire\"\n",
    "with open(path) as f:\n",
    "    occurrence_mrah= f.read().count(word)\n",
    "print(f\"\\n 'musées royaux d'Art et d'Histoire' apparaître {occurrence_mrah} fois dans le corpus\\n\")"
   ]
  },
  {
   "cell_type": "code",
   "execution_count": 288,
   "id": "baaab658-0bd5-4982-8528-9a08da588cc1",
   "metadata": {},
   "outputs": [
    {
     "name": "stdout",
     "output_type": "stream",
     "text": [
      "\n",
      " 'musée de la ville de Bruxelles' apparaître 0 fois dans le corpus\n",
      "\n"
     ]
    }
   ],
   "source": [
    "word = 'musée de la ville de Bruxelles'\n",
    "with open(path) as f:\n",
    "    occurrence_mvb= f.read().count(word)\n",
    "print(f\"\\n 'musée de la ville de Bruxelles' apparaître {occurrence_mvb} fois dans le corpus\\n\") "
   ]
  },
  {
   "cell_type": "code",
   "execution_count": 289,
   "id": "4194d01e-c376-4316-b521-1f023dc4b8df",
   "metadata": {},
   "outputs": [
    {
     "name": "stdout",
     "output_type": "stream",
     "text": [
      "\n",
      " 'Coudenberg - Voormalig Paleis van Brussel' apparaître 0 fois dans le corpus\n",
      "\n"
     ]
    }
   ],
   "source": [
    "word = 'Coudenberg - Voormalig Paleis van Brussel'\n",
    "with open(path) as f:\n",
    "    occurrence_cvpb= f.read().count(word)\n",
    "print(f\"\\n 'Coudenberg - Voormalig Paleis van Brussel' apparaître {occurrence_cvpb} fois dans le corpus\\n\") "
   ]
  },
  {
   "cell_type": "code",
   "execution_count": 290,
   "id": "4a7cae98-791a-49b7-96c1-c39ce77a5c9a",
   "metadata": {},
   "outputs": [
    {
     "name": "stdout",
     "output_type": "stream",
     "text": [
      "\n",
      " 'Coudenberg' apparaître 859 fois dans le corpus\n",
      "\n"
     ]
    }
   ],
   "source": [
    "word = 'Coudenberg'\n",
    "with open(path) as f:\n",
    "    occurrence_coudenberg= f.read().count(word)\n",
    "print(f\"\\n 'Coudenberg' apparaître {occurrence_coudenberg} fois dans le corpus\\n\") "
   ]
  },
  {
   "cell_type": "code",
   "execution_count": 291,
   "id": "34108299-817e-412f-a790-d19334fa2fc6",
   "metadata": {},
   "outputs": [
    {
     "name": "stdout",
     "output_type": "stream",
     "text": [
      "\n",
      " 'Centre Belge De La Bande Dessinée' apparaître 0 fois dans le corpus\n",
      "\n"
     ]
    }
   ],
   "source": [
    "word = 'Centre Belge De La Bande Dessinée'\n",
    "with open(path) as f:\n",
    "    occurrence_cbbd= f.read().count(word)\n",
    "print(f\"\\n 'Centre Belge De La Bande Dessinée' apparaître {occurrence_cbbd} fois dans le corpus\\n\") "
   ]
  },
  {
   "cell_type": "code",
   "execution_count": 292,
   "id": "beac2bed-dd79-4879-9bc5-7ca7a04048f6",
   "metadata": {},
   "outputs": [
    {
     "name": "stdout",
     "output_type": "stream",
     "text": [
      "\n",
      " 'Musée Old Masters' apparaître 0 fois dans le corpus\n",
      "\n"
     ]
    }
   ],
   "source": [
    "\n",
    "word = 'Musée Old Masters'\n",
    "with open(path) as f:\n",
    "    occurrence_mom= f.read().count(word)\n",
    "print(f\"\\n 'Musée Old Masters' apparaître {occurrence_mom} fois dans le corpus\\n\") "
   ]
  },
  {
   "cell_type": "code",
   "execution_count": 294,
   "id": "34ddf4df-b2b5-41fa-b094-81a1e6ffe4da",
   "metadata": {},
   "outputs": [
    {
     "name": "stdout",
     "output_type": "stream",
     "text": [
      "\n",
      " 'Musée Art & Histoire' apparaître 0 fois dans le corpus\n",
      "\n"
     ]
    }
   ],
   "source": [
    "word = 'Musée Art & Histoire'\n",
    "with open(path) as f:\n",
    "    occurrence_mah= f.read().count(word)\n",
    "print(f\"\\n 'Musée Art & Histoire' apparaître {occurrence_mah} fois dans le corpus\\n\") "
   ]
  },
  {
   "cell_type": "code",
   "execution_count": 296,
   "id": "0cdac717-1d71-4e22-8cba-058c37958fd8",
   "metadata": {
    "tags": []
   },
   "outputs": [
    {
     "name": "stdout",
     "output_type": "stream",
     "text": [
      "\n",
      " 'Musée Art et Histoire' apparaître 0 fois dans le corpus\n",
      "\n"
     ]
    }
   ],
   "source": [
    "word = 'Musée Art et Histoire'\n",
    "with open(path) as f:\n",
    "    occurrence_mah= f.read().count(word)\n",
    "print(f\"\\n 'Musée Art et Histoire' apparaître {occurrence_mah} fois dans le corpus\\n\") "
   ]
  },
  {
   "cell_type": "code",
   "execution_count": 297,
   "id": "0f048a8f-d7c8-42b7-90f5-b1ff0c62550e",
   "metadata": {},
   "outputs": [
    {
     "name": "stdout",
     "output_type": "stream",
     "text": [
      "\n",
      " 'Musée Art et Histoire' apparaître 0 fois dans le corpus\n",
      "\n"
     ]
    }
   ],
   "source": [
    "word = 'Musée Art Histoire'\n",
    "with open(path) as f:\n",
    "    occurrence_mah= f.read().count(word)\n",
    "print(f\"\\n 'Musée Art et Histoire' apparaître {occurrence_mah} fois dans le corpus\\n\") "
   ]
  },
  {
   "cell_type": "code",
   "execution_count": 298,
   "id": "379c052d-d24c-467b-8e93-6ec9c0d5c7b7",
   "metadata": {},
   "outputs": [
    {
     "name": "stdout",
     "output_type": "stream",
     "text": [
      "\n",
      " 'Archives et Musée de la Littérature' apparaître 0 fois dans le corpus\n",
      "\n"
     ]
    }
   ],
   "source": [
    "word = 'Archives et Musée de la Littérature'\n",
    "with open(path) as f:\n",
    "    occurrence_aml = f.read().count(word)\n",
    "print(f\"\\n 'Archives et Musée de la Littérature' apparaître {occurrence_aml} fois dans le corpus\\n\") "
   ]
  },
  {
   "cell_type": "code",
   "execution_count": 299,
   "id": "070d3833-7fee-4a4e-8d79-ceb64840c721",
   "metadata": {},
   "outputs": [
    {
     "name": "stdout",
     "output_type": "stream",
     "text": [
      "\n",
      " 'Musée de la Littérature' apparaître 0 fois dans le corpus\n",
      "\n"
     ]
    }
   ],
   "source": [
    "word = 'Musée de la Littérature'\n",
    "with open(path) as f:\n",
    "    occurrence_aml = f.read().count(word)\n",
    "print(f\"\\n 'Musée de la Littérature' apparaître {occurrence_aml} fois dans le corpus\\n\")"
   ]
  },
  {
   "cell_type": "code",
   "execution_count": 300,
   "id": "b06b0ba2-b681-4cdc-bcad-9b5653539ad6",
   "metadata": {
    "tags": []
   },
   "outputs": [
    {
     "name": "stdout",
     "output_type": "stream",
     "text": [
      "\n",
      " 'Archief en Museum voor het Vlaams Leven te Brussel' apparaître 0 fois dans le corpus\n",
      "\n"
     ]
    }
   ],
   "source": [
    "word = 'Archief en Museum voor het Vlaams Leven te Brussel'\n",
    "with open(path) as f:\n",
    "    occurrence_amvlb = f.read().count(word)\n",
    "print(f\"\\n 'Archief en Museum voor het Vlaams Leven te Brussel' apparaître {occurrence_amvlb} fois dans le corpus\\n\") "
   ]
  },
  {
   "cell_type": "code",
   "execution_count": 301,
   "id": "87221c34-3603-4369-ae6c-d21774eeb1a9",
   "metadata": {},
   "outputs": [
    {
     "name": "stdout",
     "output_type": "stream",
     "text": [
      "\n",
      " 'Cinematek' apparaître 0 fois dans le corpus\n",
      "\n"
     ]
    }
   ],
   "source": [
    "word = 'Cinematek'\n",
    "with open(path) as f:\n",
    "    occurrence_cinematek = f.read().count(word)\n",
    "print(f\"\\n 'Cinematek' apparaître {occurrence_cinematek} fois dans le corpus\\n\") "
   ]
  },
  {
   "cell_type": "code",
   "execution_count": 303,
   "id": "768f024c-5d08-4a6a-82b3-1f9908e61bd5",
   "metadata": {},
   "outputs": [
    {
     "name": "stdout",
     "output_type": "stream",
     "text": [
      "\n",
      " 'Cinémathèque royale de Belgique' apparaître 0 fois dans le corpus\n",
      "\n"
     ]
    }
   ],
   "source": [
    "word = 'Cinémathèque royale de Belgique'\n",
    "with open(path) as f:\n",
    "    occurrence_crb = f.read().count(word)\n",
    "print(f\"\\n 'Cinémathèque royale de Belgique' apparaître {occurrence_crb} fois dans le corpus\\n\") "
   ]
  },
  {
   "cell_type": "code",
   "execution_count": 305,
   "id": "01a9c99c-1183-47c5-b970-6b2169917814",
   "metadata": {},
   "outputs": [
    {
     "name": "stdout",
     "output_type": "stream",
     "text": [
      "\n",
      " 'Cinémathèque' apparaître 1 fois dans le corpus\n",
      "\n"
     ]
    }
   ],
   "source": [
    "word = 'Cinémathèque'\n",
    "with open(path) as f:\n",
    "    occurrence_cinémathèque = f.read().count(word)\n",
    "print(f\"\\n 'Cinémathèque' apparaître {occurrence_cinémathèque} fois dans le corpus\\n\") "
   ]
  },
  {
   "cell_type": "code",
   "execution_count": 306,
   "id": "a99afd14-6053-4171-b975-5c166fa898fa",
   "metadata": {},
   "outputs": [
    {
     "name": "stdout",
     "output_type": "stream",
     "text": [
      "\n",
      " 'Cinematheque' apparaître 0 fois dans le corpus\n",
      "\n"
     ]
    }
   ],
   "source": [
    "word = 'Cinematheque'\n",
    "with open(path) as f:\n",
    "    occurrence_cinematheque = f.read().count(word)\n",
    "print(f\"\\n 'Cinematheque' apparaître {occurrence_cinematheque} fois dans le corpus\\n\") "
   ]
  },
  {
   "cell_type": "code",
   "execution_count": 307,
   "id": "cdc43ae6-9b54-4eb9-a372-61499ef85f57",
   "metadata": {},
   "outputs": [
    {
     "name": "stdout",
     "output_type": "stream",
     "text": [
      "\n",
      " 'musée des lettres et manuscrits' apparaître 0 fois dans le corpus\n",
      "\n"
     ]
    }
   ],
   "source": [
    "word = 'musée des lettres et manuscrits'\n",
    "with open(path) as f:\n",
    "    occurrence_mlm = f.read().count(word)\n",
    "print(f\"\\n 'musée des lettres et manuscrits' apparaître {occurrence_mlm} fois dans le corpus\\n\") "
   ]
  },
  {
   "cell_type": "code",
   "execution_count": 309,
   "id": "f4d70c55-5057-4761-81da-a9db1d5eeab6",
   "metadata": {
    "tags": []
   },
   "outputs": [
    {
     "name": "stdout",
     "output_type": "stream",
     "text": [
      "\n",
      " 'musée d'Art spontané' apparaître 0 fois dans le corpus\n",
      "\n"
     ]
    }
   ],
   "source": [
    "word = \"musée d'Art spontané\"\n",
    "with open(path) as f:\n",
    "    occurrence_mas = f.read().count(word)\n",
    "print(f\"\\n 'musée d'Art spontané' apparaître {occurrence_mas} fois dans le corpus\\n\") "
   ]
  },
  {
   "cell_type": "code",
   "execution_count": 310,
   "id": "1eb4a29b-5193-43ca-b01b-a771a3a0a65f",
   "metadata": {},
   "outputs": [
    {
     "name": "stdout",
     "output_type": "stream",
     "text": [
      "\n",
      " ''Museum voor Spontane Kunst'' apparaître 0 fois dans le corpus\n",
      "\n"
     ]
    }
   ],
   "source": [
    "word = 'Museum voor Spontane Kunst'\n",
    "with open(path) as f:\n",
    "    occurrence_msk = f.read().count(word)\n",
    "print(f\"\\n ''Museum voor Spontane Kunst'' apparaître {occurrence_msk} fois dans le corpus\\n\")"
   ]
  },
  {
   "cell_type": "code",
   "execution_count": 311,
   "id": "eaff8002-cff3-4fee-9ecb-69d59197f46c",
   "metadata": {},
   "outputs": [
    {
     "name": "stdout",
     "output_type": "stream",
     "text": [
      "\n",
      " 'Musée de la Médecine' apparaître 0 fois dans le corpus\n",
      "\n"
     ]
    }
   ],
   "source": [
    "word = 'Musée de la Médecine'\n",
    "with open(path) as f:\n",
    "    occurrence_mm = f.read().count(word)\n",
    "print(f\"\\n 'Musée de la Médecine' apparaître {occurrence_mm} fois dans le corpus\\n\") "
   ]
  },
  {
   "cell_type": "code",
   "execution_count": 312,
   "id": "56fdaf02-2c93-4e7a-8f23-4835b2eae17b",
   "metadata": {},
   "outputs": [
    {
     "name": "stdout",
     "output_type": "stream",
     "text": [
      "\n",
      " 'Geneeskundemuseum' apparaître 0 fois dans le corpus\n",
      "\n"
     ]
    }
   ],
   "source": [
    "word = 'Geneeskundemuseum'\n",
    "with open(path) as f:\n",
    "    occurrence_geneeskundemuseum = f.read().count(word)\n",
    "print(f\"\\n 'Geneeskundemuseum' apparaître {occurrence_geneeskundemuseum} fois dans le corpus\\n\") "
   ]
  },
  {
   "cell_type": "code",
   "execution_count": 313,
   "id": "b57ce88a-194f-4320-9db6-35ce86922405",
   "metadata": {},
   "outputs": [
    {
     "name": "stdout",
     "output_type": "stream",
     "text": [
      "\n",
      " 'Musée National de la Résistance' apparaître 0 fois dans le corpus\n",
      "\n"
     ]
    }
   ],
   "source": [
    "word = 'Musée National de la Résistance' \n",
    "with open(path) as f:\n",
    "    occurrence_mnr = f.read().count(word)\n",
    "print(f\"\\n 'Musée National de la Résistance' apparaître { occurrence_mnr} fois dans le corpus\\n\") "
   ]
  },
  {
   "cell_type": "code",
   "execution_count": 314,
   "id": "3fd107b8-7f06-4ebb-8283-6d18828b3c90",
   "metadata": {},
   "outputs": [
    {
     "name": "stdout",
     "output_type": "stream",
     "text": [
      "\n",
      " 'Nationaal Museum van de Weerstand' apparaître 0 fois dans le corpus\n",
      "\n"
     ]
    }
   ],
   "source": [
    "word = 'Nationaal Museum van de Weerstand'\n",
    "with open(path) as f:\n",
    "    occurrence_nmw = f.read().count(word)\n",
    "print(f\"\\n 'Nationaal Museum van de Weerstand' apparaître {occurrence_nmw } fois dans le corpus\\n\") "
   ]
  },
  {
   "cell_type": "code",
   "execution_count": 316,
   "id": "0071faba-4bb2-4165-8418-20539f431d50",
   "metadata": {},
   "outputs": [
    {
     "name": "stdout",
     "output_type": "stream",
     "text": [
      "\n",
      " 'Muséum des sciences naturelles' apparaître 0 fois dans le corpus\n",
      "\n"
     ]
    }
   ],
   "source": [
    "word = 'Muséum des sciences naturelles'\n",
    "with open(path) as f:\n",
    "    occurrence_msn = f.read().count(word)\n",
    "print(f\"\\n 'Muséum des sciences naturelles' apparaître { occurrence_msn} fois dans le corpus\\n\") "
   ]
  },
  {
   "cell_type": "code",
   "execution_count": 317,
   "id": "c156e865-7d3c-4109-bb9b-6c0562fcd046",
   "metadata": {},
   "outputs": [
    {
     "name": "stdout",
     "output_type": "stream",
     "text": [
      "\n",
      " 'Belgisch Museum van de Vrijmetselarij' apparaître 0 fois dans le corpus\n",
      "\n"
     ]
    }
   ],
   "source": [
    "word = 'Belgisch Museum van de Vrijmetselarij'\n",
    "with open(path) as f:\n",
    "    occurrence_bmv = f.read().count(word)\n",
    "print(f\"\\n 'Belgisch Museum van de Vrijmetselarij' apparaître {occurrence_bmv} fois dans le corpus\\n\") \n"
   ]
  },
  {
   "cell_type": "code",
   "execution_count": 318,
   "id": "a509ab52-5701-47ca-ab0c-7733a8871369",
   "metadata": {},
   "outputs": [
    {
     "name": "stdout",
     "output_type": "stream",
     "text": [
      "\n",
      " 'Institut royal des Sciences naturelles de Belgique' apparaître 0 fois dans le corpus\n",
      "\n"
     ]
    }
   ],
   "source": [
    "word = 'Institut royal des Sciences naturelles de Belgique'\n",
    "with open(path) as f:\n",
    "    occurrence_irsnb = f.read().count(word)\n",
    "print(f\"\\n 'Institut royal des Sciences naturelles de Belgique' apparaître {occurrence_irsnb} fois dans le corpus\\n\") "
   ]
  },
  {
   "cell_type": "code",
   "execution_count": 319,
   "id": "49846006-62cc-46ed-b3a7-30d50cdcc7b2",
   "metadata": {},
   "outputs": [
    {
     "name": "stdout",
     "output_type": "stream",
     "text": [
      "\n",
      " 'Musée Belge de la Franc-Maçonnerie' apparaître 0 fois dans le corpus\n",
      "\n"
     ]
    }
   ],
   "source": [
    "word = 'Musée Belge de la Franc-Maçonnerie'\n",
    "with open(path) as f:\n",
    "    occurrence_mbfm = f.read().count(word)\n",
    "print(f\"\\n 'Musée Belge de la Franc-Maçonnerie' apparaître {occurrence_mbfm} fois dans le corpus\\n\") "
   ]
  },
  {
   "cell_type": "code",
   "execution_count": 320,
   "id": "cd7e673f-3ac4-4ef6-9857-36683f60054e",
   "metadata": {},
   "outputs": [
    {
     "name": "stdout",
     "output_type": "stream",
     "text": [
      "\n",
      " 'Musée Fin-de-Siècle' apparaître 0 fois dans le corpus\n",
      "\n"
     ]
    }
   ],
   "source": [
    "word = 'Musée Fin-de-Siècle'\n",
    "with open(path) as f:\n",
    "    occurrence_mfs = f.read().count(word)\n",
    "print(f\"\\n 'Musée Fin-de-Siècle' apparaître {occurrence_mfs} fois dans le corpus\\n\")\n"
   ]
  },
  {
   "cell_type": "code",
   "execution_count": 323,
   "id": "01e6990d-b2a8-459e-9f75-88ab4c204e6e",
   "metadata": {},
   "outputs": [
    {
     "name": "stdout",
     "output_type": "stream",
     "text": [
      "\n",
      " 'Musée de l'Industrie' apparaître 23 fois dans le corpus\n",
      "\n"
     ]
    }
   ],
   "source": [
    "word = \"Musée de l'Industrie\"\n",
    "with open(path) as f:\n",
    "    occurrence_mi = f.read().count(word)\n",
    "print(f\"\\n 'Musée de l'Industrie' apparaître {occurrence_mi} fois dans le corpus\\n\") "
   ]
  },
  {
   "cell_type": "code",
   "execution_count": 324,
   "id": "ce4c9ff6-9b4b-4c75-b393-0645e333aed4",
   "metadata": {},
   "outputs": [
    {
     "name": "stdout",
     "output_type": "stream",
     "text": [
      "\n",
      " 'Musée des instruments de musique' apparaître 0 fois dans le corpus\n",
      "\n"
     ]
    }
   ],
   "source": [
    "word = 'Musée des instruments de musique'\n",
    "with open(path) as f:\n",
    "    occurrence_mim = f.read().count(word)\n",
    "print(f\"\\n 'Musée des instruments de musique' apparaître {occurrence_mim} fois dans le corpus\\n\")"
   ]
  },
  {
   "cell_type": "code",
   "execution_count": 326,
   "id": "2718ed5d-8a5c-4f66-96f9-a2865e713b95",
   "metadata": {},
   "outputs": [
    {
     "name": "stdout",
     "output_type": "stream",
     "text": [
      "\n",
      " 'Musée des instruments de musique' apparaître 0 fois dans le corpus\n",
      "\n"
     ]
    }
   ],
   "source": [
    "word = 'Musée des Instruments de Musique'\n",
    "with open(path) as f:\n",
    "    occurrence_mim = f.read().count(word)\n",
    "print(f\"\\n 'Musée des instruments de musique' apparaître {occurrence_mim} fois dans le corpus\\n\")"
   ]
  },
  {
   "cell_type": "code",
   "execution_count": 328,
   "id": "b66d0767-fc5e-4968-a090-2f06cf1d7f68",
   "metadata": {},
   "outputs": [
    {
     "name": "stdout",
     "output_type": "stream",
     "text": [
      "\n",
      " 'Musée instrumental' apparaître 2 fois dans le corpus\n",
      "\n"
     ]
    }
   ],
   "source": [
    "word = 'Musée instrumental'\n",
    "with open(path) as f:\n",
    "    occurrence_mi = f.read().count(word)\n",
    "print(f\"\\n 'Musée instrumental' apparaître {occurrence_mi} fois dans le corpus\\n\")"
   ]
  },
  {
   "cell_type": "code",
   "execution_count": 411,
   "id": "ce34f1ea-9eb4-4662-bca2-a602857ca962",
   "metadata": {},
   "outputs": [
    {
     "name": "stdout",
     "output_type": "stream",
     "text": [
      "\n",
      " 'Musée des instruments' apparaître 0 fois dans le corpus\n",
      "\n"
     ]
    }
   ],
   "source": [
    "word = 'Musée des instruments'\n",
    "with open(path) as f:\n",
    "    occurrence_mdi = f.read().count(word)\n",
    "print(f\"\\n 'Musée des instruments' apparaître {occurrence_mdi} fois dans le corpus\\n\")"
   ]
  },
  {
   "cell_type": "code",
   "execution_count": 330,
   "id": "75fda6c8-a58a-4196-8ea1-8eb9823d6d1c",
   "metadata": {},
   "outputs": [
    {
     "name": "stdout",
     "output_type": "stream",
     "text": [
      "\n",
      " 'Musée des Égoûts' apparaître 0 fois dans le corpus\n",
      "\n"
     ]
    }
   ],
   "source": [
    "word = 'Musée des Égoûts'\n",
    "with open(path) as f:\n",
    "    occurrence_me = f.read().count(word)\n",
    "print(f\"\\n 'Musée des Égoûts' apparaître {occurrence_me} fois dans le corpus\\n\") "
   ]
  },
  {
   "cell_type": "code",
   "execution_count": 331,
   "id": "8c563052-53a2-430f-8cf4-82793fef5ea2",
   "metadata": {},
   "outputs": [
    {
     "name": "stdout",
     "output_type": "stream",
     "text": [
      "\n",
      " 'Belgisch Museum voor Radiologie' apparaître 0 fois dans le corpus\n",
      "\n"
     ]
    }
   ],
   "source": [
    "word = 'Belgisch Museum voor Radiologie'\n",
    "with open(path) as f:\n",
    "    occurrence_bmr = f.read().count(word)\n",
    "print(f\"\\n 'Belgisch Museum voor Radiologie' apparaître {occurrence_bmr} fois dans le corpus\\n\")"
   ]
  },
  {
   "cell_type": "code",
   "execution_count": 332,
   "id": "496fe39e-4ad9-4414-bf19-f21ff1b553a3",
   "metadata": {},
   "outputs": [
    {
     "name": "stdout",
     "output_type": "stream",
     "text": [
      "\n",
      " 'Musée belge de la Radiologie' apparaître 0 fois dans le corpus\n",
      "\n"
     ]
    }
   ],
   "source": [
    "word = 'Musée belge de la Radiologie'\n",
    "with open(path) as f:\n",
    "    occurrence_mbr = f.read().count(word)\n",
    "print(f\"\\n 'Musée belge de la Radiologie' apparaître {occurrence_mbr} fois dans le corpus\\n\") "
   ]
  },
  {
   "cell_type": "code",
   "execution_count": 333,
   "id": "7d2ce997-368e-4452-a0e7-2eb70a052d5c",
   "metadata": {},
   "outputs": [
    {
     "name": "stdout",
     "output_type": "stream",
     "text": [
      "\n",
      " 'Museum van de Boekdrukkunst' apparaître 0 fois dans le corpus\n",
      "\n"
     ]
    }
   ],
   "source": [
    "word = 'Museum van de Boekdrukkunst'\n",
    "with open(path) as f:\n",
    "    occurrence_mbkk = f.read().count(word)\n",
    "print(f\"\\n 'Museum van de Boekdrukkunst' apparaître {occurrence_mbkk} fois dans le corpus\\n\") "
   ]
  },
  {
   "cell_type": "code",
   "execution_count": 335,
   "id": "50287c31-4e12-4293-b710-712e4a4bd4a0",
   "metadata": {},
   "outputs": [
    {
     "name": "stdout",
     "output_type": "stream",
     "text": [
      "\n",
      " 'musée Art & marges' apparaître 0 fois dans le corpus\n",
      "\n"
     ]
    }
   ],
   "source": [
    "word = 'musée Art & marges'\n",
    "with open(path) as f:\n",
    "    occurrence_maem = f.read().count(word)\n",
    "print(f\"\\n 'musée Art & marges' apparaître {occurrence_maem} fois dans le corpus\\n\") "
   ]
  },
  {
   "cell_type": "code",
   "execution_count": 336,
   "id": "dc442dc8-2562-4e55-95d6-a2745b6cd95a",
   "metadata": {},
   "outputs": [
    {
     "name": "stdout",
     "output_type": "stream",
     "text": [
      "\n",
      " 'musée Art et marges' apparaître 0 fois dans le corpus\n",
      "\n"
     ]
    }
   ],
   "source": [
    "word = 'musée Art et marges'\n",
    "with open(path) as f:\n",
    "    occurrence_maem = f.read().count(word)\n",
    "print(f\"\\n 'musée Art et marges' apparaître {occurrence_maem} fois dans le corpus\\n\") "
   ]
  },
  {
   "cell_type": "code",
   "execution_count": 338,
   "id": "0a0d4401-4713-479b-bda2-846dc4cf4c55",
   "metadata": {},
   "outputs": [
    {
     "name": "stdout",
     "output_type": "stream",
     "text": [
      "\n",
      " 'Musée du Centre public d'action sociale de Bruxelles' apparaître 0 fois dans le corpus\n",
      "\n"
     ]
    }
   ],
   "source": [
    "word = \"Musée du Centre public d'action sociale de Bruxelles\"\n",
    "with open(path) as f:\n",
    "    occurrence_mcpasb = f.read().count(word)\n",
    "print(f\"\\n 'Musée du Centre public d'action sociale de Bruxelles' apparaître {occurrence_mcpasb} fois dans le corpus\\n\") "
   ]
  },
  {
   "cell_type": "code",
   "execution_count": 339,
   "id": "921fc1f4-73aa-4e5e-8372-c07d89b51b22",
   "metadata": {},
   "outputs": [
    {
     "name": "stdout",
     "output_type": "stream",
     "text": [
      "\n",
      " 'Musée Modern Museum' apparaître 0 fois dans le corpus\n",
      "\n"
     ]
    }
   ],
   "source": [
    "word = 'Musée Modern Museum'\n",
    "with open(path) as f:\n",
    "    occurrence_mmm = f.read().count(word)\n",
    "print(f\"\\n 'Musée Modern Museum' apparaître {occurrence_mmm} fois dans le corpus\\n\")"
   ]
  },
  {
   "cell_type": "code",
   "execution_count": 341,
   "id": "4f94e4cd-fc24-4b69-a427-dfa00681519d",
   "metadata": {},
   "outputs": [
    {
     "name": "stdout",
     "output_type": "stream",
     "text": [
      "\n",
      " 'Museum van de geïntegreerde politie' apparaître 0 fois dans le corpus\n",
      "\n"
     ]
    }
   ],
   "source": [
    "word = 'Museum van de geïntegreerde politie'\n",
    "with open(path) as f:\n",
    "    occurrence_mgp = f.read().count(word)\n",
    "print(f\"\\n 'Museum van de geïntegreerde politie' apparaître {occurrence_mgp} fois dans le corpus\\n\")"
   ]
  },
  {
   "cell_type": "code",
   "execution_count": 342,
   "id": "1e66b30b-3b81-4a4d-8d09-0d64aab98957",
   "metadata": {},
   "outputs": [
    {
     "name": "stdout",
     "output_type": "stream",
     "text": [
      "\n",
      " 'Musée de la police intégrée' apparaître 0 fois dans le corpus\n",
      "\n"
     ]
    }
   ],
   "source": [
    "word = 'Musée de la police intégrée'\n",
    "with open(path) as f:\n",
    "    occurrence_mpi = f.read().count(word)\n",
    "print(f\"\\n 'Musée de la police intégrée' apparaître {occurrence_mpi} fois dans le corpus\\n\")"
   ]
  },
  {
   "cell_type": "code",
   "execution_count": 343,
   "id": "2b6930a4-1184-48aa-8d0b-d34556d0f41b",
   "metadata": {},
   "outputs": [
    {
     "name": "stdout",
     "output_type": "stream",
     "text": [
      "\n",
      " 'Musée de la police integree' apparaître 0 fois dans le corpus\n",
      "\n"
     ]
    }
   ],
   "source": [
    "word = 'Musée de la police integree'\n",
    "with open(path) as f:\n",
    "    occurrence_mpi = f.read().count(word)\n",
    "print(f\"\\n 'Musée de la police integree' apparaître {occurrence_mpi} fois dans le corpus\\n\")"
   ]
  },
  {
   "cell_type": "code",
   "execution_count": 344,
   "id": "f6a6cd72-2cc9-4166-afc3-6b84251ba665",
   "metadata": {},
   "outputs": [
    {
     "name": "stdout",
     "output_type": "stream",
     "text": [
      "\n",
      " 'Musée des lettres et manuscrits de Bruxelles' apparaître 0 fois dans le corpus\n",
      "\n"
     ]
    }
   ],
   "source": [
    "word = 'Musée des lettres et manuscrits de Bruxelles'\n",
    "with open(path) as f:\n",
    "    occurrence_mlmb = f.read().count(word)\n",
    "print(f\"\\n 'Musée des lettres et manuscrits de Bruxelles' apparaître {occurrence_mlmb} fois dans le corpus\\n\")"
   ]
  },
  {
   "cell_type": "code",
   "execution_count": 345,
   "id": "e3fada36-cba5-451b-bdc9-435231183c67",
   "metadata": {},
   "outputs": [
    {
     "name": "stdout",
     "output_type": "stream",
     "text": [
      "\n",
      " 'Museum voor menselijke anatomie en embryologie' apparaître 0 fois dans le corpus\n",
      "\n"
     ]
    }
   ],
   "source": [
    "word = 'Museum voor menselijke anatomie en embryologie'\n",
    "with open(path) as f:\n",
    "    occurrence_mmae = f.read().count(word)\n",
    "print(f\"\\n 'Museum voor menselijke anatomie en embryologie' apparaître {occurrence_mmae} fois dans le corpus\\n\")"
   ]
  },
  {
   "cell_type": "code",
   "execution_count": 347,
   "id": "3d9dce0e-4dda-442f-9518-e04f7a0c9097",
   "metadata": {},
   "outputs": [
    {
     "name": "stdout",
     "output_type": "stream",
     "text": [
      "\n",
      " 'Musée d'Anatomie et d'Embryologie humaines' apparaître 0 fois dans le corpus\n",
      "\n"
     ]
    }
   ],
   "source": [
    "word = \"Musée d'Anatomie et d'Embryologie humaines\"\n",
    "with open(path) as f:\n",
    "    occurrence_maeh = f.read().count(word)\n",
    "print(f\"\\n 'Musée d'Anatomie et d'Embryologie humaines' apparaître {occurrence_maeh} fois dans le corpus\\n\")"
   ]
  },
  {
   "cell_type": "code",
   "execution_count": 348,
   "id": "852bea77-c49b-4bf5-b7f5-397101077745",
   "metadata": {},
   "outputs": [
    {
     "name": "stdout",
     "output_type": "stream",
     "text": [
      "\n",
      " 'Museum van de Belgische Brouwers' apparaître 0 fois dans le corpus\n",
      "\n"
     ]
    }
   ],
   "source": [
    "word = 'Museum van de Belgische Brouwers'\n",
    "with open(path) as f:\n",
    "    occurrence_mbb = f.read().count(word)\n",
    "print(f\"\\n 'Museum van de Belgische Brouwers' apparaître {occurrence_mbb} fois dans le corpus\\n\")"
   ]
  },
  {
   "cell_type": "code",
   "execution_count": 349,
   "id": "a8cca650-0486-47bd-9d1c-07bbe04005e4",
   "metadata": {
    "tags": []
   },
   "outputs": [
    {
     "name": "stdout",
     "output_type": "stream",
     "text": [
      "\n",
      " 'Musée des Brasseurs Belges' apparaître 0 fois dans le corpus\n",
      "\n"
     ]
    }
   ],
   "source": [
    "word = 'Musée des Brasseurs Belges'\n",
    "with open(path) as f:\n",
    "    occurrence_mbbe = f.read().count(word)\n",
    "print(f\"\\n 'Musée des Brasseurs Belges' apparaître {occurrence_mbbe} fois dans le corpus\\n\")"
   ]
  },
  {
   "cell_type": "code",
   "execution_count": 354,
   "id": "6c647f7b-fd1d-453d-a4ec-e9b00e9e781b",
   "metadata": {},
   "outputs": [
    {
     "name": "stdout",
     "output_type": "stream",
     "text": [
      "\n",
      " 'Museum van Geneeskrachtige planten en Farmacie' apparaître 0 fois dans le corpus\n",
      "\n"
     ]
    }
   ],
   "source": [
    "word = 'Museum van Geneeskrachtige planten en Farmacie'\n",
    "with open(path) as f:\n",
    "    occurrence_mgpf = f.read().count(word)\n",
    "print(f\"\\n 'Museum van Geneeskrachtige planten en Farmacie' apparaître {occurrence_mgpf} fois dans le corpus\\n\")"
   ]
  },
  {
   "cell_type": "code",
   "execution_count": 355,
   "id": "a3668251-8db6-48dd-9675-d7ae4c3b428c",
   "metadata": {},
   "outputs": [
    {
     "name": "stdout",
     "output_type": "stream",
     "text": [
      "\n",
      " 'Musée des Plantes Médicinales et de la Pharmacie' apparaître 0 fois dans le corpus\n",
      "\n"
     ]
    }
   ],
   "source": [
    "word = 'Musée des Plantes Médicinales et de la Pharmacie'\n",
    "with open(path) as f:\n",
    "    occurrence_mpmp = f.read().count(word)\n",
    "print(f\"\\n 'Musée des Plantes Médicinales et de la Pharmacie' apparaître {occurrence_mpmp} fois dans le corpus\\n\")"
   ]
  },
  {
   "cell_type": "code",
   "execution_count": 356,
   "id": "6068d116-0ca8-44f5-b1ea-b8cf76b625fb",
   "metadata": {},
   "outputs": [
    {
     "name": "stdout",
     "output_type": "stream",
     "text": [
      "\n",
      " 'China Museum' apparaître 0 fois dans le corpus\n",
      "\n"
     ]
    }
   ],
   "source": [
    "word = 'China Museum'\n",
    "with open(path) as f:\n",
    "    occurrence_cm = f.read().count(word)\n",
    "print(f\"\\n 'China Museum' apparaître {occurrence_cm} fois dans le corpus\\n\")"
   ]
  },
  {
   "cell_type": "code",
   "execution_count": 357,
   "id": "1bd5965f-3c57-4f7b-848d-0f09dd6ea108",
   "metadata": {
    "tags": []
   },
   "outputs": [
    {
     "name": "stdout",
     "output_type": "stream",
     "text": [
      "\n",
      " 'Musée d'Art Ancien et aile annexe' apparaître 0 fois dans le corpus\n",
      "\n"
     ]
    }
   ],
   "source": [
    "word = \"Musée d'Art Ancien et aile annexe\"\n",
    "with open(path) as f:\n",
    "    occurrence_maaaa = f.read().count(word)\n",
    "print(f\"\\n 'Musée d'Art Ancien et aile annexe' apparaître {occurrence_maaaa} fois dans le corpus\\n\")"
   ]
  },
  {
   "cell_type": "code",
   "execution_count": 358,
   "id": "2efeb710-3f5b-489e-beb8-964c5564a971",
   "metadata": {},
   "outputs": [
    {
     "name": "stdout",
     "output_type": "stream",
     "text": [
      "\n",
      " 'Musée du cinéma' apparaître 0 fois dans le corpus\n",
      "\n"
     ]
    }
   ],
   "source": [
    "\n",
    "word = 'musée du cinéma'\n",
    "with open(path) as f:\n",
    "    occurrence_mc = f.read().count(word)\n",
    "print(f\"\\n 'Musée du cinéma' apparaître {occurrence_mc} fois dans le corpus\\n\")"
   ]
  },
  {
   "cell_type": "code",
   "execution_count": 379,
   "id": "135c7394-1324-4d83-880c-4712d95c4e1e",
   "metadata": {},
   "outputs": [
    {
     "name": "stdout",
     "output_type": "stream",
     "text": [
      "\n",
      " 'Gemeentelijk Museum van St. Lambrechts Woluwe' apparaître 0 fois dans le corpus\n",
      "\n"
     ]
    }
   ],
   "source": [
    "word = 'Gemeentelijk Museum van St. Lambrechts Woluwe'\n",
    "with open(path) as f:\n",
    "    occurrence_gmstlw = f.read().count(word)\n",
    "print(f\"\\n 'Gemeentelijk Museum van St. Lambrechts Woluwe' apparaître {occurrence_gmstlw} fois dans le corpus\\n\")"
   ]
  },
  {
   "cell_type": "code",
   "execution_count": 380,
   "id": "ae515cf3-a889-4636-8510-6003dae26d4e",
   "metadata": {},
   "outputs": [
    {
     "name": "stdout",
     "output_type": "stream",
     "text": [
      "\n",
      " 'Musée communal de Woluwe-Saint-Lambert' apparaître 0 fois dans le corpus\n",
      "\n"
     ]
    }
   ],
   "source": [
    "word = 'Musée communal de Woluwe-Saint-Lambert'\n",
    "with open(path) as f:\n",
    "    occurrence_mcwsl = f.read().count(word)\n",
    "print(f\"\\n 'Musée communal de Woluwe-Saint-Lambert' apparaître {occurrence_mcwsl} fois dans le corpus\\n\")"
   ]
  },
  {
   "cell_type": "code",
   "execution_count": 381,
   "id": "5e688eec-946b-47fa-a55b-f9620c7f3822",
   "metadata": {},
   "outputs": [
    {
     "name": "stdout",
     "output_type": "stream",
     "text": [
      "\n",
      " 'Musée des Enfants' apparaître 0 fois dans le corpus\n",
      "\n"
     ]
    }
   ],
   "source": [
    "word = 'Musée des Enfants'\n",
    "with open(path) as f:\n",
    "    occurrence_me = f.read().count(word)\n",
    "print(f\"\\n 'Musée des Enfants' apparaître {occurrence_me} fois dans le corpus\\n\")"
   ]
  },
  {
   "cell_type": "code",
   "execution_count": 382,
   "id": "1b8bf6c7-d18a-4463-953c-fddf17a58f72",
   "metadata": {},
   "outputs": [
    {
     "name": "stdout",
     "output_type": "stream",
     "text": [
      "\n",
      " 'Koninklijke Musea voor Kunst en Geschiedenis - Horta- Lambeauxpaviljoen' apparaître 0 fois dans le corpus\n",
      "\n"
     ]
    }
   ],
   "source": [
    "word = 'Koninklijke Musea voor Kunst en Geschiedenis - Horta- Lambeauxpaviljoen'\n",
    "with open(path) as f:\n",
    "    occurrence_kmkg = f.read().count(word)\n",
    "print(f\"\\n 'Koninklijke Musea voor Kunst en Geschiedenis - Horta- Lambeauxpaviljoen' apparaître {occurrence_kmkg} fois dans le corpus\\n\")"
   ]
  },
  {
   "cell_type": "code",
   "execution_count": 383,
   "id": "bf21676b-2459-4740-8ef1-c8e843d584d9",
   "metadata": {},
   "outputs": [
    {
     "name": "stdout",
     "output_type": "stream",
     "text": [
      "\n",
      " 'Bruxelles Pavillon Horta-Lambeaux' apparaître 0 fois dans le corpus\n",
      "\n"
     ]
    }
   ],
   "source": [
    "word = 'Bruxelles Pavillon Horta-Lambeaux'\n",
    "with open(path) as f:\n",
    "    occurrence_bphl = f.read().count(word)\n",
    "print(f\"\\n 'Bruxelles Pavillon Horta-Lambeaux' apparaître {occurrence_bphl} fois dans le corpus\\n\")"
   ]
  },
  {
   "cell_type": "code",
   "execution_count": 412,
   "id": "9c17ab67-0a76-4590-801f-602632839f5d",
   "metadata": {},
   "outputs": [
    {
     "name": "stdout",
     "output_type": "stream",
     "text": [
      "\n",
      " 'Musées royaux d'Art et d'Histoire' apparaître 9 fois dans le corpus\n",
      "\n"
     ]
    }
   ],
   "source": [
    "word = \"Musées royaux d'Art et d'Histoire\"\n",
    "with open(path) as f:\n",
    "    occurrence_mrah = f.read().count(word)\n",
    "print(f\"\\n 'Musées royaux d'Art et d'Histoire' apparaître {occurrence_mrah} fois dans le corpus\\n\")"
   ]
  },
  {
   "cell_type": "code",
   "execution_count": 413,
   "id": "44115f76-2b2c-492f-97af-89f81b15a2a0",
   "metadata": {},
   "outputs": [
    {
     "name": "stdout",
     "output_type": "stream",
     "text": [
      "\n",
      " 'Musée du Cinquantenaire' apparaître 11 fois dans le corpus\n",
      "\n"
     ]
    }
   ],
   "source": [
    "word = \"Musée du Cinquantenaire\"\n",
    "with open(path) as f:\n",
    "    occurrence_mdc = f.read().count(word)\n",
    "print(f\"\\n 'Musée du Cinquantenaire' apparaître {occurrence_mdc} fois dans le corpus\\n\")"
   ]
  },
  {
   "cell_type": "code",
   "execution_count": 374,
   "id": "c6392c32-2a13-481a-a145-a996092f1a9d",
   "metadata": {},
   "outputs": [
    {
     "name": "stdout",
     "output_type": "stream",
     "text": [
      "\n",
      " 'Musée du CPAS Bruxelles' apparaître 0 fois dans le corpus\n",
      "\n"
     ]
    }
   ],
   "source": [
    "word = 'Musée du CPAS Bruxelles'\n",
    "with open(path) as f:\n",
    "    occurrence_CPAS = f.read().count(word)\n",
    "print(f\"\\n 'Musée du CPAS Bruxelles' apparaître {occurrence_CPAS} fois dans le corpus\\n\")"
   ]
  },
  {
   "cell_type": "code",
   "execution_count": 373,
   "id": "2361bce4-8da1-4832-8054-3bf7bba6d0fc",
   "metadata": {},
   "outputs": [
    {
     "name": "stdout",
     "output_type": "stream",
     "text": [
      "\n",
      " 'Musée du CPAS de Bruxelles' apparaître 0 fois dans le corpus\n",
      "\n"
     ]
    }
   ],
   "source": [
    "word = 'Musée du CPAS de Bruxelles'\n",
    "with open(path) as f:\n",
    "    occurrence_cpas = f.read().count(word)\n",
    "print(f\"\\n 'Musée du CPAS de Bruxelles' apparaître {occurrence_cpas} fois dans le corpus\\n\")"
   ]
  },
  {
   "cell_type": "code",
   "execution_count": 372,
   "id": "3749356a-09c7-4bfc-9554-a34f8421e7bb",
   "metadata": {},
   "outputs": [
    {
     "name": "stdout",
     "output_type": "stream",
     "text": [
      "\n",
      " 'Schermsportmuseum Charles Debeur' apparaître 0 fois dans le corpus\n",
      "\n"
     ]
    }
   ],
   "source": [
    "word = 'Schermsportmuseum Charles Debeur'\n",
    "with open(path) as f:\n",
    "    occurrence_scd = f.read().count(word)\n",
    "print(f\"\\n 'Schermsportmuseum Charles Debeur' apparaître {occurrence_scd} fois dans le corpus\\n\")"
   ]
  },
  {
   "cell_type": "code",
   "execution_count": 371,
   "id": "9bc15bc2-cf0c-4716-849e-b9cd2cbb2c17",
   "metadata": {},
   "outputs": [
    {
     "name": "stdout",
     "output_type": "stream",
     "text": [
      "\n",
      " 'Musée de l'Escrime' apparaître 0 fois dans le corpus\n",
      "\n"
     ]
    }
   ],
   "source": [
    "word = \"Musée de l'Escrime\"\n",
    "with open(path) as f:\n",
    "    occurrence_mde = f.read().count(word)\n",
    "print(f\"\\n 'Musée de l'Escrime' apparaître {occurrence_mde} fois dans le corpus\\n\")"
   ]
  },
  {
   "cell_type": "code",
   "execution_count": 369,
   "id": "3b7359b8-c2c6-45af-96ac-13fff34a4b22",
   "metadata": {},
   "outputs": [
    {
     "name": "stdout",
     "output_type": "stream",
     "text": [
      "\n",
      " 'Gemeentelijk Museum van het Graafschap Jette' apparaître 0 fois dans le corpus\n",
      "\n"
     ]
    }
   ],
   "source": [
    "word = 'Gemeentelijk Museum van het Graafschap Jette'\n",
    "with open(path) as f:\n",
    "    occurrence_gmgj = f.read().count(word)\n",
    "print(f\"\\n 'Gemeentelijk Museum van het Graafschap Jette' apparaître {occurrence_gmgj} fois dans le corpus\\n\")"
   ]
  },
  {
   "cell_type": "code",
   "execution_count": 368,
   "id": "b01afab5-be3a-4e0b-8b05-874c343981cb",
   "metadata": {},
   "outputs": [
    {
     "name": "stdout",
     "output_type": "stream",
     "text": [
      "\n",
      " 'Musée Communal du compté de Jette' apparaître 0 fois dans le corpus\n",
      "\n"
     ]
    }
   ],
   "source": [
    "word = 'Musée Communal du compté de Jette'\n",
    "with open(path) as f:\n",
    "    occurrence_mccj = f.read().count(word)\n",
    "print(f\"\\n 'Musée Communal du compté de Jette' apparaître {occurrence_mccj} fois dans le corpus\\n\")"
   ]
  },
  {
   "cell_type": "code",
   "execution_count": 367,
   "id": "ddf837ce-cb78-4ee5-badc-05c00f2beecf",
   "metadata": {},
   "outputs": [
    {
     "name": "stdout",
     "output_type": "stream",
     "text": [
      "\n",
      " 'Fondation Jacques-Brel' apparaître 0 fois dans le corpus\n",
      "\n"
     ]
    }
   ],
   "source": [
    "word = 'Fondation Jacques-Brel'\n",
    "with open(path) as f:\n",
    "    occurrence_fjb = f.read().count(word)\n",
    "print(f\"\\n 'Fondation Jacques-Brel' apparaître {occurrence_fjb} fois dans le corpus\\n\")"
   ]
  },
  {
   "cell_type": "code",
   "execution_count": 366,
   "id": "d990e34b-043a-45a4-90b1-32bdf3f4f950",
   "metadata": {},
   "outputs": [
    {
     "name": "stdout",
     "output_type": "stream",
     "text": [
      "\n",
      " 'Musée de la Porte de Hal' apparaître 2 fois dans le corpus\n",
      "\n"
     ]
    }
   ],
   "source": [
    "word = 'Musée de la Porte de Hal'\n",
    "with open(path) as f:\n",
    "    occurrence_mph = f.read().count(word)\n",
    "print(f\"\\n 'Musée de la Porte de Hal' apparaître {occurrence_mph} fois dans le corpus\\n\")"
   ]
  },
  {
   "cell_type": "code",
   "execution_count": 365,
   "id": "c185a660-ff0c-40c8-9f00-60b4c72128a3",
   "metadata": {},
   "outputs": [
    {
     "name": "stdout",
     "output_type": "stream",
     "text": [
      "\n",
      " 'Musée du Jouet' apparaître 0 fois dans le corpus\n",
      "\n"
     ]
    }
   ],
   "source": [
    "word = 'Musée du Jouet'\n",
    "with open(path) as f:\n",
    "    occurrence_mj = f.read().count(word)\n",
    "print(f\"\\n 'Musée du Jouet' apparaître {occurrence_mj} fois dans le corpus\\n\")"
   ]
  },
  {
   "cell_type": "code",
   "execution_count": 364,
   "id": "40e72e02-901f-43d6-b459-27af6cadfdf6",
   "metadata": {},
   "outputs": [
    {
     "name": "stdout",
     "output_type": "stream",
     "text": [
      "\n",
      " “Musée royal de l'Armée et de l'Histoire militaire” apparaître 0 fois dans le corpus\n",
      "\n"
     ]
    }
   ],
   "source": [
    "word = \"Musée royal de l'Armée et de l'Histoire militaire\"\n",
    "with open(path) as f:\n",
    "    occurrence_mrahm = f.read().count(word)\n",
    "print(f\"\\n “Musée royal de l'Armée et de l'Histoire militaire” apparaître {occurrence_mrahm} fois dans le corpus\\n\")"
   ]
  },
  {
   "cell_type": "code",
   "execution_count": 362,
   "id": "2e9fbca6-b163-4a17-9d13-cc94650d83f2",
   "metadata": {},
   "outputs": [
    {
     "name": "stdout",
     "output_type": "stream",
     "text": [
      "\n",
      " 'Nationaal Museum van de Weerstand' apparaître 0 fois dans le corpus\n",
      "\n"
     ]
    }
   ],
   "source": [
    "word = 'Nationaal Museum van de Weerstand'\n",
    "with open(path) as f:\n",
    "    occurrence_nmw = f.read().count(word)\n",
    "print(f\"\\n 'Nationaal Museum van de Weerstand' apparaître {occurrence_nmw} fois dans le corpus\\n\")"
   ]
  },
  {
   "cell_type": "code",
   "execution_count": 361,
   "id": "67bff6c6-f2ca-43ad-b206-0151d31357cb",
   "metadata": {},
   "outputs": [
    {
     "name": "stdout",
     "output_type": "stream",
     "text": [
      "\n",
      " 'Musée National de la Résistance' apparaître 0 fois dans le corpus\n",
      "\n"
     ]
    }
   ],
   "source": [
    "word = 'Musée National de la Résistance'\n",
    "with open(path) as f:\n",
    "    occurrence_mnr = f.read().count(word)\n",
    "print(f\"\\n 'Musée National de la Résistance' apparaître {occurrence_mnr} fois dans le corpus\\n\")"
   ]
  },
  {
   "cell_type": "code",
   "execution_count": 360,
   "id": "9b515d2f-c5c0-4023-99d7-d1ef375abfac",
   "metadata": {},
   "outputs": [
    {
     "name": "stdout",
     "output_type": "stream",
     "text": [
      "\n",
      " 'Musée Mode & Dentelle' apparaître 0 fois dans le corpus\n",
      "\n"
     ]
    }
   ],
   "source": [
    "word = 'Musée Mode & Dentelle'\n",
    "with open(path) as f:\n",
    "    occurrence_mmd = f.read().count(word)\n",
    "print(f\"\\n 'Musée Mode & Dentelle' apparaître {occurrence_mmd} fois dans le corpus\\n\")"
   ]
  },
  {
   "cell_type": "code",
   "execution_count": 359,
   "id": "5359c4c4-f5f6-4abe-af1b-1dc1687ce8a5",
   "metadata": {},
   "outputs": [
    {
     "name": "stdout",
     "output_type": "stream",
     "text": [
      "\n",
      " 'GardeRobe MannekenPis' apparaître 0 fois dans le corpus\n",
      "\n"
     ]
    }
   ],
   "source": [
    "word = 'GardeRobe MannekenPis'\n",
    "with open(path) as f:\n",
    "    occurrence_grmp = f.read().count(word)\n",
    "print(f\"\\n 'GardeRobe MannekenPis' apparaître {occurrence_grmp} fois dans le corpus\\n\")"
   ]
  },
  {
   "cell_type": "code",
   "execution_count": 384,
   "id": "3fae24b5-3062-4eaf-b45c-2f2f378a4f0e",
   "metadata": {},
   "outputs": [
    {
     "name": "stdout",
     "output_type": "stream",
     "text": [
      "\n",
      " 'Garde Robe MannekenPis' apparaître 0 fois dans le corpus\n",
      "\n"
     ]
    }
   ],
   "source": [
    "word = 'Garde Robe MannekenPis'\n",
    "with open(path) as f:\n",
    "    occurrence_grmp = f.read().count(word)\n",
    "print(f\"\\n 'Garde Robe MannekenPis' apparaître {occurrence_grmp} fois dans le corpus\\n\")"
   ]
  },
  {
   "cell_type": "markdown",
   "id": "7cfef94f-ccf9-4870-aa96-61874f0d88df",
   "metadata": {},
   "source": [
    "### Les cinémas"
   ]
  },
  {
   "cell_type": "code",
   "execution_count": 478,
   "id": "e2ff2df1-6a0b-4d30-ae9b-87a41a9419d6",
   "metadata": {},
   "outputs": [
    {
     "name": "stdout",
     "output_type": "stream",
     "text": [
      "\n",
      " 'Cinéma Arenberg' apparaître 0 fois dans le corpus\n",
      "\n"
     ]
    }
   ],
   "source": [
    "word = 'Cinéma Arenberg'\n",
    "with open(path) as f:\n",
    "    occurrence_arenberg = f.read().count(word)\n",
    "print(f\"\\n 'Cinéma Arenberg' apparaître {occurrence_arenberg} fois dans le corpus\\n\")"
   ]
  },
  {
   "cell_type": "code",
   "execution_count": 479,
   "id": "92317ea5-4fba-4a9b-9fae-547de1f16eea",
   "metadata": {},
   "outputs": [
    {
     "name": "stdout",
     "output_type": "stream",
     "text": [
      "\n",
      " 'Cinéma Métropole' apparaître 0 fois dans le corpus\n",
      "\n"
     ]
    }
   ],
   "source": [
    "word = 'Cinéma Métropole'\n",
    "with open(path) as f:\n",
    "    occurrence_cimet = f.read().count(word)\n",
    "print(f\"\\n 'Cinéma Métropole' apparaître {occurrence_cimet } fois dans le corpus\\n\")"
   ]
  },
  {
   "cell_type": "code",
   "execution_count": 480,
   "id": "e021825d-be3a-48dc-a6c8-105464c94a5d",
   "metadata": {},
   "outputs": [
    {
     "name": "stdout",
     "output_type": "stream",
     "text": [
      "\n",
      " 'Cinematek' apparaître 0 fois dans le corpus\n",
      "\n"
     ]
    }
   ],
   "source": [
    "word = 'Cinematek'\n",
    "with open(path) as f:\n",
    "    occurrence_cinematek = f.read().count(word)\n",
    "print(f\"\\n 'Cinematek' apparaître {occurrence_cinematek} fois dans le corpus\\n\")"
   ]
  },
  {
   "cell_type": "code",
   "execution_count": 481,
   "id": "455d1ca6-409b-406c-9043-b98e41b338b8",
   "metadata": {},
   "outputs": [
    {
     "name": "stdout",
     "output_type": "stream",
     "text": [
      "\n",
      " 'American Theatre' apparaître 0 fois dans le corpus\n",
      "\n"
     ]
    }
   ],
   "source": [
    "word = 'American Theatre'\n",
    "with open(path) as f:\n",
    "    occurrence_american = f.read().count(word)\n",
    "print(f\"\\n 'American Theatre' apparaître {occurrence_american} fois dans le corpus\\n\")"
   ]
  },
  {
   "cell_type": "code",
   "execution_count": 483,
   "id": "c026d4bd-bc75-460d-a706-c9b850389ef9",
   "metadata": {},
   "outputs": [
    {
     "name": "stdout",
     "output_type": "stream",
     "text": [
      "\n",
      " ''Cinéma Nova' apparaître 0 fois dans le corpus\n",
      "\n"
     ]
    }
   ],
   "source": [
    "word = 'Cinéma Nova'\n",
    "with open(path) as f:\n",
    "    occurrence_cinova = f.read().count(word)\n",
    "print(f\"\\n 'Cinéma Nova' apparaître {occurrence_cinova} fois dans le corpus\\n\")"
   ]
  },
  {
   "cell_type": "code",
   "execution_count": 484,
   "id": "fd8ed189-1d60-47d6-86b4-4e7049fe9b7c",
   "metadata": {},
   "outputs": [
    {
     "name": "stdout",
     "output_type": "stream",
     "text": [
      "\n",
      " 'Pathé Palace' apparaître 1 fois dans le corpus\n",
      "\n"
     ]
    }
   ],
   "source": [
    "word = 'Pathé Palace'\n",
    "with open(path) as f:\n",
    "    occurrence_pathe = f.read().count(word)\n",
    "print(f\"\\n 'Pathé Palace' apparaître {occurrence_pathe} fois dans le corpus\\n\")"
   ]
  },
  {
   "cell_type": "code",
   "execution_count": 485,
   "id": "2d82d6ff-e2cd-4c94-af04-5a3866c5a299",
   "metadata": {},
   "outputs": [
    {
     "name": "stdout",
     "output_type": "stream",
     "text": [
      "\n",
      " 'UGC De Brouckère' apparaître 0 fois dans le corpus\n",
      "\n"
     ]
    }
   ],
   "source": [
    "word = 'UGC De Brouckère'\n",
    "with open(path) as f:\n",
    "    occurrence_ugcb = f.read().count(word)\n",
    "print(f\"\\n 'UGC De Brouckère' apparaître {occurrence_ugcb} fois dans le corpus\\n\")"
   ]
  },
  {
   "cell_type": "code",
   "execution_count": 486,
   "id": "972161cf-2819-47a2-a90e-8f48fb6e2fdf",
   "metadata": {
    "jupyter": {
     "source_hidden": true
    },
    "tags": []
   },
   "outputs": [
    {
     "name": "stdout",
     "output_type": "stream",
     "text": [
      "\n",
      " 'Het Oog' apparaître 0 fois dans le corpus\n",
      "\n"
     ]
    }
   ],
   "source": [
    "word = 'Het Oog'\n",
    "with open(path) as f:\n",
    "    occurrence_hetoog = f.read().count(word)\n",
    "print(f\"\\n 'Het Oog' apparaître {occurrence_hetoog} fois dans le corpus\\n\")"
   ]
  },
  {
   "cell_type": "code",
   "execution_count": 487,
   "id": "6ecb510c-dd4c-4ced-b343-34de2983175a",
   "metadata": {
    "jupyter": {
     "source_hidden": true
    },
    "tags": []
   },
   "outputs": [
    {
     "name": "stdout",
     "output_type": "stream",
     "text": [
      "\n",
      " 'Cinéma Marivaux' apparaître 0 fois dans le corpus\n",
      "\n"
     ]
    }
   ],
   "source": [
    "word = 'Cinéma Marivaux'\n",
    "with open(path) as f:\n",
    "    occurrence_cinemari = f.read().count(word)\n",
    "print(f\"\\n 'Cinéma Marivaux' apparaître {occurrence_cinemari} fois dans le corpus\\n\")"
   ]
  },
  {
   "cell_type": "code",
   "execution_count": 488,
   "id": "06ad2896-5505-42d0-893d-a584bc263b63",
   "metadata": {
    "jupyter": {
     "source_hidden": true
    },
    "tags": []
   },
   "outputs": [
    {
     "name": "stdout",
     "output_type": "stream",
     "text": [
      "\n",
      " 'Cinéma Caméo' apparaître 0 fois dans le corpus\n",
      "\n"
     ]
    }
   ],
   "source": [
    "word = 'Cinéma Caméo'\n",
    "with open(path) as f:\n",
    "    occurrence_cinecame = f.read().count(word)\n",
    "print(f\"\\n 'Cinéma Caméo' apparaître {occurrence_cinecame} fois dans le corpus\\n\")"
   ]
  },
  {
   "cell_type": "code",
   "execution_count": 489,
   "id": "e70e682a-dcba-4cd2-b78d-cb54581ba6a7",
   "metadata": {
    "jupyter": {
     "source_hidden": true
    },
    "tags": []
   },
   "outputs": [
    {
     "name": "stdout",
     "output_type": "stream",
     "text": [
      "\n",
      " 'Théâtre des Variétés' apparaître 1 fois dans le corpus\n",
      "\n"
     ]
    }
   ],
   "source": [
    "word = 'Théâtre des Variétés'\n",
    "with open(path) as f:\n",
    "    occurrence_thevar = f.read().count(word)\n",
    "print(f\"\\n 'Théâtre des Variétés' apparaître {occurrence_thevar } fois dans le corpus\\n\")"
   ]
  },
  {
   "cell_type": "code",
   "execution_count": 490,
   "id": "ac6a7e54-fdaa-4d9d-8ced-67156035dd38",
   "metadata": {
    "jupyter": {
     "source_hidden": true
    },
    "tags": []
   },
   "outputs": [
    {
     "name": "stdout",
     "output_type": "stream",
     "text": [
      "\n",
      " 'ABC Cinema' apparaître 0 fois dans le corpus\n",
      "\n"
     ]
    }
   ],
   "source": [
    "word = 'ABC Cinema'\n",
    "with open(path) as f:\n",
    "    occurrence_cineabc = f.read().count(word)\n",
    "print(f\"\\n 'ABC Cinema' apparaître {occurrence_cineabc} fois dans le corpus\\n\")"
   ]
  },
  {
   "cell_type": "code",
   "execution_count": 492,
   "id": "0a3a99d5-5757-42dd-ac64-4558e91cc58b",
   "metadata": {
    "jupyter": {
     "source_hidden": true
    },
    "tags": []
   },
   "outputs": [
    {
     "name": "stdout",
     "output_type": "stream",
     "text": [
      "\n",
      " 'Acropole Centre' apparaître 0 fois dans le corpus\n",
      "\n"
     ]
    }
   ],
   "source": [
    "word = 'Acropole Centre'\n",
    "with open(path) as f:\n",
    "    occurrence_acrocen = f.read().count(word)\n",
    "print(f\"\\n 'Acropole Centre' apparaître {occurrence_acrocen} fois dans le corpus\\n\")"
   ]
  },
  {
   "cell_type": "code",
   "execution_count": 493,
   "id": "99c11df1-f49d-4744-bf25-4d1e40858a90",
   "metadata": {
    "jupyter": {
     "source_hidden": true
    },
    "tags": []
   },
   "outputs": [
    {
     "name": "stdout",
     "output_type": "stream",
     "text": [
      "\n",
      " 'Actor's Studio' apparaître 0 fois dans le corpus\n",
      "\n"
     ]
    }
   ],
   "source": [
    "word = \"Actor's Studio\"\n",
    "with open(path) as f:\n",
    "    occurrence_actors = f.read().count(word)\n",
    "print(f\"\\n 'Actor's Studio' apparaître {occurrence_actors} fois dans le corpus\\n\")"
   ]
  },
  {
   "cell_type": "code",
   "execution_count": 494,
   "id": "64e6ccbb-e56c-4f60-8541-d1a2e42cc16c",
   "metadata": {
    "jupyter": {
     "source_hidden": true
    },
    "tags": []
   },
   "outputs": [
    {
     "name": "stdout",
     "output_type": "stream",
     "text": [
      "\n",
      " 'Agora Cinema' apparaître 0 fois dans le corpus\n",
      "\n"
     ]
    }
   ],
   "source": [
    "word = 'Agora Cinema'\n",
    "with open(path) as f:\n",
    "    occurrence_agora = f.read().count(word)\n",
    "print(f\"\\n 'Agora Cinema' apparaître {occurrence_agora} fois dans le corpus\\n\")"
   ]
  },
  {
   "cell_type": "code",
   "execution_count": 495,
   "id": "b75a2177-794a-4b0a-8064-5f4da2d2f885",
   "metadata": {
    "jupyter": {
     "source_hidden": true
    },
    "tags": []
   },
   "outputs": [
    {
     "name": "stdout",
     "output_type": "stream",
     "text": [
      "\n",
      " ''Ambassador Disney Ciné' apparaître 0 fois dans le corpus\n",
      "\n"
     ]
    }
   ],
   "source": [
    "word = 'Ambassador Disney Ciné'\n",
    "with open(path) as f:\n",
    "    occurrence_disney = f.read().count(word)\n",
    "print(f\"\\n 'Ambassador Disney Ciné' apparaître {occurrence_disney} fois dans le corpus\\n\")"
   ]
  },
  {
   "cell_type": "code",
   "execution_count": 496,
   "id": "edc8f7a6-4dae-4c35-a3bb-8bdb1c3764ed",
   "metadata": {
    "jupyter": {
     "source_hidden": true
    },
    "tags": []
   },
   "outputs": [
    {
     "name": "stdout",
     "output_type": "stream",
     "text": [
      "\n",
      " ''American Cinema' apparaître 0 fois dans le corpus\n",
      "\n"
     ]
    }
   ],
   "source": [
    "word = 'American Cinema'\n",
    "with open(path) as f:\n",
    "    occurrence_cineame = f.read().count(word)\n",
    "print(f\"\\n ''American Cinema' apparaître {occurrence_cineame} fois dans le corpus\\n\")"
   ]
  },
  {
   "cell_type": "code",
   "execution_count": 497,
   "id": "d2709bae-de79-4c7d-a7cd-0603fb9de2a5",
   "metadata": {},
   "outputs": [
    {
     "name": "stdout",
     "output_type": "stream",
     "text": [
      "\n",
      " 'Astor Cinema' apparaître 0 fois dans le corpus\n",
      "\n"
     ]
    }
   ],
   "source": [
    "word = 'Astor Cinema'\n",
    "with open(path) as f:\n",
    "    occurrence_astor = f.read().count(word)\n",
    "print(f\"\\n 'Astor Cinema' apparaître {occurrence_astor} fois dans le corpus\\n\")"
   ]
  },
  {
   "cell_type": "code",
   "execution_count": 498,
   "id": "0accd1f5-4051-4897-b85f-83800c88e368",
   "metadata": {},
   "outputs": [
    {
     "name": "stdout",
     "output_type": "stream",
     "text": [
      "\n",
      " 'Auditorium Shell' apparaître 0 fois dans le corpus\n",
      "\n"
     ]
    }
   ],
   "source": [
    "word = 'Auditorium Shell'\n",
    "with open(path) as f:\n",
    "    occurrence_ashell = f.read().count(word)\n",
    "print(f\"\\n 'Auditorium Shell' apparaître {occurrence_ashell} fois dans le corpus\\n\")"
   ]
  },
  {
   "cell_type": "code",
   "execution_count": 499,
   "id": "012461ce-05d2-46ab-981a-1de1d74a9680",
   "metadata": {},
   "outputs": [
    {
     "name": "stdout",
     "output_type": "stream",
     "text": [
      "\n",
      " ''Aventure Cinema' apparaître 0 fois dans le corpus\n",
      "\n"
     ]
    }
   ],
   "source": [
    "word = 'Aventure Cinema'\n",
    "with open(path) as f:\n",
    "    occurrence_avencine = f.read().count(word)\n",
    "print(f\"\\n 'Aventure Cinema' apparaître {occurrence_avencine } fois dans le corpus\\n\")"
   ]
  },
  {
   "cell_type": "code",
   "execution_count": 532,
   "id": "8a4e8a61-9d5e-43b2-a97d-00ffb1f75778",
   "metadata": {},
   "outputs": [
    {
     "name": "stdout",
     "output_type": "stream",
     "text": [
      "\n",
      " ''Carly Cinema' apparaître 0 fois dans le corpus\n",
      "\n"
     ]
    }
   ],
   "source": [
    "word = 'Carly Cinema'\n",
    "with open(path) as f:\n",
    "    occurrence_carly = f.read().count(word)\n",
    "print(f\"\\n 'Carly Cinema' apparaître {occurrence_carly } fois dans le corpus\\n\")"
   ]
  },
  {
   "cell_type": "code",
   "execution_count": 533,
   "id": "3d32472f-a18e-4476-bf5e-bd2c00618e83",
   "metadata": {},
   "outputs": [
    {
     "name": "stdout",
     "output_type": "stream",
     "text": [
      "\n",
      " 'Centra Cinema' apparaître 0 fois dans le corpus\n",
      "\n"
     ]
    }
   ],
   "source": [
    "word = 'Centra Cinema'\n",
    "with open(path) as f:\n",
    "    occurrence_cencin= f.read().count(word)\n",
    "print(f\"\\n 'Centra Cinema' apparaître {occurrence_cencin} fois dans le corpus\\n\")"
   ]
  },
  {
   "cell_type": "code",
   "execution_count": 534,
   "id": "6e0567ee-6495-4669-adb0-7065ab32bf98",
   "metadata": {},
   "outputs": [
    {
     "name": "stdout",
     "output_type": "stream",
     "text": [
      "\n",
      " 'Central Cinema' apparaître 0 fois dans le corpus\n",
      "\n"
     ]
    }
   ],
   "source": [
    "word = 'Central Cinema'\n",
    "with open(path) as f:\n",
    "    occurrence_centralci = f.read().count(word)\n",
    "print(f\"\\n 'Central Cinema' apparaître {occurrence_centralci} fois dans le corpus\\n\")"
   ]
  },
  {
   "cell_type": "code",
   "execution_count": 535,
   "id": "f247c2cd-d817-4b44-bbec-c6d6c5250967",
   "metadata": {},
   "outputs": [
    {
     "name": "stdout",
     "output_type": "stream",
     "text": [
      "\n",
      " 'Ciné Colisee' apparaître 0 fois dans le corpus\n",
      "\n"
     ]
    }
   ],
   "source": [
    "word = 'Ciné Colisee'\n",
    "with open(path) as f:\n",
    "    occurrence_cinecol = f.read().count(word)\n",
    "print(f\"\\n 'Ciné Colisee' apparaître {occurrence_cinecol} fois dans le corpus\\n\")"
   ]
  },
  {
   "cell_type": "code",
   "execution_count": 536,
   "id": "94ae6794-e718-4203-bd37-8d957c0d579f",
   "metadata": {},
   "outputs": [
    {
     "name": "stdout",
     "output_type": "stream",
     "text": [
      "\n",
      " 'Ciné Le Francais' apparaître 0 fois dans le corpus\n",
      "\n"
     ]
    }
   ],
   "source": [
    "word = 'Ciné Le Francais'\n",
    "with open(path) as f:\n",
    "    occurrence_cinelef = f.read().count(word)\n",
    "print(f\"\\n 'Ciné Le Francais' apparaître {occurrence_cinelef} fois dans le corpus\\n\")"
   ]
  },
  {
   "cell_type": "code",
   "execution_count": 537,
   "id": "639f4345-9bb4-47a9-9c8e-5fd5ffb12a22",
   "metadata": {},
   "outputs": [
    {
     "name": "stdout",
     "output_type": "stream",
     "text": [
      "\n",
      " 'Ciné Nord' apparaître 0 fois dans le corpus\n",
      "\n"
     ]
    }
   ],
   "source": [
    "word = 'Ciné Nord'\n",
    "with open(path) as f:\n",
    "    occurrence_cinenord = f.read().count(word)\n",
    "print(f\"\\n 'Ciné Nord' apparaître {occurrence_cinenord} fois dans le corpus\\n\")"
   ]
  },
  {
   "cell_type": "code",
   "execution_count": 538,
   "id": "57ef1633-b9ee-48bc-8de9-ff48425480b3",
   "metadata": {},
   "outputs": [
    {
     "name": "stdout",
     "output_type": "stream",
     "text": [
      "\n",
      " 'Cineac Centre Cinema' apparaître 0 fois dans le corpus\n",
      "\n"
     ]
    }
   ],
   "source": [
    "word = 'Cineac Centre Cinema'\n",
    "with open(path) as f:\n",
    "    occurrence_cineaccen= f.read().count(word)\n",
    "print(f\"\\n 'Cineac Centre Cinema' apparaître {occurrence_cineaccen} fois dans le corpus\\n\")"
   ]
  },
  {
   "cell_type": "code",
   "execution_count": 539,
   "id": "fd06cb69-26d6-44a7-bf09-f3802dc05b3e",
   "metadata": {},
   "outputs": [
    {
     "name": "stdout",
     "output_type": "stream",
     "text": [
      "\n",
      " 'Cineac' apparaître 0 fois dans le corpus\n",
      "\n"
     ]
    }
   ],
   "source": [
    "word = 'Cineac'\n",
    "with open(path) as f:\n",
    "    occurrence_cineac= f.read().count(word)\n",
    "print(f\"\\n 'Cineac' apparaître {occurrence_cineac} fois dans le corpus\\n\")"
   ]
  },
  {
   "cell_type": "code",
   "execution_count": 540,
   "id": "6f4cbe7e-0e56-4b0e-b809-a9956c5c138a",
   "metadata": {},
   "outputs": [
    {
     "name": "stdout",
     "output_type": "stream",
     "text": [
      "\n",
      " 'Cinéma Galéries' apparaître 0 fois dans le corpus\n",
      "\n"
     ]
    }
   ],
   "source": [
    "word = 'Cinéma Galéries'\n",
    "with open(path) as f:\n",
    "    occurrence_cinegal = f.read().count(word)\n",
    "print(f\"\\n 'Cinéma Galéries' apparaître {occurrence_cinegal} fois dans le corpus\\n\")"
   ]
  },
  {
   "cell_type": "code",
   "execution_count": 541,
   "id": "67c1ed79-4e74-416d-8208-25611390dda9",
   "metadata": {},
   "outputs": [
    {
     "name": "stdout",
     "output_type": "stream",
     "text": [
      "\n",
      " 'Coliseum Cinema' apparaître 0 fois dans le corpus\n",
      "\n"
     ]
    }
   ],
   "source": [
    "word = 'Coliseum Cinema'\n",
    "with open(path) as f:\n",
    "    occurrence_colicine = f.read().count(word)\n",
    "print(f\"\\n 'Coliseum Cinema' apparaître {occurrence_colicine} fois dans le corpus\\n\")"
   ]
  },
  {
   "cell_type": "code",
   "execution_count": 543,
   "id": "1599293e-01ba-4fb8-af3e-b4e424af7f2c",
   "metadata": {},
   "outputs": [
    {
     "name": "stdout",
     "output_type": "stream",
     "text": [
      "\n",
      " 'Crosly Cinema' apparaître 0 fois dans le corpus\n",
      "\n"
     ]
    }
   ],
   "source": [
    "word = 'Crosly Cinema'\n",
    "with open(path) as f:\n",
    "    occurrence_crosly = f.read().count(word)\n",
    "print(f\"\\n 'Crosly Cinema' apparaître {occurrence_crosly} fois dans le corpus\\n\")"
   ]
  },
  {
   "cell_type": "code",
   "execution_count": 544,
   "id": "d48c7059-652d-431b-a039-daad676242e3",
   "metadata": {},
   "outputs": [
    {
     "name": "stdout",
     "output_type": "stream",
     "text": [
      "\n",
      " 'Ecuyer Cinema' apparaître 0 fois dans le corpus\n",
      "\n"
     ]
    }
   ],
   "source": [
    "word = 'Ecuyer Cinema'\n",
    "with open(path) as f:\n",
    "    occurrence_ecuyer = f.read().count(word)\n",
    "print(f\"\\n 'Ecuyer Cinema' apparaître {occurrence_ecuyer} fois dans le corpus\\n\")"
   ]
  },
  {
   "cell_type": "code",
   "execution_count": 545,
   "id": "b018999b-9f97-4e3d-a94b-013f137e9464",
   "metadata": {},
   "outputs": [
    {
     "name": "stdout",
     "output_type": "stream",
     "text": [
      "\n",
      " Ira Ciné' apparaître 0 fois dans le corpus\n",
      "\n"
     ]
    }
   ],
   "source": [
    "word = 'Ira Ciné'\n",
    "with open(path) as f:\n",
    "    occurrence_ira= f.read().count(word)\n",
    "print(f\"\\n Ira Ciné' apparaître {occurrence_ira} fois dans le corpus\\n\")"
   ]
  },
  {
   "cell_type": "code",
   "execution_count": 546,
   "id": "5861cce6-5c72-46cd-8c87-55094cb589f5",
   "metadata": {},
   "outputs": [
    {
     "name": "stdout",
     "output_type": "stream",
     "text": [
      "\n",
      " 'Midi-Minuit Cinema' apparaître 0 fois dans le corpus\n",
      "\n"
     ]
    }
   ],
   "source": [
    "word = 'Midi-Minuit Cinema'\n",
    "with open(path) as f:\n",
    "    occurrence_miminuit= f.read().count(word)\n",
    "print(f\"\\n 'Midi-Minuit Cinema' apparaître {occurrence_miminuit} fois dans le corpus\\n\")"
   ]
  },
  {
   "cell_type": "code",
   "execution_count": 547,
   "id": "a0f596b5-1a18-4db6-bd20-bf1c1af9fa53",
   "metadata": {},
   "outputs": [
    {
     "name": "stdout",
     "output_type": "stream",
     "text": [
      "\n",
      " 'UGC cinema' apparaître 0 fois dans le corpus\n",
      "\n"
     ]
    }
   ],
   "source": [
    "word = 'UGC cinema'\n",
    "with open (path) as f:\n",
    "    occurence_ugccin = f.read().count(word)\n",
    "print (f\"\\n 'UGC cinema' apparaître {occurrence_miminuit} fois dans le corpus\\n\")"
   ]
  },
  {
   "cell_type": "code",
   "execution_count": 548,
   "id": "57c26042-30e6-4f92-b04b-7ac318064e22",
   "metadata": {},
   "outputs": [
    {
     "name": "stdout",
     "output_type": "stream",
     "text": [
      "\n",
      " 'UGC cinema' apparaître 0 fois dans le corpus\n",
      "\n"
     ]
    }
   ],
   "source": [
    "word = 'UGC Cinema'\n",
    "with open (path) as f:\n",
    "    occurence_ugccin = f.read().count(word)\n",
    "print (f\"\\n 'UGC Cinema' apparaître {occurrence_miminuit} fois dans le corpus\\n\")"
   ]
  },
  {
   "cell_type": "code",
   "execution_count": 549,
   "id": "fbe338e9-611f-43c2-acc6-1f4738ba92f6",
   "metadata": {},
   "outputs": [
    {
     "name": "stdout",
     "output_type": "stream",
     "text": [
      "\n",
      " 'UGC cinéma' apparaître 0 fois dans le corpus\n",
      "\n"
     ]
    }
   ],
   "source": [
    "word = 'UGC cinéma'\n",
    "with open (path) as f:\n",
    "    occurence_ugccin = f.read().count(word)\n",
    "print (f\"\\n 'UGC cinéma' apparaître {occurrence_miminuit} fois dans le corpus\\n\")"
   ]
  },
  {
   "cell_type": "code",
   "execution_count": 550,
   "id": "f45a46a6-a337-42e2-b071-3356a9a80ca4",
   "metadata": {},
   "outputs": [
    {
     "name": "stdout",
     "output_type": "stream",
     "text": [
      "\n",
      " 'UGC Cinéma' apparaître 0 fois dans le corpus\n",
      "\n"
     ]
    }
   ],
   "source": [
    "word = 'UGC Cinéma'\n",
    "with open (path) as f:\n",
    "    occurence_ugccin = f.read().count(word)\n",
    "print (f\"\\n 'UGC Cinéma' apparaître {occurrence_miminuit} fois dans le corpus\\n\")"
   ]
  },
  {
   "cell_type": "code",
   "execution_count": 551,
   "id": "bca2cb0d-f791-4770-ace1-43738943cf07",
   "metadata": {},
   "outputs": [
    {
     "name": "stdout",
     "output_type": "stream",
     "text": [
      "\n",
      " 'Cinéma Galéries' apparaître 0 fois dans le corpus\n",
      "\n"
     ]
    }
   ],
   "source": [
    "word = 'Cinéma Galéries'\n",
    "with open(path) as f:\n",
    "    occurrence_cinegal = f.read().count(word)\n",
    "print(f\"\\n 'Cinéma Galéries' apparaître {occurrence_cinegal} fois dans le corpus\\n\")"
   ]
  },
  {
   "cell_type": "code",
   "execution_count": 552,
   "id": "ae1ccb07-c340-4ea4-b4be-799a7bc92ce6",
   "metadata": {},
   "outputs": [
    {
     "name": "stdout",
     "output_type": "stream",
     "text": [
      "\n",
      " 'Normandie Cinema' apparaître 0 fois dans le corpus\n",
      "\n"
     ]
    }
   ],
   "source": [
    "word = 'Normandie Cinema'\n",
    "with open(path) as f:\n",
    "    occurrence_normancine = f.read().count(word)\n",
    "print(f\"\\n 'Normandie Cinema' apparaître {occurrence_normancine} fois dans le corpus\\n\")"
   ]
  },
  {
   "cell_type": "code",
   "execution_count": 553,
   "id": "53195dce-2c6d-4058-b290-2c3d349ce31d",
   "metadata": {},
   "outputs": [
    {
     "name": "stdout",
     "output_type": "stream",
     "text": [
      "\n",
      " 'Palladium Cinema' apparaître 0 fois dans le corpus\n",
      "\n"
     ]
    }
   ],
   "source": [
    "word = 'Palladium Cinema'\n",
    "with open(path) as f:\n",
    "    occurrence_palladiumc = f.read().count(word)\n",
    "print(f\"\\n 'Palladium Cinema' apparaître {occurrence_palladiumc} fois dans le corpus\\n\")"
   ]
  },
  {
   "cell_type": "code",
   "execution_count": 554,
   "id": "2e293041-525b-4074-97b6-7f30fa4e0c77",
   "metadata": {},
   "outputs": [
    {
     "name": "stdout",
     "output_type": "stream",
     "text": [
      "\n",
      " 'Paris Cinema' apparaître 0 fois dans le corpus\n",
      "\n"
     ]
    }
   ],
   "source": [
    "word = 'Paris Cinema'\n",
    "with open(path) as f:\n",
    "    occurrence_pcinema = f.read().count(word)\n",
    "print(f\"\\n 'Paris Cinema' apparaître {occurrence_pcinema} fois dans le corpus\\n\")"
   ]
  },
  {
   "cell_type": "code",
   "execution_count": 555,
   "id": "1bb548e3-ec86-4149-9637-31a5b302ada1",
   "metadata": {},
   "outputs": [
    {
     "name": "stdout",
     "output_type": "stream",
     "text": [
      "\n",
      " 'Piccadilly Cinema' apparaître 0 fois dans le corpus\n",
      "\n"
     ]
    }
   ],
   "source": [
    "word = 'Piccadilly Cinema'\n",
    "with open(path) as f:\n",
    "    occurrence_piccadilly= f.read().count(word)\n",
    "print(f\"\\n 'Piccadilly Cinema' apparaître {occurrence_piccadilly} fois dans le corpus\\n\")"
   ]
  },
  {
   "cell_type": "code",
   "execution_count": 556,
   "id": "e667445c-38a3-4e7b-af79-ebffb151730b",
   "metadata": {},
   "outputs": [
    {
     "name": "stdout",
     "output_type": "stream",
     "text": [
      "\n",
      " 'Raf Cinema' apparaître 0 fois dans le corpus\n",
      "\n"
     ]
    }
   ],
   "source": [
    "word = 'Raf Cinema'\n",
    "with open(path) as f:\n",
    "    occurrence_rafc= f.read().count(word)\n",
    "print(f\"\\n 'Raf Cinema' apparaître {occurrence_rafc} fois dans le corpus\\n\")"
   ]
  },
  {
   "cell_type": "code",
   "execution_count": 557,
   "id": "cdb42d1a-299c-4374-9c53-37e9ca99176b",
   "metadata": {},
   "outputs": [
    {
     "name": "stdout",
     "output_type": "stream",
     "text": [
      "\n",
      " 'Rialto Cinema' apparaître 0 fois dans le corpus\n",
      "\n"
     ]
    }
   ],
   "source": [
    "word = 'Rialto Cinema'\n",
    "with open(path) as f:\n",
    "    occurrence_rialto = f.read().count(word)\n",
    "print(f\"\\n 'Rialto Cinema' apparaître {occurrence_rialto} fois dans le corpus\\n\")"
   ]
  },
  {
   "cell_type": "code",
   "execution_count": 558,
   "id": "2c7dc0ba-88ef-49e1-b07f-52ce1ddbf580",
   "metadata": {},
   "outputs": [
    {
     "name": "stdout",
     "output_type": "stream",
     "text": [
      "\n",
      " 'Royal Bourse Cinema' apparaître 0 fois dans le corpus\n",
      "\n"
     ]
    }
   ],
   "source": [
    "word = 'Royal Bourse Cinema'\n",
    "with open(path) as f:\n",
    "    occurrence_royalbourse = f.read().count(word)\n",
    "print(f\"\\n 'Royal Bourse Cinema' apparaître {occurrence_royalbourse} fois dans le corpus\\n\")"
   ]
  },
  {
   "cell_type": "code",
   "execution_count": 559,
   "id": "a96a915a-41a0-4739-bb50-f06c32ea507a",
   "metadata": {},
   "outputs": [
    {
     "name": "stdout",
     "output_type": "stream",
     "text": [
      "\n",
      " 'Scala Cinema' apparaître 0 fois dans le corpus\n",
      "\n"
     ]
    }
   ],
   "source": [
    "word = 'Scala Cinema'\n",
    "with open(path) as f:\n",
    "    occurrence_scala = f.read().count(word)\n",
    "print(f\"\\n 'Scala Cinema' apparaître {occurrence_scala} fois dans le corpus\\n\")"
   ]
  },
  {
   "cell_type": "code",
   "execution_count": 560,
   "id": "d4922b2c-962f-4008-963e-8a5525da7222",
   "metadata": {},
   "outputs": [
    {
     "name": "stdout",
     "output_type": "stream",
     "text": [
      "\n",
      " 'Star Cinema' apparaître 0 fois dans le corpus\n",
      "\n"
     ]
    }
   ],
   "source": [
    "word = 'Star Cinema'\n",
    "with open(path) as f:\n",
    "    occurrence_star = f.read().count(word)\n",
    "print(f\"\\n 'Star Cinema' apparaître {occurrence_star} fois dans le corpus\\n\")"
   ]
  },
  {
   "cell_type": "code",
   "execution_count": 561,
   "id": "be6d34fb-6584-4cad-8a1b-3d27e2fee273",
   "metadata": {},
   "outputs": [
    {
     "name": "stdout",
     "output_type": "stream",
     "text": [
      "\n",
      " 'Stuart Cinema' apparaître 0 fois dans le corpus\n",
      "\n"
     ]
    }
   ],
   "source": [
    "word = 'Stuart Cinema'\n",
    "with open(path) as f:\n",
    "    occurrence_stuart = f.read().count(word)\n",
    "print(f\"\\n 'Stuart Cinema' apparaître {occurrence_stuart} fois dans le corpus\\n\")"
   ]
  },
  {
   "cell_type": "code",
   "execution_count": 562,
   "id": "f1d4fb4c-115f-4916-874d-be1307e5c54e",
   "metadata": {},
   "outputs": [
    {
     "name": "stdout",
     "output_type": "stream",
     "text": [
      "\n",
      " 'Tabora Cinema' apparaître 0 fois dans le corpus\n",
      "\n"
     ]
    }
   ],
   "source": [
    "word = 'Tabora Cinema'\n",
    "with open(path) as f:\n",
    "    occurrence_tabora= f.read().count(word)\n",
    "print(f\"\\n 'Tabora Cinema' apparaître {occurrence_tabora} fois dans le corpus\\n\")"
   ]
  },
  {
   "cell_type": "code",
   "execution_count": 563,
   "id": "53cbb72b-ab48-44dc-903e-7665e8f76d4d",
   "metadata": {},
   "outputs": [
    {
     "name": "stdout",
     "output_type": "stream",
     "text": [
      "\n",
      " 'Trianon Cinema' apparaître 0 fois dans le corpus\n",
      "\n"
     ]
    }
   ],
   "source": [
    "word = 'Trianon Cinema'\n",
    "with open(path) as f:\n",
    "    occurrence_trianon = f.read().count(word)\n",
    "print(f\"\\n 'Trianon Cinema' apparaître {occurrence_trianon} fois dans le corpus\\n\")"
   ]
  },
  {
   "cell_type": "code",
   "execution_count": 564,
   "id": "789d6cb3-e58c-4bc7-9531-385a12ef2904",
   "metadata": {},
   "outputs": [
    {
     "name": "stdout",
     "output_type": "stream",
     "text": [
      "\n",
      " 'Twin's Cinema' apparaître 0 fois dans le corpus\n",
      "\n"
     ]
    }
   ],
   "source": [
    "word = \"Twin's Cinema\"\n",
    "with open(path) as f:\n",
    "    occurrence_twins = f.read().count(word)\n",
    "print(f\"\\n 'Twin's Cinema' apparaître {occurrence_twins} fois dans le corpus\\n\")"
   ]
  },
  {
   "cell_type": "code",
   "execution_count": 565,
   "id": "f47a8591-4b1e-4288-b562-4dd930ac4486",
   "metadata": {},
   "outputs": [
    {
     "name": "stdout",
     "output_type": "stream",
     "text": [
      "\n",
      " 'Victory Cinema' apparaître 0 fois dans le corpus\n",
      "\n"
     ]
    }
   ],
   "source": [
    "word = 'Victory Cinema'\n",
    "with open(path) as f:\n",
    "    occurrence_victory = f.read().count(word)\n",
    "print(f\"\\n 'Victory Cinema' apparaître {occurrence_victory} fois dans le corpus\\n\")"
   ]
  },
  {
   "cell_type": "code",
   "execution_count": 566,
   "id": "26068526-aef3-4381-ad0c-b315970a5d37",
   "metadata": {},
   "outputs": [
    {
     "name": "stdout",
     "output_type": "stream",
     "text": [
      "\n",
      " 'White Cinema' apparaître 0 fois dans le corpus\n",
      "\n"
     ]
    }
   ],
   "source": [
    "word = 'White Cinema'\n",
    "with open(path) as f:\n",
    "    occurrence_white = f.read().count(word)\n",
    "print(f\"\\n 'White Cinema' apparaître {occurrence_white} fois dans le corpus\\n\")"
   ]
  },
  {
   "cell_type": "code",
   "execution_count": 567,
   "id": "42831220-a2de-420e-b53a-44623e15bbee",
   "metadata": {},
   "outputs": [
    {
     "name": "stdout",
     "output_type": "stream",
     "text": [
      "\n",
      " 'Ciné Astra' apparaître 0 fois dans le corpus\n",
      "\n"
     ]
    }
   ],
   "source": [
    "word = 'Ciné Astra'\n",
    "with open(path) as f:\n",
    "    occurrence_astra = f.read().count(word)\n",
    "print(f\"\\n 'Ciné Astra' apparaître {occurrence_astra} fois dans le corpus\\n\")"
   ]
  },
  {
   "cell_type": "code",
   "execution_count": 568,
   "id": "b7c30011-e184-4316-8de5-da0468615be9",
   "metadata": {},
   "outputs": [
    {
     "name": "stdout",
     "output_type": "stream",
     "text": [
      "\n",
      " 'Ciné Centenaire' apparaître 0 fois dans le corpus\n",
      "\n"
     ]
    }
   ],
   "source": [
    "word = 'Ciné Centenaire'\n",
    "with open(path) as f:\n",
    "    occurrence_cinecen = f.read().count(word)\n",
    "print(f\"\\n 'Ciné Centenaire' apparaître {occurrence_cinecen} fois dans le corpus\\n\")"
   ]
  },
  {
   "cell_type": "code",
   "execution_count": 570,
   "id": "0b03d6a0-2c12-439c-ac9a-b128852d224f",
   "metadata": {},
   "outputs": [
    {
     "name": "stdout",
     "output_type": "stream",
     "text": [
      "\n",
      " 'Ciné Christine' apparaître 1 fois dans le corpus\n",
      "\n"
     ]
    }
   ],
   "source": [
    "word = 'Ciné Christine'\n",
    "with open(path) as f:\n",
    "    occurrence_christine = f.read().count(word)\n",
    "print(f\"\\n 'Ciné Christine' apparaître {occurrence_christine} fois dans le corpus\\n\")"
   ]
  },
  {
   "cell_type": "code",
   "execution_count": 571,
   "id": "a25ca75e-6ca3-445a-8f35-524972c4d909",
   "metadata": {},
   "outputs": [
    {
     "name": "stdout",
     "output_type": "stream",
     "text": [
      "\n",
      " 'Kinepolis Bruxelles' apparaître 0 fois dans le corpus\n",
      "\n"
     ]
    }
   ],
   "source": [
    "word = 'Kinepolis Bruxelles'\n",
    "with open(path) as f:\n",
    "    occurrence_kine = f.read().count(word)\n",
    "print(f\"\\n 'Kinepolis Bruxelles' apparaître {occurrence_kine} fois dans le corpus\\n\")"
   ]
  },
  {
   "cell_type": "code",
   "execution_count": 572,
   "id": "82aad3ff-7881-4a9b-9608-7cf4ad81e6d7",
   "metadata": {},
   "outputs": [
    {
     "name": "stdout",
     "output_type": "stream",
     "text": [
      "\n",
      " 'Ciné Lux' apparaître 0 fois dans le corpus\n",
      "\n"
     ]
    }
   ],
   "source": [
    "word = 'Ciné Lux'\n",
    "with open(path) as f:\n",
    "    occurrence_lux = f.read().count(word)\n",
    "print(f\"\\n 'Ciné Lux' apparaître {occurrence_lux} fois dans le corpus\\n\")"
   ]
  },
  {
   "cell_type": "code",
   "execution_count": 573,
   "id": "7fd62775-cb9c-4c47-a5e7-c88d7d7f5259",
   "metadata": {},
   "outputs": [
    {
     "name": "stdout",
     "output_type": "stream",
     "text": [
      "\n",
      " 'Ciné Rio' apparaître 0 fois dans le corpus\n",
      "\n"
     ]
    }
   ],
   "source": [
    "word = 'Ciné Rio'\n",
    "with open(path) as f:\n",
    "    occurrence_rio = f.read().count(word)\n",
    "print(f\"\\n 'Ciné Rio' apparaître {occurrence_rio} fois dans le corpus\\n\")"
   ]
  },
  {
   "cell_type": "code",
   "execution_count": 574,
   "id": "64b361aa-c1e4-4090-be1a-3fabb4e222df",
   "metadata": {},
   "outputs": [
    {
     "name": "stdout",
     "output_type": "stream",
     "text": [
      "\n",
      " 'Ciné Wagram' apparaître 0 fois dans le corpus\n",
      "\n"
     ]
    }
   ],
   "source": [
    "word = 'Ciné Wagram'\n",
    "with open(path) as f:\n",
    "    occurrence_wagram = f.read().count(word)\n",
    "print(f\"\\n 'Ciné Wagram' apparaître {occurrence_wagram} fois dans le corpus\\n\")"
   ]
  },
  {
   "cell_type": "code",
   "execution_count": 575,
   "id": "771a416b-64f0-4a84-8e52-e75136a0028b",
   "metadata": {},
   "outputs": [
    {
     "name": "stdout",
     "output_type": "stream",
     "text": [
      "\n",
      " 'Cinéma des Galeries' apparaître 0 fois dans le corpus\n",
      "\n"
     ]
    }
   ],
   "source": [
    "word = 'Cinéma des Galeries'\n",
    "with open(path) as f:\n",
    "    occurrence_desgal = f.read().count(word)\n",
    "print(f\"\\n 'Cinéma des Galeries' apparaître {occurrence_desgal} fois dans le corpus\\n\")"
   ]
  },
  {
   "cell_type": "code",
   "execution_count": 576,
   "id": "aad9e222-63da-4d08-98ff-78b5a9af79b4",
   "metadata": {},
   "outputs": [
    {
     "name": "stdout",
     "output_type": "stream",
     "text": [
      "\n",
      " 'Ancien cinéma Plaza' apparaître 0 fois dans le corpus\n",
      "\n"
     ]
    }
   ],
   "source": [
    "word = 'Ancien cinéma Plaza'\n",
    "with open(path) as f:\n",
    "    occurrence_anciplaza = f.read().count(word)\n",
    "print(f\"\\n 'Ancien cinéma Plaza' apparaître {occurrence_anciplaza} fois dans le corpus\\n\")"
   ]
  },
  {
   "cell_type": "markdown",
   "id": "effbe6cf-bfd0-4687-ab23-25fe4bbf1bac",
   "metadata": {},
   "source": [
    "# Results"
   ]
  },
  {
   "cell_type": "markdown",
   "id": "632a671b-ecde-4fd1-8641-4a12d01f309c",
   "metadata": {},
   "source": [
    "## 'Generic' Words"
   ]
  },
  {
   "cell_type": "code",
   "execution_count": null,
   "id": "4d391b3b-823a-4530-87c5-c7f532282ccd",
   "metadata": {},
   "outputs": [],
   "source": [
    "#Le mot 'culture' apparaître 5418 fois dans le corpus\n",
    "#Le mot 'cultures' apparaître 199 fois dans le corpus\n",
    "#Le mot 'théâtre' apparaître 10222 fois dans le corpus\n",
    "#Le mot 'théâtres' apparaître 2753 fois dans le corpus\n",
    "#Le mot 'museum' apparaître 165 fois dans le corpus\n",
    "#Le mot 'museums' apparaître 2 fois dans le corpus\n",
    "#'Musée' apparaître 917 fois dans le corpus\n",
    "#'Musées' apparaître 273 fois dans le corpus\n",
    "#‘centre culturel' apparaître 153 fois dans le corpus\n",
    "#‘centres culturels' apparaître 41 fois dans le corpus\n",
    "#Le mot 'Culture' apparaître 883 fois dans le corpus\n",
    "#Le mot 'Cultures' apparaître 56 fois dans le corpus\n",
    "#Le mot 'cinéma' apparaître 1147 fois dans le corpus\n",
    "#Le mot 'cinémas' apparaître 262 fois dans le corpus\n",
    "#'Cinéma' apparaître 177 fois dans le corpus\n",
    "#'Cinémas' apparaître 58 fois dans le corpus\n",
    "#Le mot 'Cinema' apparaître 2 fois dans le corpus\n",
    "#Le mot 'cinema' apparaître 30 fois dans le corpus\n",
    "#Le mot 'theatre' apparaître 4 fois dans le corpus\n",
    "#Le mot 'theatres' apparaître 1 fois dans le corpus\n",
    "#Le mot 'Théâtre' apparaître 7391 fois dans le corpus\n",
    "#Le mot 'Théâtres' apparaître 548 fois dans le corpus\n",
    "#'Patrimoine culturel' apparaître 6 fois dans le corpus\n",
    "#Le mot 'Museum' apparaître 28 fois dans le corpus\n",
    "#Le mot 'Museums' apparaître 10 fois dans le corpus\n",
    "#Le mot 'Musée' apparaître 5148 fois dans le corpus\n",
    "#Le mot ‘musée' apparaître 917 fois dans le corpus\n",
    "#Le mot ‘musées' apparaître 273 fois dans le corpus\n",
    "#Le mot 'Musées' apparaître 415 fois dans le corpus\n",
    "#'Lieu culturel' apparaître 1 fois dans le corpus\n",
    "#'Lieux culturels’ apparaître 3 fois dans le corpus\n",
    "#'Centre culturel' apparaître 138 fois dans le corpus\n",
    "#'Centres culturels' apparaître 12 fois dans le corpus\n",
    "#TOTAL : 37653"
   ]
  },
  {
   "cell_type": "markdown",
   "id": "46333ad0-3f0d-4e3c-8c68-32ba888bcba2",
   "metadata": {},
   "source": [
    "## Named entities "
   ]
  },
  {
   "cell_type": "markdown",
   "id": "9f07224a-7ee0-4d0c-ac06-8b284783a441",
   "metadata": {},
   "source": [
    "### Centres culturels"
   ]
  },
  {
   "cell_type": "code",
   "execution_count": null,
   "id": "28704dae-e0ea-4905-b4bd-f177958d66b0",
   "metadata": {},
   "outputs": [],
   "source": [
    "#'Les Brigittines' apparaître 4 fois dans le corpus\n",
    "#'Beursschouwburg' apparaître 32 fois dans le corpus\n",
    "#'Palais des Beaux-Arts' apparaître 323 fois dans le corpus ** also in museum\n",
    "#'Kaaitheater' apparaître 21 fois dans le corpus\n",
    "#TOTAL : 380"
   ]
  },
  {
   "cell_type": "markdown",
   "id": "a1198aee-d237-4b75-8e88-8cf661ed9e34",
   "metadata": {
    "tags": []
   },
   "source": [
    "### Musées"
   ]
  },
  {
   "cell_type": "code",
   "execution_count": 578,
   "id": "a9a2c44c-95d3-4db1-83d5-f9eaa47756cb",
   "metadata": {
    "tags": []
   },
   "outputs": [],
   "source": [
    "#'Musées royaux des Beaux-Arts' apparaître 12 fois dans le corpus\n",
    "#'Aquarium' apparaître 17 fois dans le corpus\n",
    "#'Musée royal de l'armée' 1 fois dans le corpus\n",
    "#'Observatoire royal de Belgique' apparaître 3 fois dans le corpus\n",
    "#'Théâtre Royal' apparaître 597 fois dans le corpus\n",
    "#'Coudenberg' apparaître 859 fois dans le corpus********* can not be considered\n",
    "#'Cinémathèque' apparaître 1 fois dans le corpus\n",
    "#'Musée de l'Industrie' apparaître 23 fois dans le corpus\n",
    "#'Musée instrumental' apparaître 2 fois dans le corpus\n",
    "#'Musées royaux d'Art et d'Histoire” apparaître 9 fois dans le corpus'\n",
    "#'Musée du Cinquantenaire' apparaître 11 fois dans le corpus\n",
    "#'Musée de la Porte de Hal' apparaître 2 fois dans le corpus\n",
    "#'Palais des Beaux-Arts' apparaître 323 fois dans le corpus ** also in cultural center\n",
    "#'Kaaitheater' apparaître 21 fois dans le corpus\n",
    "# TOTAL : 1022"
   ]
  },
  {
   "cell_type": "markdown",
   "id": "cecb0a18-2232-4187-b6df-6bf636a7998b",
   "metadata": {},
   "source": [
    "### Théâtres"
   ]
  },
  {
   "cell_type": "code",
   "execution_count": null,
   "id": "9ef72c11-b48e-4204-86d2-9be31ad98aa3",
   "metadata": {},
   "outputs": [],
   "source": [
    "#'Fantaisies-Parisiennes' apparaître 3 fois dans le corpus\n",
    "#‘Théâtre du Vaudeville' apparaître 15 fois dans le corpus\n",
    "#'Théâtre royal du Parc' apparaître 19 fois dans le corpus\n",
    "#'Cercle Gaulois' apparaître 12 fois dans le corpus\n",
    "#'La Samaritaine' apparaître 3 fois dans le corpus ** a voir, peut être des autres noms\n",
    "#'Théâtre royal flamand de Bruxelles' apparaître 19 fois dans le corpus\n",
    "#'Alhambra' apparaître 270 fois dans le corpus ** a voir\n",
    "#'Concert Noble' apparaître 25 fois dans le corpus\n",
    "#'Kaaitheater' apparaître 21 fois dans le corpus\n",
    "#'Théâtre de La Monnaie' apparaître 0 fois dans le corpus******* a voir\n",
    "#'Salle Patria' apparaître 7 fois dans le corpus\n",
    "# TOTAL : 394"
   ]
  },
  {
   "cell_type": "markdown",
   "id": "9ea4cfa3-2329-41d9-ab00-6b7d313a63cc",
   "metadata": {},
   "source": [
    "### Cinémas"
   ]
  },
  {
   "cell_type": "code",
   "execution_count": null,
   "id": "38c5bd2b-be75-4094-8ab0-fa6cba8a62a5",
   "metadata": {},
   "outputs": [],
   "source": [
    "#'Pathé Palace' apparaître 1 fois dans le corpus\n",
    "#'Théâtre des Variétés' apparaître 1 fois dans le corpus\n",
    "#'Ciné Christine' apparaître 1 fois dans le corpus\n",
    "# TOTAL : 3"
   ]
  },
  {
   "cell_type": "markdown",
   "id": "78be2e58-62e6-4083-b841-92e2fbcaaf3e",
   "metadata": {},
   "source": [
    "### IT DOESN'T WORK : Creating a keyword list"
   ]
  },
  {
   "cell_type": "code",
   "execution_count": null,
   "id": "85d58f73-908c-46ae-9aca-30af769a58c4",
   "metadata": {},
   "outputs": [],
   "source": [
    "#strings = ['culture', 'Cinéma']\n",
    "#\n",
    " #   with open(path) as f:\n",
    "  #      data = f.read()\n",
    "   #     for s in strings:\n",
    "    #        print s, data.count(s)"
   ]
  },
  {
   "cell_type": "code",
   "execution_count": null,
   "id": "31532210-928e-4000-99d3-d1e152bc194d",
   "metadata": {},
   "outputs": [],
   "source": []
  },
  {
   "cell_type": "code",
   "execution_count": 199,
   "id": "f670cd2d-9e57-424d-8dea-8b66cf1daab6",
   "metadata": {
    "collapsed": true,
    "jupyter": {
     "outputs_hidden": true
    },
    "tags": []
   },
   "outputs": [
    {
     "ename": "IndentationError",
     "evalue": "unexpected indent (4231715417.py, line 2)",
     "output_type": "error",
     "traceback": [
      "\u001b[0;36m  File \u001b[0;32m\"/tmp/ipykernel_296/4231715417.py\"\u001b[0;36m, line \u001b[0;32m2\u001b[0m\n\u001b[0;31m    with open(path) as f:\u001b[0m\n\u001b[0m    ^\u001b[0m\n\u001b[0;31mIndentationError\u001b[0m\u001b[0;31m:\u001b[0m unexpected indent\n"
     ]
    }
   ],
   "source": [
    "#strings = ['centre culturel', 'centres culturels', 'cinéma', 'cinémas', 'culture', 'cultures', 'museum', 'museums', 'théâtre', 'théâtres']\n",
    " #  with open(path) as f:\n",
    "  #      data = f.read()\n",
    "   #     for s in strings:\n",
    "    #        print path, s, data.count(s)"
   ]
  },
  {
   "cell_type": "code",
   "execution_count": 77,
   "id": "bea128e3-0a7c-4641-99ad-e961371ed243",
   "metadata": {},
   "outputs": [
    {
     "name": "stdout",
     "output_type": "stream",
     "text": [
      "10 stopwords:\n",
      " ['centre culturel', 'centres culturels', 'cinéma', 'cinémas', 'culture', 'cultures', 'museum', 'museums', 'théâtre', 'théâtres']\n"
     ]
    }
   ],
   "source": []
  },
  {
   "cell_type": "code",
   "execution_count": 82,
   "id": "7e449d66-2a75-4190-b77b-52ecd2e57e9f",
   "metadata": {},
   "outputs": [
    {
     "name": "stdout",
     "output_type": "stream",
     "text": [
      "\n",
      " 'sw' apparaître 0 fois dans le corpus\n",
      "\n"
     ]
    }
   ],
   "source": []
  },
  {
   "cell_type": "markdown",
   "id": "836a6236-ca33-4939-b4c5-904df7d90d78",
   "metadata": {},
   "source": [
    "# Occurrence visualisation of  in the corpus"
   ]
  },
  {
   "cell_type": "markdown",
   "id": "99c54b06-45c1-4e48-b7a3-94bed3152466",
   "metadata": {
    "tags": []
   },
   "source": [
    "### Calculating the number of occurence/ percentage of words"
   ]
  },
  {
   "cell_type": "code",
   "execution_count": 474,
   "id": "dc153d6a-00d5-4b10-924f-4847073649ec",
   "metadata": {
    "collapsed": true,
    "jupyter": {
     "outputs_hidden": true
    },
    "tags": []
   },
   "outputs": [
    {
     "ename": "SyntaxError",
     "evalue": "invalid syntax (3003674718.py, line 3)",
     "output_type": "error",
     "traceback": [
      "\u001b[0;36m  File \u001b[0;32m\"/tmp/ipykernel_296/3003674718.py\"\u001b[0;36m, line \u001b[0;32m3\u001b[0m\n\u001b[0;31m    y = np.array ([5418, 199, 10222, 2753, 1147, 262, 165, 2, 917, 273, 1, 3, 153, 41])\u001b[0m\n\u001b[0m      ^\u001b[0m\n\u001b[0;31mSyntaxError\u001b[0m\u001b[0;31m:\u001b[0m invalid syntax\n"
     ]
    }
   ],
   "source": [
    "#types = (['culture', 'cultures', 'théâtre', 'théâtres', 'cinéma', 'cinémas', 'museum', 'museums', 'musée', 'musées'\n",
    " #         'lieu culturel', 'lieux culturels', 'centre culturel', 'centres culturels',\n",
    "#y = np.array ([5418, 199, 10222, 2753, 1147, 262, 165, 2, 917, 273, 1, 3, 153, 41])\n",
    "#index = np.arange (types)\n",
    "#plt.bar(index, y)\n",
    "#plt.xlabel('Mots')\n",
    "#plt.ylabel(\"Numéro d'apparition\")\n",
    "#plt.xticks(y, types, fontsize=8)\n",
    "#plt.title('Nombre de fois où des mots liés aux lieux culturels ont été mentionnés')\n",
    "#plt.show()"
   ]
  },
  {
   "cell_type": "code",
   "execution_count": 385,
   "id": "be1be402-cd0f-42dd-b0bd-4cf2dd377b5b",
   "metadata": {},
   "outputs": [],
   "source": [
    "import pandas"
   ]
  },
  {
   "cell_type": "code",
   "execution_count": 387,
   "id": "99563277-0c1d-4130-ae00-04a357e2138e",
   "metadata": {},
   "outputs": [],
   "source": [
    "#for random colors\n",
    "import random"
   ]
  },
  {
   "cell_type": "markdown",
   "id": "2e64ea71-6c56-4b86-a41b-1a1814a9e52c",
   "metadata": {},
   "source": []
  }
 ],
 "metadata": {
  "kernelspec": {
   "display_name": "Python 3 (ipykernel)",
   "language": "python",
   "name": "python3"
  },
  "language_info": {
   "codemirror_mode": {
    "name": "ipython",
    "version": 3
   },
   "file_extension": ".py",
   "mimetype": "text/x-python",
   "name": "python",
   "nbconvert_exporter": "python",
   "pygments_lexer": "ipython3",
   "version": "3.9.7"
  }
 },
 "nbformat": 4,
 "nbformat_minor": 5
}

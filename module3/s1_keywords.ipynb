{
 "cells": [
  {
   "cell_type": "markdown",
   "metadata": {},
   "source": [
    "# Extraction de Keywords"
   ]
  },
  {
   "cell_type": "markdown",
   "metadata": {},
   "source": [
    "## Imports"
   ]
  },
  {
   "cell_type": "code",
   "execution_count": 12,
   "metadata": {
    "tags": []
   },
   "outputs": [],
   "source": [
    "import os\n",
    "import yake"
   ]
  },
  {
   "cell_type": "markdown",
   "metadata": {},
   "source": [
    "## Extraire les mots clés d'un document avec Yake"
   ]
  },
  {
   "cell_type": "markdown",
   "metadata": {},
   "source": [
    "https://github.com/LIAAD/yake"
   ]
  },
  {
   "cell_type": "code",
   "execution_count": 13,
   "metadata": {
    "tags": []
   },
   "outputs": [
    {
     "data": {
      "text/plain": [
       "{'conseil communal', 'conseil général'}"
      ]
     },
     "execution_count": 13,
     "metadata": {},
     "output_type": "execute_result"
    }
   ],
   "source": [
    "# Création d'une liste de mots à ignorer\n",
    "ignored = set([\"conseil communal\", \"conseil général\"])\n",
    "ignored"
   ]
  },
  {
   "cell_type": "code",
   "execution_count": 14,
   "metadata": {
    "tags": []
   },
   "outputs": [
    {
     "data": {
      "text/plain": [
       "<yake.yake.KeywordExtractor at 0x7f15af7c9070>"
      ]
     },
     "execution_count": 14,
     "metadata": {},
     "output_type": "execute_result"
    }
   ],
   "source": [
    "# Instantier l'extracteur de mots clés\n",
    "kw_extractor = yake.KeywordExtractor(lan=\"fr\", top=50)\n",
    "kw_extractor"
   ]
  },
  {
   "cell_type": "code",
   "execution_count": 15,
   "metadata": {
    "tags": []
   },
   "outputs": [],
   "source": [
    "# Lister les Fichiers\n",
    "data_path = \"../data/txt/\"\n",
    "files = os.listdir(data_path)"
   ]
  },
  {
   "cell_type": "code",
   "execution_count": 16,
   "metadata": {
    "tags": []
   },
   "outputs": [
    {
     "data": {
      "text/plain": [
       "2829"
      ]
     },
     "execution_count": 16,
     "metadata": {},
     "output_type": "execute_result"
    }
   ],
   "source": [
    "# Imprimer le nombre de fichiers identifiés\n",
    "len(files)"
   ]
  },
  {
   "cell_type": "code",
   "execution_count": 17,
   "metadata": {
    "tags": []
   },
   "outputs": [
    {
     "data": {
      "text/plain": [
       "['.ipynb_checkpoints',\n",
       " 'Bxl_1847_Tome_I1_Part_1.txt',\n",
       " 'Bxl_1847_Tome_I1_Part_2.txt',\n",
       " 'Bxl_1847_Tome_I1_Part_3.txt',\n",
       " 'Bxl_1847_Tome_I1_Part_4.txt',\n",
       " 'Bxl_1847_Tome_I1_Part_5.txt',\n",
       " 'Bxl_1848_Tome_I1_Part_1.txt',\n",
       " 'Bxl_1848_Tome_I1_Part_2.txt',\n",
       " 'Bxl_1848_Tome_I1_Part_3.txt',\n",
       " 'Bxl_1849_Tome_I1_Part_1.txt',\n",
       " 'Bxl_1849_Tome_I1_Part_2.txt',\n",
       " 'Bxl_1849_Tome_I1_Part_3.txt',\n",
       " 'Bxl_1849_Tome_I1_Part_4.txt',\n",
       " 'Bxl_1849_Tome_I1_Part_5.txt',\n",
       " 'Bxl_1849_Tome_II1_Part_1.txt',\n",
       " 'Bxl_1849_Tome_II1_Part_2.txt',\n",
       " 'Bxl_1849_Tome_II1_Part_3.txt',\n",
       " 'Bxl_1849_Tome_II1_Part_4.txt',\n",
       " 'Bxl_1849_Tome_II1_Part_5.txt',\n",
       " 'Bxl_1849_Tome_II1_Part_6.txt']"
      ]
     },
     "execution_count": 17,
     "metadata": {},
     "output_type": "execute_result"
    }
   ],
   "source": [
    "# Les dix premiers fichiers\n",
    "files[:20]"
   ]
  },
  {
   "cell_type": "code",
   "execution_count": 18,
   "metadata": {
    "tags": []
   },
   "outputs": [
    {
     "data": {
      "text/plain": [
       "2677"
      ]
     },
     "execution_count": 18,
     "metadata": {},
     "output_type": "execute_result"
    }
   ],
   "source": [
    "# Enlever les fichiers qui ne commencent pas par Bxl_\n",
    "bxl_files = [f for f in files if f.startswith('Bxl_')]\n",
    "len(bxl_files)"
   ]
  },
  {
   "cell_type": "code",
   "execution_count": 19,
   "metadata": {
    "tags": []
   },
   "outputs": [
    {
     "data": {
      "text/plain": [
       "'Bxl_1848_Tome_I1_Part_3.txt'"
      ]
     },
     "execution_count": 19,
     "metadata": {},
     "output_type": "execute_result"
    }
   ],
   "source": [
    "# Choisir un fichier\n",
    "this_file = bxl_files[7]\n",
    "this_file"
   ]
  },
  {
   "cell_type": "code",
   "execution_count": 20,
   "metadata": {
    "tags": []
   },
   "outputs": [
    {
     "data": {
      "text/plain": [
       "\"— 197 —\\ndivers arrêtés de la mairie. A qui le billet d'enterrement doit-il être\\nremis? La commune, fidèle aux traditions de l'an XII, le délivre au fossoyeurs ; l'église le réclame pour le receveur des droits d'inhumation. Aussi\\nles attributions se sont-elles confondues, ici parce que la ville a nommé le\\npréposé de l'église fossoyeur, là, parce que le fossoyeur a usurpé les fonctions de receveur des fabriques.\\nNous croyons que le billet d'enterrement pourrait être délivré directement à la famill\""
      ]
     },
     "execution_count": 20,
     "metadata": {},
     "output_type": "execute_result"
    }
   ],
   "source": [
    "# Récupérer le texte du fichier\n",
    "text = open(os.path.join(data_path, this_file), 'r').read()\n",
    "text[:500]"
   ]
  },
  {
   "cell_type": "code",
   "execution_count": 21,
   "metadata": {
    "tags": []
   },
   "outputs": [],
   "source": [
    "# Extraire les mots clés de ce texte\n",
    "keywords = kw_extractor.extract_keywords(text)"
   ]
  },
  {
   "cell_type": "code",
   "execution_count": 22,
   "metadata": {},
   "outputs": [
    {
     "data": {
      "text/plain": [
       "[('Conseil', 0.00036890284246636506),\n",
       " ('Hardy de Beaulieu', 0.0005425323266774805),\n",
       " ('Conseil communal', 0.0006574113831178961),\n",
       " ('ville', 0.0008562019679912539),\n",
       " ('BRUXELLES', 0.0011997326824872813),\n",
       " ('système', 0.00122373619395982),\n",
       " (\"qu'il\", 0.0013965360380542354),\n",
       " ('Section', 0.0014591773648888198),\n",
       " ('dépense', 0.001615066009279891),\n",
       " ('commission', 0.0017002784422375527),\n",
       " (\"c'est\", 0.0018717881203792759),\n",
       " ('faire', 0.0018923244789421124),\n",
       " (\"d'une\", 0.0019719701315637096),\n",
       " (\"d'eau\", 0.0019734114434378854),\n",
       " ('collège', 0.0021183612690772167),\n",
       " ('Hardy', 0.0022895922507226614),\n",
       " ('rapport', 0.0024687264766768556),\n",
       " ('serait', 0.002528891739306828),\n",
       " ('travaux', 0.0025458808180149678),\n",
       " (\"d'un\", 0.0026901526261965234),\n",
       " ('Beaulieu', 0.002725188311669609),\n",
       " ('rue', 0.0029239760167334957),\n",
       " (\"distribution d'eau\", 0.002944410614572923),\n",
       " ('question', 0.0030429934651004017),\n",
       " ('Delaveleye', 0.0032285484648275887),\n",
       " ('section des finances', 0.003335816744078953),\n",
       " ('eaux', 0.003493511618802072),\n",
       " ('Messieurs', 0.0036159340455033987),\n",
       " (\"qu'il serait\", 0.004091798933273595),\n",
       " ('projet', 0.004739111461568864),\n",
       " ('Bourgmestre', 0.004845755089923458),\n",
       " (\"l'échevin Fontainas\", 0.004910884435589948),\n",
       " ('mètres', 0.004935208491561464),\n",
       " ('travaux publics', 0.00499638361829864),\n",
       " ('Conseil adopte', 0.005032570056921406),\n",
       " ('dépenses', 0.005097552091789656),\n",
       " ('finances', 0.005144002885827361),\n",
       " ('demande', 0.005438150116476249),\n",
       " ('ville de Bruxelles', 0.005514749264525633),\n",
       " (\"l'on\", 0.005576986159341497),\n",
       " ('art', 0.005775621240454741),\n",
       " ('Gendebien', 0.005842418191407163),\n",
       " ('Fontainas', 0.005854726532288998),\n",
       " ('francs', 0.005855138917440847),\n",
       " ('systèmes', 0.005922883178765529),\n",
       " ('point', 0.005971863204939924),\n",
       " ('rue Royale', 0.006161308456171531),\n",
       " ('service', 0.00624942456747304),\n",
       " (\"dépenses qu'il serait\", 0.006341617449678595),\n",
       " (\"n'est\", 0.0063494985669837415)]"
      ]
     },
     "execution_count": 22,
     "metadata": {},
     "output_type": "execute_result"
    }
   ],
   "source": [
    "keywords"
   ]
  },
  {
   "cell_type": "code",
   "execution_count": 23,
   "metadata": {
    "tags": []
   },
   "outputs": [],
   "source": [
    "# Extraire les mots clés de ce texte\n",
    "keywords = kw_extractor.extract_keywords(text.lower())"
   ]
  },
  {
   "cell_type": "code",
   "execution_count": 24,
   "metadata": {
    "tags": []
   },
   "outputs": [
    {
     "data": {
      "text/plain": [
       "[('conseil', 0.0009491605282865648),\n",
       " ('ville', 0.0009895383897324246),\n",
       " ('système', 0.0012182900217363698),\n",
       " (\"qu'il\", 0.001408305474404544),\n",
       " ('section', 0.0014956629761456535),\n",
       " ('dépense', 0.0016118240870166415),\n",
       " ('conseil communal', 0.001721934459325022),\n",
       " ('faire', 0.001860890231688735),\n",
       " (\"d'eau\", 0.0019695884658842127),\n",
       " (\"d'une\", 0.0020439439865559167),\n",
       " (\"c'est\", 0.0021113900851377505),\n",
       " ('serait', 0.0024833104334402553),\n",
       " ('travaux', 0.0025462380974022314),\n",
       " ('rapport', 0.002638359120151208),\n",
       " (\"d'un\", 0.002642584682488491),\n",
       " ('hardy de beaulieu', 0.002662458815897984),\n",
       " ('commission', 0.0027235748792230957),\n",
       " ('rue', 0.0028737990704749503),\n",
       " (\"distribution d'eau\", 0.0029762627826560983),\n",
       " ('question', 0.002994135163028425),\n",
       " ('bruxelles', 0.003093868882656059),\n",
       " ('eaux', 0.0034294408658352748),\n",
       " ('section des finances', 0.0036750837081454663),\n",
       " (\"qu'il serait\", 0.004050455788346262),\n",
       " ('projet', 0.004664744511388389),\n",
       " ('collège', 0.004788962040283987),\n",
       " ('mètres', 0.004853615524962803),\n",
       " ('travaux publics', 0.004899947199763841),\n",
       " ('dépenses', 0.005036950271927005),\n",
       " ('demande', 0.005355576868415027),\n",
       " (\"l'on\", 0.005494111059424174),\n",
       " ('finances', 0.005533527258101961),\n",
       " ('point', 0.005881224301789624),\n",
       " ('systèmes', 0.00589652370520403),\n",
       " ('francs', 0.005945037769388055),\n",
       " ('hardy', 0.006057063112189013),\n",
       " ('service', 0.006158426871588796),\n",
       " (\"dépenses qu'il serait\", 0.0061964652848968335),\n",
       " (\"n'est\", 0.006256605671848612),\n",
       " (\"quantité d'eau\", 0.006480679626579951),\n",
       " ('proposition', 0.006500845526477374),\n",
       " ('messieurs', 0.006546929947864716),\n",
       " (\"d'un réservoir\", 0.0065731964596676415),\n",
       " ('heures', 0.006612966314882857),\n",
       " ('beaulieu', 0.006631253257596346),\n",
       " ('delaveleye', 0.006689077911182605),\n",
       " (\"d'un système\", 0.006765861319347176),\n",
       " ('litres', 0.0069068445753066015),\n",
       " (\"qu'ils\", 0.006919066026422325),\n",
       " ('jour', 0.007174983026644674)]"
      ]
     },
     "execution_count": 24,
     "metadata": {},
     "output_type": "execute_result"
    }
   ],
   "source": [
    "keywords"
   ]
  },
  {
   "cell_type": "code",
   "execution_count": 25,
   "metadata": {
    "tags": []
   },
   "outputs": [
    {
     "data": {
      "text/plain": [
       "['conseil',\n",
       " 'ville',\n",
       " 'système',\n",
       " \"qu'il\",\n",
       " 'section',\n",
       " 'dépense',\n",
       " 'faire',\n",
       " \"d'eau\",\n",
       " \"d'une\",\n",
       " \"c'est\",\n",
       " 'serait',\n",
       " 'travaux',\n",
       " 'rapport',\n",
       " \"d'un\",\n",
       " 'hardy de beaulieu',\n",
       " 'commission',\n",
       " 'rue',\n",
       " \"distribution d'eau\",\n",
       " 'question',\n",
       " 'bruxelles',\n",
       " 'eaux',\n",
       " 'section des finances',\n",
       " \"qu'il serait\",\n",
       " 'projet',\n",
       " 'collège',\n",
       " 'mètres',\n",
       " 'travaux publics',\n",
       " 'dépenses',\n",
       " 'demande',\n",
       " \"l'on\",\n",
       " 'finances',\n",
       " 'point',\n",
       " 'systèmes',\n",
       " 'francs',\n",
       " 'hardy',\n",
       " 'service',\n",
       " \"dépenses qu'il serait\",\n",
       " \"n'est\",\n",
       " \"quantité d'eau\",\n",
       " 'proposition',\n",
       " 'messieurs',\n",
       " \"d'un réservoir\",\n",
       " 'heures',\n",
       " 'beaulieu',\n",
       " 'delaveleye',\n",
       " \"d'un système\",\n",
       " 'litres',\n",
       " \"qu'ils\",\n",
       " 'jour']"
      ]
     },
     "execution_count": 25,
     "metadata": {},
     "output_type": "execute_result"
    }
   ],
   "source": [
    "# Ne garder que les bonnes mots\n",
    "kept = []\n",
    "for kw, score in keywords:\n",
    "    words = kw.split()\n",
    "    if kw.lower() not in ignored:\n",
    "        kept.append(kw)\n",
    "kept"
   ]
  },
  {
   "cell_type": "code",
   "execution_count": null,
   "metadata": {},
   "outputs": [],
   "source": []
  },
  {
   "cell_type": "markdown",
   "metadata": {},
   "source": [
    "## Faire la même opération sur tous les documents"
   ]
  },
  {
   "cell_type": "code",
   "execution_count": 19,
   "metadata": {},
   "outputs": [
    {
     "name": "stdout",
     "output_type": "stream",
     "text": [
      "Bxl_1847_Tome_I1_Part_1.txt mentions these keywords: marchés couverts, d'un marché, marché couvert, nouveau marché, marché dans, marché saint-jean, marché projeté, marchés actuels, marchés marché...\n",
      "Bxl_1847_Tome_I1_Part_2.txt mentions these keywords: belgique communale, l'administration communale...\n",
      "Bxl_1847_Tome_I1_Part_3.txt mentions these keywords: rue royale, bons communaux, d'un marché, d'une place, qu'il faut...\n",
      "Bxl_1847_Tome_I1_Part_4.txt mentions these keywords: rue royale, l'instruction primaire, qu'il faut, loi communale, rue duquesnoy, conseil provincial...\n",
      "Bxl_1847_Tome_I1_Part_5.txt mentions these keywords: parce qu'il, qu'il faut...\n",
      "Bxl_1848_Tome_I1_Part_1.txt mentions these keywords: d'un conseil, ouvriers patentés, qu'il faut...\n",
      "Bxl_1848_Tome_I1_Part_2.txt mentions these keywords: qu'il serait, hectolitres d'eau, travaux publics, mètre cube, société civile...\n",
      "Bxl_1848_Tome_I1_Part_3.txt mentions these keywords: distribution d'eau, qu'il serait, travaux publics, quantité d'eau, d'un réservoir, d'un système...\n",
      "Bxl_1849_Tome_I1_Part_1.txt mentions these keywords: règlement général, règlement organique, grandes caves...\n",
      "Bxl_1849_Tome_I1_Part_2.txt mentions these keywords: voie publique, travaux publics, présent règlement, conseil central, rue royale...\n"
     ]
    }
   ],
   "source": [
    "for f in sorted(bxl_files)[:10]:\n",
    "    text = open(os.path.join(data_path, f), 'r').read()\n",
    "    keywords = kw_extractor.extract_keywords(text.lower())\n",
    "    kept = []\n",
    "    for kw, score in keywords:\n",
    "        words = kw.split()\n",
    "        if len(words) == 2 and kw.lower() not in ignored:\n",
    "            kept.append(kw)\n",
    "    print(f\"{f} mentions these keywords: {', '.join(kept)}...\")"
   ]
  },
  {
   "cell_type": "code",
   "execution_count": null,
   "metadata": {},
   "outputs": [],
   "source": []
  }
 ],
 "metadata": {
  "kernelspec": {
   "display_name": "Python 3 (ipykernel)",
   "language": "python",
   "name": "python3"
  },
  "language_info": {
   "codemirror_mode": {
    "name": "ipython",
    "version": 3
   },
   "file_extension": ".py",
   "mimetype": "text/x-python",
   "name": "python",
   "nbconvert_exporter": "python",
   "pygments_lexer": "ipython3",
   "version": "3.9.7"
  }
 },
 "nbformat": 4,
 "nbformat_minor": 4
}

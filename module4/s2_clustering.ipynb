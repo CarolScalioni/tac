{
 "cells": [
  {
   "cell_type": "markdown",
   "metadata": {},
   "source": [
    "# Clustering de documents"
   ]
  },
  {
   "cell_type": "markdown",
   "metadata": {},
   "source": [
    "## Imports"
   ]
  },
  {
   "cell_type": "code",
   "execution_count": 1,
   "metadata": {},
   "outputs": [],
   "source": [
    "import collections\n",
    "import os\n",
    "import string\n",
    "import sys\n",
    "\n",
    "import pandas as pd\n",
    "from nltk import word_tokenize\n",
    "from nltk.corpus import stopwords\n",
    "from pprint import pprint\n",
    "from sklearn.cluster import KMeans\n",
    "from sklearn.feature_extraction.text import TfidfVectorizer\n",
    "from sklearn.decomposition import PCA\n",
    "import numpy as np\n",
    "import matplotlib.pyplot as plt\n",
    "from scipy.spatial.distance import cosine"
   ]
  },
  {
   "cell_type": "code",
   "execution_count": 2,
   "metadata": {},
   "outputs": [
    {
     "name": "stderr",
     "output_type": "stream",
     "text": [
      "[nltk_data] Downloading package punkt to /root/nltk_data...\n",
      "[nltk_data]   Package punkt is already up-to-date!\n"
     ]
    },
    {
     "data": {
      "text/plain": [
       "True"
      ]
     },
     "execution_count": 2,
     "metadata": {},
     "output_type": "execute_result"
    }
   ],
   "source": [
    "import nltk\n",
    "\n",
    "nltk.download('punkt')"
   ]
  },
  {
   "cell_type": "code",
   "execution_count": 3,
   "metadata": {},
   "outputs": [],
   "source": [
    "data_path = \"../data/txt/\""
   ]
  },
  {
   "cell_type": "markdown",
   "metadata": {},
   "source": [
    "## Choisir une décennie"
   ]
  },
  {
   "cell_type": "code",
   "execution_count": 84,
   "metadata": {},
   "outputs": [],
   "source": [
    "DECADE = '1960'"
   ]
  },
  {
   "cell_type": "markdown",
   "metadata": {
    "tags": []
   },
   "source": [
    "## Charger tous les  fichiers de la décennie et en créer une liste de textes"
   ]
  },
  {
   "cell_type": "code",
   "execution_count": 85,
   "metadata": {
    "tags": []
   },
   "outputs": [],
   "source": [
    "files = [f for f in sorted(os.listdir(data_path)) if f\"_{DECADE[:-1]}\" in f]"
   ]
  },
  {
   "cell_type": "code",
   "execution_count": 86,
   "metadata": {},
   "outputs": [
    {
     "data": {
      "text/plain": [
       "['Bxl_1960_Tome_II1_Part_1.txt',\n",
       " 'Bxl_1960_Tome_II1_Part_2.txt',\n",
       " 'Bxl_1960_Tome_II1_Part_3.txt',\n",
       " 'Bxl_1960_Tome_II1_Part_4.txt',\n",
       " 'Bxl_1960_Tome_II1_Part_5.txt']"
      ]
     },
     "execution_count": 86,
     "metadata": {},
     "output_type": "execute_result"
    }
   ],
   "source": [
    "# Exemple de fichiers\n",
    "files[:5]"
   ]
  },
  {
   "cell_type": "markdown",
   "metadata": {},
   "source": [
    "### Explore "
   ]
  },
  {
   "cell_type": "code",
   "execution_count": 87,
   "metadata": {},
   "outputs": [
    {
     "data": {
      "text/plain": [
       "420"
      ]
     },
     "execution_count": 87,
     "metadata": {},
     "output_type": "execute_result"
    }
   ],
   "source": [
    "len(files)"
   ]
  },
  {
   "cell_type": "code",
   "execution_count": 7,
   "metadata": {},
   "outputs": [],
   "source": [
    "texts = [open(data_path + f).read() for f in files]"
   ]
  },
  {
   "cell_type": "code",
   "execution_count": 8,
   "metadata": {},
   "outputs": [
    {
     "data": {
      "text/plain": [
       "'— 797 —\\nLa répartition des décès par â g e donne :\\n0 à 15 jours, 2 ; 16 à 30 jours, 2 ; 1 à 3 mois, 4 ; 4 à 6 mois, 9 ;\\n7 à 12 mois, 31 ; 1 à 2 ans, 40 ; 3 à 5 ans, 18 ; 6 à 10 ans, 4 ;\\n20 à 30 ans, 2; 31 à 35 ans, 2 ; 36 à 40 ans, 3 ; 41 à 45 ans, 4 ;\\n46 à 50 ans, 5 ; 51 à 55 ans, 3 ; 56 à 60 ans, 5 ; 61 à 65 ans, 15;\\n66.à 70 ans, 12 ;. 71 à 75 ans, 15 ; 76 à 80 ans, 18 ; 81 à 85\\nans, 16; 8 6 à 9'"
      ]
     },
     "execution_count": 8,
     "metadata": {},
     "output_type": "execute_result"
    }
   ],
   "source": [
    "# Exemple de textes\n",
    "texts[20][:400]"
   ]
  },
  {
   "cell_type": "markdown",
   "metadata": {},
   "source": [
    "## Vectoriser les documents à l'aide de TF-IDF"
   ]
  },
  {
   "cell_type": "code",
   "execution_count": 9,
   "metadata": {},
   "outputs": [],
   "source": [
    "# Création d'une fonction de pré-traitement\n",
    "def preprocessing(text, stem=True):\n",
    "    \"\"\" Tokenize text and remove punctuation \"\"\"\n",
    "    text = text.translate(string.punctuation)\n",
    "    tokens = word_tokenize(text)\n",
    "    return tokens"
   ]
  },
  {
   "cell_type": "markdown",
   "metadata": {},
   "source": [
    "### Instancier le modèle TF-IDF avec ses arguments"
   ]
  },
  {
   "cell_type": "code",
   "execution_count": 10,
   "metadata": {},
   "outputs": [],
   "source": [
    "vectorizer = TfidfVectorizer(\n",
    "    tokenizer=preprocessing,\n",
    "    stop_words=stopwords.words('french'),\n",
    "    max_df=0.5,\n",
    "    min_df=0.1,\n",
    "    lowercase=True)"
   ]
  },
  {
   "cell_type": "markdown",
   "metadata": {},
   "source": [
    "### Construire la matrice de vecteurs à l'aide de la fonction `fit_transform`"
   ]
  },
  {
   "cell_type": "code",
   "execution_count": 11,
   "metadata": {},
   "outputs": [
    {
     "name": "stdout",
     "output_type": "stream",
     "text": [
      "CPU times: user 1min 6s, sys: 0 ns, total: 1min 6s\n",
      "Wall time: 1min 6s\n"
     ]
    }
   ],
   "source": [
    "%time tfidf_vectors = vectorizer.fit_transform(texts)"
   ]
  },
  {
   "cell_type": "code",
   "execution_count": 12,
   "metadata": {},
   "outputs": [
    {
     "data": {
      "text/plain": [
       "<170x7097 sparse matrix of type '<class 'numpy.float64'>'\n",
       "\twith 252381 stored elements in Compressed Sparse Row format>"
      ]
     },
     "execution_count": 12,
     "metadata": {},
     "output_type": "execute_result"
    }
   ],
   "source": [
    "# Détail de la matrice\n",
    "tfidf_vectors"
   ]
  },
  {
   "cell_type": "markdown",
   "metadata": {},
   "source": [
    "### Imprimer le vecteur tf-IDF du premier document"
   ]
  },
  {
   "cell_type": "code",
   "execution_count": 13,
   "metadata": {},
   "outputs": [
    {
     "data": {
      "text/plain": [
       "enseignant          0.194609\n",
       "perfectionnement    0.160739\n",
       "theodor             0.151363\n",
       "l'honorable         0.140094\n",
       "sacrés              0.129844\n",
       "                      ...   \n",
       "dit-il              0.000000\n",
       "distribués          0.000000\n",
       "distribuées         0.000000\n",
       "distribué           0.000000\n",
       "™                   0.000000\n",
       "Length: 7097, dtype: float64"
      ]
     },
     "execution_count": 13,
     "metadata": {},
     "output_type": "execute_result"
    }
   ],
   "source": [
    "pd.Series(\n",
    "    tfidf_vectors[0].toarray()[0],\n",
    "    index=vectorizer.get_feature_names_out()\n",
    "    ).sort_values(ascending=False)"
   ]
  },
  {
   "cell_type": "markdown",
   "metadata": {},
   "source": [
    "## Comprendre les vecteurs et leurs \"distances\""
   ]
  },
  {
   "cell_type": "code",
   "execution_count": 14,
   "metadata": {},
   "outputs": [
    {
     "data": {
      "text/plain": [
       "0"
      ]
     },
     "execution_count": 14,
     "metadata": {},
     "output_type": "execute_result"
    }
   ],
   "source": [
    "cosine([1, 2, 3], [1, 2, 3])"
   ]
  },
  {
   "cell_type": "code",
   "execution_count": 15,
   "metadata": {},
   "outputs": [
    {
     "data": {
      "text/plain": [
       "0.02004211298777725"
      ]
     },
     "execution_count": 15,
     "metadata": {},
     "output_type": "execute_result"
    }
   ],
   "source": [
    "cosine([1, 2, 3], [1, 2, 2])"
   ]
  },
  {
   "cell_type": "code",
   "execution_count": 16,
   "metadata": {},
   "outputs": [
    {
     "data": {
      "text/plain": [
       "0.07417990022744858"
      ]
     },
     "execution_count": 16,
     "metadata": {},
     "output_type": "execute_result"
    }
   ],
   "source": [
    "cosine([1, 2, 3], [2, 2, 2])"
   ]
  },
  {
   "cell_type": "markdown",
   "metadata": {},
   "source": [
    "### Tests sur nos documents"
   ]
  },
  {
   "cell_type": "code",
   "execution_count": 17,
   "metadata": {},
   "outputs": [],
   "source": [
    "tfidf_array = tfidf_vectors.toarray()"
   ]
  },
  {
   "cell_type": "code",
   "execution_count": 18,
   "metadata": {},
   "outputs": [
    {
     "data": {
      "text/plain": [
       "array([0., 0., 0., ..., 0., 0., 0.])"
      ]
     },
     "execution_count": 18,
     "metadata": {},
     "output_type": "execute_result"
    }
   ],
   "source": [
    "# Vecteur du document 0\n",
    "tfidf_array[0]"
   ]
  },
  {
   "cell_type": "code",
   "execution_count": 19,
   "metadata": {},
   "outputs": [
    {
     "data": {
      "text/plain": [
       "array([0.        , 0.01001937, 0.        , ..., 0.        , 0.        ,\n",
       "       0.        ])"
      ]
     },
     "execution_count": 19,
     "metadata": {},
     "output_type": "execute_result"
    }
   ],
   "source": [
    "# Vecteur du document 1\n",
    "tfidf_array[1]"
   ]
  },
  {
   "cell_type": "code",
   "execution_count": 20,
   "metadata": {},
   "outputs": [
    {
     "data": {
      "text/plain": [
       "0.712899401391456"
      ]
     },
     "execution_count": 20,
     "metadata": {},
     "output_type": "execute_result"
    }
   ],
   "source": [
    "cosine(tfidf_array[0], tfidf_array[1])"
   ]
  },
  {
   "cell_type": "markdown",
   "metadata": {},
   "source": [
    "## Appliquer un algorithme de clustering sur les vecteurs TF-IDF des documents"
   ]
  },
  {
   "cell_type": "markdown",
   "metadata": {},
   "source": [
    "Pour en savoir plus sur le KMeans clustering :\n",
    "- https://medium.com/dataseries/k-means-clustering-explained-visually-in-5-minutes-b900cc69d175"
   ]
  },
  {
   "cell_type": "markdown",
   "metadata": {},
   "source": [
    "### Définir un nombre de clusters"
   ]
  },
  {
   "cell_type": "code",
   "execution_count": 21,
   "metadata": {},
   "outputs": [],
   "source": [
    "N_CLUSTERS = 3"
   ]
  },
  {
   "cell_type": "markdown",
   "metadata": {},
   "source": [
    "### Instancier le modèle K-Means et ses arguments"
   ]
  },
  {
   "cell_type": "code",
   "execution_count": 22,
   "metadata": {},
   "outputs": [],
   "source": [
    "km_model = KMeans(n_clusters=N_CLUSTERS, random_state=20)"
   ]
  },
  {
   "cell_type": "markdown",
   "metadata": {},
   "source": [
    "### Appliquer le clustering à l'aide de la fonction `fit_predict`"
   ]
  },
  {
   "cell_type": "code",
   "execution_count": 23,
   "metadata": {},
   "outputs": [],
   "source": [
    "clusters = km_model.fit_predict(tfidf_vectors)"
   ]
  },
  {
   "cell_type": "code",
   "execution_count": 24,
   "metadata": {},
   "outputs": [],
   "source": [
    "clustering = collections.defaultdict(list)\n",
    "\n",
    "for idx, label in enumerate(clusters):\n",
    "    clustering[label].append(files[idx])"
   ]
  },
  {
   "cell_type": "code",
   "execution_count": 25,
   "metadata": {
    "tags": []
   },
   "outputs": [
    {
     "name": "stdout",
     "output_type": "stream",
     "text": [
      "{0: ['Bxl_1910_Tome_I1_Part_8.txt',\n",
      "     'Bxl_1910_Tome_I2_1_Part_10.txt',\n",
      "     'Bxl_1910_Tome_I2_1_Part_11.txt',\n",
      "     'Bxl_1910_Tome_I2_1_Part_12.txt',\n",
      "     'Bxl_1910_Tome_I2_1_Part_13.txt',\n",
      "     'Bxl_1910_Tome_I2_1_Part_2.txt',\n",
      "     'Bxl_1910_Tome_I2_1_Part_3.txt',\n",
      "     'Bxl_1910_Tome_I2_1_Part_5.txt',\n",
      "     'Bxl_1910_Tome_I2_1_Part_8.txt',\n",
      "     'Bxl_1910_Tome_I2_1_Part_9.txt',\n",
      "     'Bxl_1910_Tome_I2_2_Part_1.txt',\n",
      "     'Bxl_1910_Tome_I2_2_Part_10.txt',\n",
      "     'Bxl_1910_Tome_I2_2_Part_11.txt',\n",
      "     'Bxl_1910_Tome_I2_2_Part_12.txt',\n",
      "     'Bxl_1910_Tome_I2_2_Part_8.txt',\n",
      "     'Bxl_1910_Tome_I2_2_Part_9.txt',\n",
      "     'Bxl_1911_Tome_I1_Part_13.txt',\n",
      "     'Bxl_1911_Tome_I1_Part_3.txt',\n",
      "     'Bxl_1911_Tome_I1_Part_4.txt',\n",
      "     'Bxl_1911_Tome_I1_Part_7.txt',\n",
      "     'Bxl_1911_Tome_I2_1_Part_10.txt',\n",
      "     'Bxl_1911_Tome_I2_1_Part_2.txt',\n",
      "     'Bxl_1911_Tome_I2_1_Part_5.txt',\n",
      "     'Bxl_1911_Tome_I2_1_Part_6.txt',\n",
      "     'Bxl_1911_Tome_I2_1_Part_7.txt',\n",
      "     'Bxl_1911_Tome_I2_1_Part_8.txt',\n",
      "     'Bxl_1911_Tome_I2_1_Part_9.txt',\n",
      "     'Bxl_1911_Tome_I2_2_Part_1.txt',\n",
      "     'Bxl_1911_Tome_I2_2_Part_10.txt',\n",
      "     'Bxl_1911_Tome_I2_2_Part_11.txt',\n",
      "     'Bxl_1911_Tome_I2_2_Part_2.txt',\n",
      "     'Bxl_1911_Tome_I2_2_Part_3.txt',\n",
      "     'Bxl_1911_Tome_I2_2_Part_8.txt',\n",
      "     'Bxl_1911_Tome_I2_2_Part_9.txt',\n",
      "     'Bxl_1911_Tome_II1_Part_4.txt',\n",
      "     'Bxl_1912_Tome_I1_2_Part_1.txt',\n",
      "     'Bxl_1912_Tome_I1_2_Part_2.txt',\n",
      "     'Bxl_1912_Tome_I1_2_Part_3.txt',\n",
      "     'Bxl_1912_Tome_I1_2_Part_7.txt',\n",
      "     'Bxl_1912_Tome_I2_1_Part_10.txt',\n",
      "     'Bxl_1912_Tome_I2_1_Part_3.txt',\n",
      "     'Bxl_1912_Tome_I2_1_Part_6.txt',\n",
      "     'Bxl_1912_Tome_I2_1_Part_7.txt',\n",
      "     'Bxl_1912_Tome_I2_1_Part_8.txt',\n",
      "     'Bxl_1912_Tome_I2_1_Part_9.txt',\n",
      "     'Bxl_1912_Tome_I2_2_Part_1.txt',\n",
      "     'Bxl_1912_Tome_I2_2_Part_10.txt',\n",
      "     'Bxl_1912_Tome_I2_2_Part_11.txt',\n",
      "     'Bxl_1912_Tome_I2_2_Part_12.txt',\n",
      "     'Bxl_1912_Tome_I2_2_Part_2.txt',\n",
      "     'Bxl_1912_Tome_I2_2_Part_8.txt',\n",
      "     'Bxl_1912_Tome_I2_2_Part_9.txt',\n",
      "     'Bxl_1913_Tome_I1_Part_12.txt',\n",
      "     'Bxl_1913_Tome_I1_Part_7.txt',\n",
      "     'Bxl_1913_Tome_I1_Part_8.txt',\n",
      "     'Bxl_1913_Tome_I1_Part_9.txt',\n",
      "     'Bxl_1913_Tome_I2_1_Part_10.txt',\n",
      "     'Bxl_1913_Tome_I2_1_Part_5.txt',\n",
      "     'Bxl_1913_Tome_I2_1_Part_6.txt',\n",
      "     'Bxl_1913_Tome_I2_1_Part_7.txt',\n",
      "     'Bxl_1913_Tome_I2_1_Part_8.txt',\n",
      "     'Bxl_1913_Tome_I2_1_Part_9.txt',\n",
      "     'Bxl_1913_Tome_I2_2_Part_1.txt',\n",
      "     'Bxl_1913_Tome_I2_2_Part_10.txt',\n",
      "     'Bxl_1913_Tome_I2_2_Part_11.txt',\n",
      "     'Bxl_1913_Tome_I2_2_Part_7.txt',\n",
      "     'Bxl_1913_Tome_I2_2_Part_8.txt',\n",
      "     'Bxl_1913_Tome_I2_2_Part_9.txt',\n",
      "     'Bxl_1913_Tome_II1_Part_3.txt',\n",
      "     'Bxl_1914_Tome_II1_Part_2.txt',\n",
      "     'Bxl_1915_Tome_II1_Part_1.txt',\n",
      "     'Bxl_1915_Tome_II1_Part_2.txt',\n",
      "     'Bxl_1919_Tome_I2_2_Part_1.txt',\n",
      "     'Bxl_1919_Tome_I2_2_Part_10.txt',\n",
      "     'Bxl_1919_Tome_I2_2_Part_2.txt',\n",
      "     'Bxl_1919_Tome_I2_2_Part_6.txt',\n",
      "     'Bxl_1919_Tome_I2_2_Part_7.txt',\n",
      "     'Bxl_1919_Tome_I2_2_Part_8.txt',\n",
      "     'Bxl_1919_Tome_I2_2_Part_9.txt',\n",
      "     'Bxl_1919_Tome_budget_Part_1.txt',\n",
      "     'Bxl_1919_Tome_budget_Part_2.txt',\n",
      "     'Bxl_1919_Tome_budget_Part_3.txt',\n",
      "     'Bxl_1919_Tome_budget_Part_4.txt'],\n",
      " 1: ['Bxl_1910_Tome_I1_Part_1.txt',\n",
      "     'Bxl_1910_Tome_I1_Part_2.txt',\n",
      "     'Bxl_1910_Tome_I1_Part_3.txt',\n",
      "     'Bxl_1910_Tome_I1_Part_4.txt',\n",
      "     'Bxl_1910_Tome_I1_Part_5.txt',\n",
      "     'Bxl_1910_Tome_I1_Part_6.txt',\n",
      "     'Bxl_1910_Tome_I1_Part_7.txt',\n",
      "     'Bxl_1910_Tome_I2_1_Part_1.txt',\n",
      "     'Bxl_1910_Tome_I2_1_Part_4.txt',\n",
      "     'Bxl_1910_Tome_I2_1_Part_6.txt',\n",
      "     'Bxl_1910_Tome_I2_1_Part_7.txt',\n",
      "     'Bxl_1910_Tome_I2_2_Part_2.txt',\n",
      "     'Bxl_1910_Tome_I2_2_Part_3.txt',\n",
      "     'Bxl_1910_Tome_I2_2_Part_4.txt',\n",
      "     'Bxl_1910_Tome_I2_2_Part_5.txt',\n",
      "     'Bxl_1910_Tome_I2_2_Part_6.txt',\n",
      "     'Bxl_1910_Tome_I2_2_Part_7.txt',\n",
      "     'Bxl_1911_Tome_I1_Part_1.txt',\n",
      "     'Bxl_1911_Tome_I1_Part_10.txt',\n",
      "     'Bxl_1911_Tome_I1_Part_11.txt',\n",
      "     'Bxl_1911_Tome_I1_Part_12.txt',\n",
      "     'Bxl_1911_Tome_I1_Part_2.txt',\n",
      "     'Bxl_1911_Tome_I1_Part_5.txt',\n",
      "     'Bxl_1911_Tome_I1_Part_6.txt',\n",
      "     'Bxl_1911_Tome_I1_Part_8.txt',\n",
      "     'Bxl_1911_Tome_I1_Part_9.txt',\n",
      "     'Bxl_1911_Tome_I2_1_Part_1.txt',\n",
      "     'Bxl_1911_Tome_I2_1_Part_3.txt',\n",
      "     'Bxl_1911_Tome_I2_1_Part_4.txt',\n",
      "     'Bxl_1911_Tome_I2_2_Part_4.txt',\n",
      "     'Bxl_1911_Tome_I2_2_Part_5.txt',\n",
      "     'Bxl_1911_Tome_I2_2_Part_6.txt',\n",
      "     'Bxl_1911_Tome_I2_2_Part_7.txt',\n",
      "     'Bxl_1912_Tome_I1_1_Part_1.txt',\n",
      "     'Bxl_1912_Tome_I1_1_Part_2.txt',\n",
      "     'Bxl_1912_Tome_I1_1_Part_3.txt',\n",
      "     'Bxl_1912_Tome_I1_1_Part_4.txt',\n",
      "     'Bxl_1912_Tome_I1_1_Part_5.txt',\n",
      "     'Bxl_1912_Tome_I1_1_Part_6.txt',\n",
      "     'Bxl_1912_Tome_I1_2_Part_4.txt',\n",
      "     'Bxl_1912_Tome_I1_2_Part_5.txt',\n",
      "     'Bxl_1912_Tome_I1_2_Part_6.txt',\n",
      "     'Bxl_1912_Tome_I2_1_Part_1.txt',\n",
      "     'Bxl_1912_Tome_I2_1_Part_2.txt',\n",
      "     'Bxl_1912_Tome_I2_1_Part_4.txt',\n",
      "     'Bxl_1912_Tome_I2_1_Part_5.txt',\n",
      "     'Bxl_1912_Tome_I2_2_Part_3.txt',\n",
      "     'Bxl_1912_Tome_I2_2_Part_4.txt',\n",
      "     'Bxl_1912_Tome_I2_2_Part_5.txt',\n",
      "     'Bxl_1912_Tome_I2_2_Part_6.txt',\n",
      "     'Bxl_1912_Tome_I2_2_Part_7.txt',\n",
      "     'Bxl_1913_Tome_I1_Part_1.txt',\n",
      "     'Bxl_1913_Tome_I1_Part_10.txt',\n",
      "     'Bxl_1913_Tome_I1_Part_11.txt',\n",
      "     'Bxl_1913_Tome_I1_Part_2.txt',\n",
      "     'Bxl_1913_Tome_I1_Part_3.txt',\n",
      "     'Bxl_1913_Tome_I1_Part_4.txt',\n",
      "     'Bxl_1913_Tome_I1_Part_5.txt',\n",
      "     'Bxl_1913_Tome_I1_Part_6.txt',\n",
      "     'Bxl_1913_Tome_I2_1_Part_1.txt',\n",
      "     'Bxl_1913_Tome_I2_1_Part_2.txt',\n",
      "     'Bxl_1913_Tome_I2_1_Part_3.txt',\n",
      "     'Bxl_1913_Tome_I2_1_Part_4.txt',\n",
      "     'Bxl_1913_Tome_I2_2_Part_2.txt',\n",
      "     'Bxl_1913_Tome_I2_2_Part_3.txt',\n",
      "     'Bxl_1913_Tome_I2_2_Part_4.txt',\n",
      "     'Bxl_1913_Tome_I2_2_Part_5.txt',\n",
      "     'Bxl_1913_Tome_I2_2_Part_6.txt',\n",
      "     'Bxl_1915_Tome_II1_Part_3.txt',\n",
      "     'Bxl_1915_Tome_II1_Part_4.txt',\n",
      "     'Bxl_1915_Tome_II1_Part_5.txt',\n",
      "     'Bxl_1918_Tome_I2_Part_1.txt',\n",
      "     'Bxl_1919_Tome_I2_2_Part_3.txt',\n",
      "     'Bxl_1919_Tome_I2_2_Part_4.txt',\n",
      "     'Bxl_1919_Tome_I2_2_Part_5.txt'],\n",
      " 2: ['Bxl_1910_Tome_II1_Part_1.txt',\n",
      "     'Bxl_1910_Tome_II1_Part_2.txt',\n",
      "     'Bxl_1910_Tome_II1_Part_3.txt',\n",
      "     'Bxl_1911_Tome_II1_Part_1.txt',\n",
      "     'Bxl_1911_Tome_II1_Part_2.txt',\n",
      "     'Bxl_1911_Tome_II1_Part_3.txt',\n",
      "     'Bxl_1912_Tome_II1_Part_1.txt',\n",
      "     'Bxl_1912_Tome_II1_Part_2.txt',\n",
      "     'Bxl_1912_Tome_II1_Part_3.txt',\n",
      "     'Bxl_1913_Tome_II1_Part_1.txt',\n",
      "     'Bxl_1913_Tome_II1_Part_2.txt',\n",
      "     'Bxl_1914_Tome_II1_Part_1.txt']}\n"
     ]
    }
   ],
   "source": [
    "pprint(dict(clustering))"
   ]
  },
  {
   "cell_type": "markdown",
   "metadata": {},
   "source": [
    "## Visualiser les clusters"
   ]
  },
  {
   "cell_type": "markdown",
   "metadata": {},
   "source": [
    "### Réduire les vecteurs à 2 dimensions à l'aide de l'algorithme PCA\n",
    "Cette étape est nécessaire afin de visualiser les documents dans un espace 2D\n",
    "\n",
    "https://fr.wikipedia.org/wiki/Analyse_en_composantes_principales"
   ]
  },
  {
   "cell_type": "code",
   "execution_count": 32,
   "metadata": {},
   "outputs": [],
   "source": [
    "pca = PCA(n_components=2)\n",
    "reduced_vectors = pca.fit_transform(tfidf_vectors.toarray())"
   ]
  },
  {
   "cell_type": "code",
   "execution_count": 33,
   "metadata": {},
   "outputs": [
    {
     "data": {
      "text/plain": [
       "array([[-0.2955819 ,  0.02959078],\n",
       "       [-0.21128848,  0.00860193],\n",
       "       [-0.07379459, -0.02809193],\n",
       "       [-0.31098704,  0.09738812],\n",
       "       [-0.1772204 ,  0.04690493],\n",
       "       [-0.32507992,  0.11746309],\n",
       "       [-0.13385891,  0.0042045 ],\n",
       "       [ 0.08310671, -0.07100824],\n",
       "       [-0.23321684, -0.02376708],\n",
       "       [ 0.15925988, -0.1098592 ]])"
      ]
     },
     "execution_count": 33,
     "metadata": {},
     "output_type": "execute_result"
    }
   ],
   "source": [
    "reduced_vectors[:10]"
   ]
  },
  {
   "cell_type": "markdown",
   "metadata": {},
   "source": [
    "### Générer le plot"
   ]
  },
  {
   "cell_type": "code",
   "execution_count": 34,
   "metadata": {},
   "outputs": [
    {
     "data": {
      "text/plain": [
       "<matplotlib.legend.Legend at 0x7f6535a5e340>"
      ]
     },
     "execution_count": 34,
     "metadata": {},
     "output_type": "execute_result"
    },
    {
     "data": {
      "image/png": "[encoded data removed]",
      "text/plain": [
       "<Figure size 720x720 with 1 Axes>"
      ]
     },
     "metadata": {
      "needs_background": "light"
     },
     "output_type": "display_data"
    }
   ],
   "source": [
    "x_axis = reduced_vectors[:, 0]\n",
    "y_axis = reduced_vectors[:, 1]\n",
    "\n",
    "plt.figure(figsize=(10,10))\n",
    "scatter = plt.scatter(x_axis, y_axis, s=100, c=clusters)\n",
    "\n",
    "# Ajouter les centroïdes\n",
    "centroids = pca.transform(km_model.cluster_centers_)\n",
    "plt.scatter(centroids[:, 0], centroids[:, 1],  marker = \"x\", s=100, linewidths = 2, color='black')\n",
    "\n",
    "# Ajouter la légende\n",
    "plt.legend(handles=scatter.legend_elements()[0], labels=set(clusters), title=\"Clusters\")"
   ]
  },
  {
   "cell_type": "code",
   "execution_count": null,
   "metadata": {},
   "outputs": [],
   "source": []
  }
 ],
 "metadata": {
  "kernelspec": {
   "display_name": "Python 3 (ipykernel)",
   "language": "python",
   "name": "python3"
  },
  "language_info": {
   "codemirror_mode": {
    "name": "ipython",
    "version": 3
   },
   "file_extension": ".py",
   "mimetype": "text/x-python",
   "name": "python",
   "nbconvert_exporter": "python",
   "pygments_lexer": "ipython3",
   "version": "3.9.7"
  }
 },
 "nbformat": 4,
 "nbformat_minor": 4
}

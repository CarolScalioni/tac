{
 "cells": [
  {
   "cell_type": "markdown",
   "id": "cb14187d-f3de-4643-9bfd-ffb3c652b1cf",
   "metadata": {},
   "source": [
    "##TESTE\n"
   ]
  },
  {
   "cell_type": "markdown",
   "id": "933d8946-e274-4299-bb6b-10e65493f375",
   "metadata": {},
   "source": []
  }
 ],
 "metadata": {
  "kernelspec": {
   "display_name": "Python 3 (ipykernel)",
   "language": "python",
   "name": "python3"
  },
  "language_info": {
   "codemirror_mode": {
    "name": "ipython",
    "version": 3
   },
   "file_extension": ".py",
   "mimetype": "text/x-python",
   "name": "python",
   "nbconvert_exporter": "python",
   "pygments_lexer": "ipython3",
   "version": "3.9.7"
  }
 },
 "nbformat": 4,
 "nbformat_minor": 5
}
